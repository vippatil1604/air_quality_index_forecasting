{
  "nbformat": 4,
  "nbformat_minor": 0,
  "metadata": {
    "colab": {
      "name": "CC_Proj_DP.ipynb",
      "provenance": [],
      "collapsed_sections": []
    },
    "kernelspec": {
      "name": "python3",
      "display_name": "Python 3"
    },
    "language_info": {
      "name": "python"
    }
  },
  "cells": [
    {
      "cell_type": "code",
      "metadata": {
        "id": "1Bvzn3u8u7IU"
      },
      "source": [
        "!apt-get install openjdk-8-jdk-headless -qq > /dev/null\n",
        "!wget -q http://apache.mirror.amaze.com.au/spark/spark-3.0.2/spark-3.0.2-bin-hadoop3.2.tgz\n",
        "!tar xf spark-3.0.2-bin-hadoop3.2.tgz\n",
        "!pip install -q findspark"
      ],
      "execution_count": 6,
      "outputs": []
    },
    {
      "cell_type": "code",
      "metadata": {
        "id": "XG0jdlwLu-Aw"
      },
      "source": [
        "import os\n",
        "os.environ[\"JAVA_HOME\"] = \"/usr/lib/jvm/java-8-openjdk-amd64\"\n",
        "os.environ[\"SPARK_HOME\"] = \"spark-3.0.2-bin-hadoop3.2\""
      ],
      "execution_count": 7,
      "outputs": []
    },
    {
      "cell_type": "code",
      "metadata": {
        "id": "E6bV17Lzvjz5"
      },
      "source": [
        "import findspark\n",
        "findspark.init()"
      ],
      "execution_count": 8,
      "outputs": []
    },
    {
      "cell_type": "code",
      "metadata": {
        "colab": {
          "base_uri": "https://localhost:8080/",
          "height": 193
        },
        "id": "MhkeSrCQvloa",
        "outputId": "3f363f94-ca6c-4da7-8ea6-d6234ae419ea"
      },
      "source": [
        "from pyspark.sql import SparkSession\n",
        "spark = SparkSession.builder.master(\"local[*]\").getOrCreate()\n",
        "sc = spark.sparkContext\n",
        "sc"
      ],
      "execution_count": 9,
      "outputs": [
        {
          "output_type": "execute_result",
          "data": {
            "text/html": [
              "\n",
              "        <div>\n",
              "            <p><b>SparkContext</b></p>\n",
              "\n",
              "            <p><a href=\"http://c7d666011dcd:4040\">Spark UI</a></p>\n",
              "\n",
              "            <dl>\n",
              "              <dt>Version</dt>\n",
              "                <dd><code>v3.0.2</code></dd>\n",
              "              <dt>Master</dt>\n",
              "                <dd><code>local[*]</code></dd>\n",
              "              <dt>AppName</dt>\n",
              "                <dd><code>pyspark-shell</code></dd>\n",
              "            </dl>\n",
              "        </div>\n",
              "        "
            ],
            "text/plain": [
              "<SparkContext master=local[*] appName=pyspark-shell>"
            ]
          },
          "metadata": {
            "tags": []
          },
          "execution_count": 9
        }
      ]
    },
    {
      "cell_type": "code",
      "metadata": {
        "colab": {
          "base_uri": "https://localhost:8080/"
        },
        "id": "sOOCgp7Av_J0",
        "outputId": "7dd174f4-6a07-42af-fd75-b7a83cc9d783"
      },
      "source": [
        "from google.colab import drive\n",
        "drive.mount('/content/drive')"
      ],
      "execution_count": 10,
      "outputs": [
        {
          "output_type": "stream",
          "text": [
            "Mounted at /content/drive\n"
          ],
          "name": "stdout"
        }
      ]
    },
    {
      "cell_type": "code",
      "metadata": {
        "id": "tD6EImywvnCM"
      },
      "source": [
        "import pyspark.sql\n",
        "from pyspark.sql import Row\n",
        "from pyspark.sql.types import *\n",
        "import csv"
      ],
      "execution_count": 24,
      "outputs": []
    },
    {
      "cell_type": "code",
      "metadata": {
        "colab": {
          "base_uri": "https://localhost:8080/"
        },
        "id": "xtQwRqwZyauI",
        "outputId": "f1aecdbf-eda4-4b57-f5b4-7499086e612d"
      },
      "source": [
        "aqi_df = spark.read.csv(\"/content/drive/MyDrive/Colab Notebooks/CC_Project/Data/*.csv\", header=True)\n",
        "aqi_df.show()"
      ],
      "execution_count": 27,
      "outputs": [
        {
          "output_type": "stream",
          "text": [
            "+----------+-----------+----------+-----------+----------+---+--------+------------------+-------------+-------------------------+\n",
            "|State Name|county Name|State Code|County Code|      Date|AQI|Category|Defining Parameter|Defining Site|Number of Sites Reporting|\n",
            "+----------+-----------+----------+-----------+----------+---+--------+------------------+-------------+-------------------------+\n",
            "|   Alabama|    Baldwin|        01|        003|2018-01-02| 32|    Good|             PM2.5|  01-003-0010|                        1|\n",
            "|   Alabama|    Baldwin|        01|        003|2018-01-05| 34|    Good|             PM2.5|  01-003-0010|                        1|\n",
            "|   Alabama|    Baldwin|        01|        003|2018-01-08| 15|    Good|             PM2.5|  01-003-0010|                        1|\n",
            "|   Alabama|    Baldwin|        01|        003|2018-01-11| 19|    Good|             PM2.5|  01-003-0010|                        1|\n",
            "|   Alabama|    Baldwin|        01|        003|2018-01-14| 25|    Good|             PM2.5|  01-003-0010|                        1|\n",
            "|   Alabama|    Baldwin|        01|        003|2018-01-17| 23|    Good|             PM2.5|  01-003-0010|                        1|\n",
            "|   Alabama|    Baldwin|        01|        003|2018-01-20| 46|    Good|             PM2.5|  01-003-0010|                        1|\n",
            "|   Alabama|    Baldwin|        01|        003|2018-01-23| 14|    Good|             PM2.5|  01-003-0010|                        1|\n",
            "|   Alabama|    Baldwin|        01|        003|2018-01-26| 42|    Good|             PM2.5|  01-003-0010|                        1|\n",
            "|   Alabama|    Baldwin|        01|        003|2018-01-29| 15|    Good|             PM2.5|  01-003-0010|                        1|\n",
            "|   Alabama|    Baldwin|        01|        003|2018-02-01| 21|    Good|             PM2.5|  01-003-0010|                        1|\n",
            "|   Alabama|    Baldwin|        01|        003|2018-02-04| 27|    Good|             PM2.5|  01-003-0010|                        1|\n",
            "|   Alabama|    Baldwin|        01|        003|2018-02-07| 23|    Good|             PM2.5|  01-003-0010|                        1|\n",
            "|   Alabama|    Baldwin|        01|        003|2018-02-10| 21|    Good|             PM2.5|  01-003-0010|                        1|\n",
            "|   Alabama|    Baldwin|        01|        003|2018-02-13| 20|    Good|             PM2.5|  01-003-0010|                        1|\n",
            "|   Alabama|    Baldwin|        01|        003|2018-02-16| 24|    Good|             PM2.5|  01-003-0010|                        1|\n",
            "|   Alabama|    Baldwin|        01|        003|2018-02-19| 21|    Good|             PM2.5|  01-003-0010|                        1|\n",
            "|   Alabama|    Baldwin|        01|        003|2018-02-22| 31|    Good|             PM2.5|  01-003-0010|                        1|\n",
            "|   Alabama|    Baldwin|        01|        003|2018-02-25| 15|    Good|             PM2.5|  01-003-0010|                        1|\n",
            "|   Alabama|    Baldwin|        01|        003|2018-02-28| 27|    Good|             PM2.5|  01-003-0010|                        1|\n",
            "+----------+-----------+----------+-----------+----------+---+--------+------------------+-------------+-------------------------+\n",
            "only showing top 20 rows\n",
            "\n"
          ],
          "name": "stdout"
        }
      ]
    },
    {
      "cell_type": "code",
      "metadata": {
        "colab": {
          "base_uri": "https://localhost:8080/"
        },
        "id": "HImLrd7a0VOk",
        "outputId": "e73e9dba-ad6b-4352-da06-605bdc139fce"
      },
      "source": [
        "state_df = aqi_df.filter(aqi_df['State Name'] == \"Indiana\")\n",
        "state_df.take(10)"
      ],
      "execution_count": 28,
      "outputs": [
        {
          "output_type": "execute_result",
          "data": {
            "text/plain": [
              "[Row(State Name='Indiana', county Name='Allen', State Code='18', County Code='003', Date='2018-01-01', AQI='43', Category='Good', Defining Parameter='PM2.5', Defining Site='18-003-0004', Number of Sites Reporting='2'),\n",
              " Row(State Name='Indiana', county Name='Allen', State Code='18', County Code='003', Date='2018-01-02', AQI='54', Category='Moderate', Defining Parameter='PM2.5', Defining Site='18-003-0004', Number of Sites Reporting='2'),\n",
              " Row(State Name='Indiana', county Name='Allen', State Code='18', County Code='003', Date='2018-01-03', AQI='53', Category='Moderate', Defining Parameter='PM2.5', Defining Site='18-003-0004', Number of Sites Reporting='2'),\n",
              " Row(State Name='Indiana', county Name='Allen', State Code='18', County Code='003', Date='2018-01-04', AQI='33', Category='Good', Defining Parameter='Ozone', Defining Site='18-003-0002', Number of Sites Reporting='2'),\n",
              " Row(State Name='Indiana', county Name='Allen', State Code='18', County Code='003', Date='2018-01-05', AQI='56', Category='Moderate', Defining Parameter='PM2.5', Defining Site='18-003-0004', Number of Sites Reporting='2'),\n",
              " Row(State Name='Indiana', county Name='Allen', State Code='18', County Code='003', Date='2018-01-06', AQI='62', Category='Moderate', Defining Parameter='PM2.5', Defining Site='18-003-0004', Number of Sites Reporting='2'),\n",
              " Row(State Name='Indiana', county Name='Allen', State Code='18', County Code='003', Date='2018-01-07', AQI='39', Category='Good', Defining Parameter='PM2.5', Defining Site='18-003-0004', Number of Sites Reporting='2'),\n",
              " Row(State Name='Indiana', county Name='Allen', State Code='18', County Code='003', Date='2018-01-08', AQI='55', Category='Moderate', Defining Parameter='PM2.5', Defining Site='18-003-0004', Number of Sites Reporting='2'),\n",
              " Row(State Name='Indiana', county Name='Allen', State Code='18', County Code='003', Date='2018-01-09', AQI='72', Category='Moderate', Defining Parameter='PM2.5', Defining Site='18-003-0004', Number of Sites Reporting='2'),\n",
              " Row(State Name='Indiana', county Name='Allen', State Code='18', County Code='003', Date='2018-01-10', AQI='43', Category='Good', Defining Parameter='PM2.5', Defining Site='18-003-0004', Number of Sites Reporting='2')]"
            ]
          },
          "metadata": {
            "tags": []
          },
          "execution_count": 28
        }
      ]
    },
    {
      "cell_type": "code",
      "metadata": {
        "colab": {
          "base_uri": "https://localhost:8080/"
        },
        "id": "NKJR3kRE0pLr",
        "outputId": "fccb4e0c-4063-4844-8dee-84772c605365"
      },
      "source": [
        "indiana_df = state_df.select('State Name', 'State Code', 'county Name', 'County Code', 'Date', 'AQI', 'Category')\n",
        "indiana_df.take(10)"
      ],
      "execution_count": 29,
      "outputs": [
        {
          "output_type": "execute_result",
          "data": {
            "text/plain": [
              "[Row(State Name='Indiana', State Code='18', county Name='Allen', County Code='003', Date='2018-01-01', AQI='43', Category='Good'),\n",
              " Row(State Name='Indiana', State Code='18', county Name='Allen', County Code='003', Date='2018-01-02', AQI='54', Category='Moderate'),\n",
              " Row(State Name='Indiana', State Code='18', county Name='Allen', County Code='003', Date='2018-01-03', AQI='53', Category='Moderate'),\n",
              " Row(State Name='Indiana', State Code='18', county Name='Allen', County Code='003', Date='2018-01-04', AQI='33', Category='Good'),\n",
              " Row(State Name='Indiana', State Code='18', county Name='Allen', County Code='003', Date='2018-01-05', AQI='56', Category='Moderate'),\n",
              " Row(State Name='Indiana', State Code='18', county Name='Allen', County Code='003', Date='2018-01-06', AQI='62', Category='Moderate'),\n",
              " Row(State Name='Indiana', State Code='18', county Name='Allen', County Code='003', Date='2018-01-07', AQI='39', Category='Good'),\n",
              " Row(State Name='Indiana', State Code='18', county Name='Allen', County Code='003', Date='2018-01-08', AQI='55', Category='Moderate'),\n",
              " Row(State Name='Indiana', State Code='18', county Name='Allen', County Code='003', Date='2018-01-09', AQI='72', Category='Moderate'),\n",
              " Row(State Name='Indiana', State Code='18', county Name='Allen', County Code='003', Date='2018-01-10', AQI='43', Category='Good')]"
            ]
          },
          "metadata": {
            "tags": []
          },
          "execution_count": 29
        }
      ]
    },
    {
      "cell_type": "code",
      "metadata": {
        "id": "Gooyn-4G3zFh"
      },
      "source": [
        "indiana_df.toPandas().to_csv('/content/drive/MyDrive/Colab Notebooks/CC_Project/CSVs/aqi_dataset.csv', index=False, header=True)"
      ],
      "execution_count": 31,
      "outputs": []
    }
  ]
}