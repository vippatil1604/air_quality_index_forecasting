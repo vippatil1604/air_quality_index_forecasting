{
  "nbformat": 4,
  "nbformat_minor": 0,
  "metadata": {
    "colab": {
      "name": "ARIMA.ipynb",
      "provenance": [],
      "collapsed_sections": [],
      "toc_visible": true,
      "mount_file_id": "1vxA5RpDd4TYuwvP_kPpV5tRImYY6MrF6",
      "authorship_tag": "ABX9TyN/qNYtQYsSAdJE+fkyf888",
      "include_colab_link": true
    },
    "kernelspec": {
      "name": "python3",
      "display_name": "Python 3"
    },
    "language_info": {
      "name": "python"
    }
  },
  "cells": [
    {
      "cell_type": "markdown",
      "metadata": {
        "id": "view-in-github",
        "colab_type": "text"
      },
      "source": [
        "<a href=\"https://colab.research.google.com/github/vippatil1604/air_quality_index_forecasting/blob/main/ARIMA.ipynb\" target=\"_parent\"><img src=\"https://colab.research.google.com/assets/colab-badge.svg\" alt=\"Open In Colab\"/></a>"
      ]
    },
    {
      "cell_type": "code",
      "metadata": {
        "id": "S52GI7QlG381"
      },
      "source": [
        "!apt-get install openjdk-8-jdk-headless -qq > /dev/null\n",
        "!wget -q http://apache.mirror.amaze.com.au/spark/spark-3.0.2/spark-3.0.2-bin-hadoop3.2.tgz\n",
        "!tar xf spark-3.0.2-bin-hadoop3.2.tgz\n",
        "!pip install -q findspark"
      ],
      "execution_count": 1,
      "outputs": []
    },
    {
      "cell_type": "code",
      "metadata": {
        "id": "I8_PtGw9HcX6"
      },
      "source": [
        "import os\n",
        "os.environ[\"JAVA_HOME\"] = \"/usr/lib/jvm/java-8-openjdk-amd64\"\n",
        "os.environ[\"SPARK_HOME\"] = \"spark-3.0.2-bin-hadoop3.2\""
      ],
      "execution_count": 2,
      "outputs": []
    },
    {
      "cell_type": "code",
      "metadata": {
        "id": "oLBHWZPeHcbX"
      },
      "source": [
        "import findspark\n",
        "findspark.init()"
      ],
      "execution_count": 3,
      "outputs": []
    },
    {
      "cell_type": "code",
      "metadata": {
        "colab": {
          "base_uri": "https://localhost:8080/",
          "height": 348
        },
        "id": "Qd6MKHDPHcfE",
        "outputId": "2de2d1ef-04cd-408b-f97e-4c2d2e09a735"
      },
      "source": [
        "from pyspark.sql import SparkSession\n",
        "spark = SparkSession.builder.master(\"local[*]\").getOrCreate()\n",
        "sc = spark.sparkContext\n",
        "sc"
      ],
      "execution_count": 4,
      "outputs": [
        {
          "output_type": "execute_result",
          "data": {
            "text/html": [
              "\n",
              "        <div>\n",
              "            <p><b>SparkContext</b></p>\n",
              "\n",
              "            <p><a href=\"http://4494098a1d5c:4040\">Spark UI</a></p>\n",
              "\n",
              "            <dl>\n",
              "              <dt>Version</dt>\n",
              "                <dd><code>v3.0.2</code></dd>\n",
              "              <dt>Master</dt>\n",
              "                <dd><code>local[*]</code></dd>\n",
              "              <dt>AppName</dt>\n",
              "                <dd><code>pyspark-shell</code></dd>\n",
              "            </dl>\n",
              "        </div>\n",
              "        "
            ],
            "text/plain": [
              "<SparkContext master=local[*] appName=pyspark-shell>"
            ]
          },
          "metadata": {
            "tags": []
          },
          "execution_count": 4
        }
      ]
    },
    {
      "cell_type": "code",
      "metadata": {
        "colab": {
          "base_uri": "https://localhost:8080/"
        },
        "id": "XOjFA37IOV4-",
        "outputId": "85b22e84-6ea1-4bbb-cfd4-da83e91adc96"
      },
      "source": [
        "!pip install pmdarima"
      ],
      "execution_count": 5,
      "outputs": [
        {
          "output_type": "stream",
          "text": [
            "Collecting pmdarima\n",
            "\u001b[?25l  Downloading https://files.pythonhosted.org/packages/f4/c2/2a94bce6bba1deac3c0b16dbb14f28de0b9035e3211919cae8448455aa65/pmdarima-1.8.2-cp37-cp37m-manylinux1_x86_64.whl (1.5MB)\n",
            "\u001b[K     |████████████████████████████████| 1.5MB 5.4MB/s \n",
            "\u001b[?25hCollecting statsmodels!=0.12.0,>=0.11\n",
            "\u001b[?25l  Downloading https://files.pythonhosted.org/packages/da/69/8eef30a6237c54f3c0b524140e2975f4b1eea3489b45eb3339574fc8acee/statsmodels-0.12.2-cp37-cp37m-manylinux1_x86_64.whl (9.5MB)\n",
            "\u001b[K     |████████████████████████████████| 9.5MB 18.7MB/s \n",
            "\u001b[?25hRequirement already satisfied: pandas>=0.19 in /usr/local/lib/python3.7/dist-packages (from pmdarima) (1.1.5)\n",
            "Requirement already satisfied: setuptools!=50.0.0,>=38.6.0 in /usr/local/lib/python3.7/dist-packages (from pmdarima) (54.2.0)\n",
            "Requirement already satisfied: joblib>=0.11 in /usr/local/lib/python3.7/dist-packages (from pmdarima) (1.0.1)\n",
            "Requirement already satisfied: scikit-learn>=0.22 in /usr/local/lib/python3.7/dist-packages (from pmdarima) (0.22.2.post1)\n",
            "Requirement already satisfied: numpy~=1.19.0 in /usr/local/lib/python3.7/dist-packages (from pmdarima) (1.19.5)\n",
            "Requirement already satisfied: urllib3 in /usr/local/lib/python3.7/dist-packages (from pmdarima) (1.24.3)\n",
            "Requirement already satisfied: Cython!=0.29.18,>=0.29 in /usr/local/lib/python3.7/dist-packages (from pmdarima) (0.29.22)\n",
            "Requirement already satisfied: scipy>=1.3.2 in /usr/local/lib/python3.7/dist-packages (from pmdarima) (1.4.1)\n",
            "Requirement already satisfied: patsy>=0.5 in /usr/local/lib/python3.7/dist-packages (from statsmodels!=0.12.0,>=0.11->pmdarima) (0.5.1)\n",
            "Requirement already satisfied: pytz>=2017.2 in /usr/local/lib/python3.7/dist-packages (from pandas>=0.19->pmdarima) (2018.9)\n",
            "Requirement already satisfied: python-dateutil>=2.7.3 in /usr/local/lib/python3.7/dist-packages (from pandas>=0.19->pmdarima) (2.8.1)\n",
            "Requirement already satisfied: six in /usr/local/lib/python3.7/dist-packages (from patsy>=0.5->statsmodels!=0.12.0,>=0.11->pmdarima) (1.15.0)\n",
            "Installing collected packages: statsmodels, pmdarima\n",
            "  Found existing installation: statsmodels 0.10.2\n",
            "    Uninstalling statsmodels-0.10.2:\n",
            "      Successfully uninstalled statsmodels-0.10.2\n",
            "Successfully installed pmdarima-1.8.2 statsmodels-0.12.2\n"
          ],
          "name": "stdout"
        }
      ]
    },
    {
      "cell_type": "code",
      "metadata": {
        "colab": {
          "base_uri": "https://localhost:8080/"
        },
        "id": "tZZIk8uGHch8",
        "outputId": "6dd19446-63ee-4ff6-bdc6-81457b49a55f"
      },
      "source": [
        "from google.colab import drive\n",
        "drive.mount('/content/drive')"
      ],
      "execution_count": null,
      "outputs": [
        {
          "output_type": "stream",
          "text": [
            "Drive already mounted at /content/drive; to attempt to forcibly remount, call drive.mount(\"/content/drive\", force_remount=True).\n"
          ],
          "name": "stdout"
        }
      ]
    },
    {
      "cell_type": "code",
      "metadata": {
        "id": "rHYAxLEWHclS"
      },
      "source": [
        "import pyspark.sql\n",
        "from pyspark.sql import Row\n",
        "from pyspark.sql.types import *\n",
        "import csv\n",
        "import pandas as pd\n",
        "\n",
        "#from statsmodels.tsa.stattools import adfuller"
      ],
      "execution_count": 10,
      "outputs": []
    },
    {
      "cell_type": "code",
      "metadata": {
        "id": "ROwRqYPvHcoE"
      },
      "source": [
        "l1 = []\n",
        "for i in range(2016,2021):\n",
        "  aqi_df = pd.read_csv(\"/content/drive/MyDrive/Project/Data/daily_aqi_by_county_{}.csv\".format(str(i)))\n",
        "  l1.append(aqi_df)\n",
        "\n",
        "l2 = pd.concat(l1)"
      ],
      "execution_count": 50,
      "outputs": []
    },
    {
      "cell_type": "code",
      "metadata": {
        "colab": {
          "base_uri": "https://localhost:8080/"
        },
        "id": "L8B4LY9JSBjl",
        "outputId": "d0e41e52-a464-47e1-8b11-aaaff4971d32"
      },
      "source": [
        "l2.shape\n",
        "Cali_PD = l2.loc[l2['county Name'] == \"Alameda\"]\n",
        "Cali_PD.shape"
      ],
      "execution_count": 51,
      "outputs": [
        {
          "output_type": "execute_result",
          "data": {
            "text/plain": [
              "(1676, 10)"
            ]
          },
          "metadata": {
            "tags": []
          },
          "execution_count": 51
        }
      ]
    },
    {
      "cell_type": "code",
      "metadata": {
        "colab": {
          "base_uri": "https://localhost:8080/"
        },
        "id": "QJLONyT1HcrC",
        "outputId": "c3bb27ce-100b-462a-97dd-fd22a11d6168"
      },
      "source": [
        "state_df = aqi_df.filter(aqi_df['State Name'] == \"California\")\n",
        "state_df = aqi_df.filter(aqi_df['county Name'] == \"Alameda\")\n",
        "state_df.take(10)"
      ],
      "execution_count": null,
      "outputs": [
        {
          "output_type": "execute_result",
          "data": {
            "text/plain": [
              "[Row(State Name='California', county Name='Alameda', State Code='06', County Code='001', Date='2019-01-01', AQI='34', Category='Good', Defining Parameter='NO2', Defining Site='06-001-0013', Number of Sites Reporting='7'),\n",
              " Row(State Name='California', county Name='Alameda', State Code='06', County Code='001', Date='2019-01-02', AQI='50', Category='Good', Defining Parameter='PM2.5', Defining Site='06-001-0007', Number of Sites Reporting='7'),\n",
              " Row(State Name='California', county Name='Alameda', State Code='06', County Code='001', Date='2019-01-03', AQI='71', Category='Moderate', Defining Parameter='PM2.5', Defining Site='06-001-0013', Number of Sites Reporting='7'),\n",
              " Row(State Name='California', county Name='Alameda', State Code='06', County Code='001', Date='2019-01-04', AQI='87', Category='Moderate', Defining Parameter='PM2.5', Defining Site='06-001-0015', Number of Sites Reporting='7'),\n",
              " Row(State Name='California', county Name='Alameda', State Code='06', County Code='001', Date='2019-01-05', AQI='53', Category='Moderate', Defining Parameter='PM2.5', Defining Site='06-001-0015', Number of Sites Reporting='7'),\n",
              " Row(State Name='California', county Name='Alameda', State Code='06', County Code='001', Date='2019-01-06', AQI='31', Category='Good', Defining Parameter='Ozone', Defining Site='06-001-2001', Number of Sites Reporting='7'),\n",
              " Row(State Name='California', county Name='Alameda', State Code='06', County Code='001', Date='2019-01-07', AQI='38', Category='Good', Defining Parameter='NO2', Defining Site='06-001-0012', Number of Sites Reporting='7'),\n",
              " Row(State Name='California', county Name='Alameda', State Code='06', County Code='001', Date='2019-01-08', AQI='34', Category='Good', Defining Parameter='PM2.5', Defining Site='06-001-0015', Number of Sites Reporting='7'),\n",
              " Row(State Name='California', county Name='Alameda', State Code='06', County Code='001', Date='2019-01-09', AQI='33', Category='Good', Defining Parameter='NO2', Defining Site='06-001-0012', Number of Sites Reporting='7'),\n",
              " Row(State Name='California', county Name='Alameda', State Code='06', County Code='001', Date='2019-01-10', AQI='55', Category='Moderate', Defining Parameter='PM2.5', Defining Site='06-001-0011', Number of Sites Reporting='7')]"
            ]
          },
          "metadata": {
            "tags": []
          },
          "execution_count": 6
        }
      ]
    },
    {
      "cell_type": "code",
      "metadata": {
        "colab": {
          "base_uri": "https://localhost:8080/"
        },
        "id": "8bt2IP69HcuW",
        "outputId": "f8f9347e-a310-44d2-aa4d-0c10ab2ce78e"
      },
      "source": [
        "California_df = state_df.select('State Name', 'State Code', 'county Name', 'County Code', 'Date', 'AQI', 'Category')\n",
        "California_df.take(10)"
      ],
      "execution_count": null,
      "outputs": [
        {
          "output_type": "execute_result",
          "data": {
            "text/plain": [
              "[Row(State Name='California', State Code='06', county Name='Alameda', County Code='001', Date='2019-01-01', AQI='34', Category='Good'),\n",
              " Row(State Name='California', State Code='06', county Name='Alameda', County Code='001', Date='2019-01-02', AQI='50', Category='Good'),\n",
              " Row(State Name='California', State Code='06', county Name='Alameda', County Code='001', Date='2019-01-03', AQI='71', Category='Moderate'),\n",
              " Row(State Name='California', State Code='06', county Name='Alameda', County Code='001', Date='2019-01-04', AQI='87', Category='Moderate'),\n",
              " Row(State Name='California', State Code='06', county Name='Alameda', County Code='001', Date='2019-01-05', AQI='53', Category='Moderate'),\n",
              " Row(State Name='California', State Code='06', county Name='Alameda', County Code='001', Date='2019-01-06', AQI='31', Category='Good'),\n",
              " Row(State Name='California', State Code='06', county Name='Alameda', County Code='001', Date='2019-01-07', AQI='38', Category='Good'),\n",
              " Row(State Name='California', State Code='06', county Name='Alameda', County Code='001', Date='2019-01-08', AQI='34', Category='Good'),\n",
              " Row(State Name='California', State Code='06', county Name='Alameda', County Code='001', Date='2019-01-09', AQI='33', Category='Good'),\n",
              " Row(State Name='California', State Code='06', county Name='Alameda', County Code='001', Date='2019-01-10', AQI='55', Category='Moderate')]"
            ]
          },
          "metadata": {
            "tags": []
          },
          "execution_count": 7
        }
      ]
    },
    {
      "cell_type": "code",
      "metadata": {
        "id": "EWQPQxzBHcxs"
      },
      "source": [
        "California_df.toPandas().to_csv('/content/drive/MyDrive/Project/Data/aqi_dataset_3.csv', index=False, header=True)"
      ],
      "execution_count": null,
      "outputs": []
    },
    {
      "cell_type": "code",
      "metadata": {
        "id": "OmQpNbeJHc09"
      },
      "source": [
        ""
      ],
      "execution_count": null,
      "outputs": []
    },
    {
      "cell_type": "markdown",
      "metadata": {
        "id": "_Xr8iYyNKcUI"
      },
      "source": [
        "# ARIMA start"
      ]
    },
    {
      "cell_type": "code",
      "metadata": {
        "colab": {
          "base_uri": "https://localhost:8080/"
        },
        "id": "tTS67PhFHc4X",
        "outputId": "6bbe5330-b9f8-42b3-ed0b-f6f369c954d1"
      },
      "source": [
        "California_df = spark.read.csv(\"/content/drive/MyDrive/Project/Data/aqi_dataset_3.csv\", header =True, inferSchema=True)\n",
        "California_df.printSchema()\n"
      ],
      "execution_count": null,
      "outputs": [
        {
          "output_type": "stream",
          "text": [
            "root\n",
            " |-- State Name: string (nullable = true)\n",
            " |-- State Code: integer (nullable = true)\n",
            " |-- county Name: string (nullable = true)\n",
            " |-- County Code: integer (nullable = true)\n",
            " |-- Date: string (nullable = true)\n",
            " |-- AQI: integer (nullable = true)\n",
            " |-- Category: string (nullable = true)\n",
            "\n"
          ],
          "name": "stdout"
        }
      ]
    },
    {
      "cell_type": "code",
      "metadata": {
        "id": "KX4q5Zw9K1Ww"
      },
      "source": [
        "import pandas as pd\n",
        "import numpy as np "
      ],
      "execution_count": null,
      "outputs": []
    },
    {
      "cell_type": "code",
      "metadata": {
        "colab": {
          "base_uri": "https://localhost:8080/"
        },
        "id": "8DSfIV05Hc8C",
        "outputId": "b6b98252-c2e0-4246-c106-156a400df190"
      },
      "source": [
        "##showing label statistics\n",
        "\n",
        "California_df.describe(\"AQI\").show()"
      ],
      "execution_count": null,
      "outputs": [
        {
          "output_type": "stream",
          "text": [
            "+-------+------------------+\n",
            "|summary|               AQI|\n",
            "+-------+------------------+\n",
            "|  count|               365|\n",
            "|   mean| 45.93150684931507|\n",
            "| stddev|16.963866550039917|\n",
            "|    min|                22|\n",
            "|    max|               150|\n",
            "+-------+------------------+\n",
            "\n"
          ],
          "name": "stdout"
        }
      ]
    },
    {
      "cell_type": "code",
      "metadata": {
        "id": "auiFP6Vh7Vfl"
      },
      "source": [
        "#Cali_PD = California_df.toPandas()\n"
      ],
      "execution_count": null,
      "outputs": []
    },
    {
      "cell_type": "code",
      "metadata": {
        "colab": {
          "base_uri": "https://localhost:8080/",
          "height": 552
        },
        "id": "OHFy0Ocp7Vi-",
        "outputId": "8ff927a2-5688-446f-9aef-71f80c38c5ba"
      },
      "source": [
        "Cali_PD"
      ],
      "execution_count": null,
      "outputs": [
        {
          "output_type": "execute_result",
          "data": {
            "text/html": [
              "<div>\n",
              "<style scoped>\n",
              "    .dataframe tbody tr th:only-of-type {\n",
              "        vertical-align: middle;\n",
              "    }\n",
              "\n",
              "    .dataframe tbody tr th {\n",
              "        vertical-align: top;\n",
              "    }\n",
              "\n",
              "    .dataframe thead th {\n",
              "        text-align: right;\n",
              "    }\n",
              "</style>\n",
              "<table border=\"1\" class=\"dataframe\">\n",
              "  <thead>\n",
              "    <tr style=\"text-align: right;\">\n",
              "      <th></th>\n",
              "      <th>State Name</th>\n",
              "      <th>county Name</th>\n",
              "      <th>State Code</th>\n",
              "      <th>County Code</th>\n",
              "      <th>Date</th>\n",
              "      <th>AQI</th>\n",
              "      <th>Category</th>\n",
              "      <th>Defining Parameter</th>\n",
              "      <th>Defining Site</th>\n",
              "      <th>Number of Sites Reporting</th>\n",
              "    </tr>\n",
              "  </thead>\n",
              "  <tbody>\n",
              "    <tr>\n",
              "      <th>12500</th>\n",
              "      <td>California</td>\n",
              "      <td>Alameda</td>\n",
              "      <td>06</td>\n",
              "      <td>1</td>\n",
              "      <td>2000-01-01</td>\n",
              "      <td>55</td>\n",
              "      <td>Moderate</td>\n",
              "      <td>PM2.5</td>\n",
              "      <td>06-001-0007</td>\n",
              "      <td>4</td>\n",
              "    </tr>\n",
              "    <tr>\n",
              "      <th>12501</th>\n",
              "      <td>California</td>\n",
              "      <td>Alameda</td>\n",
              "      <td>06</td>\n",
              "      <td>1</td>\n",
              "      <td>2000-01-02</td>\n",
              "      <td>38</td>\n",
              "      <td>Good</td>\n",
              "      <td>NO2</td>\n",
              "      <td>06-001-1001</td>\n",
              "      <td>4</td>\n",
              "    </tr>\n",
              "    <tr>\n",
              "      <th>12502</th>\n",
              "      <td>California</td>\n",
              "      <td>Alameda</td>\n",
              "      <td>06</td>\n",
              "      <td>1</td>\n",
              "      <td>2000-01-03</td>\n",
              "      <td>42</td>\n",
              "      <td>Good</td>\n",
              "      <td>NO2</td>\n",
              "      <td>06-001-0003</td>\n",
              "      <td>4</td>\n",
              "    </tr>\n",
              "    <tr>\n",
              "      <th>12503</th>\n",
              "      <td>California</td>\n",
              "      <td>Alameda</td>\n",
              "      <td>06</td>\n",
              "      <td>1</td>\n",
              "      <td>2000-01-04</td>\n",
              "      <td>59</td>\n",
              "      <td>Moderate</td>\n",
              "      <td>PM2.5</td>\n",
              "      <td>06-001-1001</td>\n",
              "      <td>4</td>\n",
              "    </tr>\n",
              "    <tr>\n",
              "      <th>12504</th>\n",
              "      <td>California</td>\n",
              "      <td>Alameda</td>\n",
              "      <td>06</td>\n",
              "      <td>1</td>\n",
              "      <td>2000-01-05</td>\n",
              "      <td>35</td>\n",
              "      <td>Good</td>\n",
              "      <td>NO2</td>\n",
              "      <td>06-001-0003</td>\n",
              "      <td>4</td>\n",
              "    </tr>\n",
              "    <tr>\n",
              "      <th>...</th>\n",
              "      <td>...</td>\n",
              "      <td>...</td>\n",
              "      <td>...</td>\n",
              "      <td>...</td>\n",
              "      <td>...</td>\n",
              "      <td>...</td>\n",
              "      <td>...</td>\n",
              "      <td>...</td>\n",
              "      <td>...</td>\n",
              "      <td>...</td>\n",
              "    </tr>\n",
              "    <tr>\n",
              "      <th>9618</th>\n",
              "      <td>California</td>\n",
              "      <td>Alameda</td>\n",
              "      <td>6</td>\n",
              "      <td>1</td>\n",
              "      <td>2020-08-28</td>\n",
              "      <td>97</td>\n",
              "      <td>Moderate</td>\n",
              "      <td>PM2.5</td>\n",
              "      <td>06-001-0015</td>\n",
              "      <td>7</td>\n",
              "    </tr>\n",
              "    <tr>\n",
              "      <th>9619</th>\n",
              "      <td>California</td>\n",
              "      <td>Alameda</td>\n",
              "      <td>6</td>\n",
              "      <td>1</td>\n",
              "      <td>2020-08-29</td>\n",
              "      <td>79</td>\n",
              "      <td>Moderate</td>\n",
              "      <td>PM2.5</td>\n",
              "      <td>06-001-0007</td>\n",
              "      <td>7</td>\n",
              "    </tr>\n",
              "    <tr>\n",
              "      <th>9620</th>\n",
              "      <td>California</td>\n",
              "      <td>Alameda</td>\n",
              "      <td>6</td>\n",
              "      <td>1</td>\n",
              "      <td>2020-08-30</td>\n",
              "      <td>67</td>\n",
              "      <td>Moderate</td>\n",
              "      <td>PM2.5</td>\n",
              "      <td>06-001-0007</td>\n",
              "      <td>7</td>\n",
              "    </tr>\n",
              "    <tr>\n",
              "      <th>9621</th>\n",
              "      <td>California</td>\n",
              "      <td>Alameda</td>\n",
              "      <td>6</td>\n",
              "      <td>1</td>\n",
              "      <td>2020-08-31</td>\n",
              "      <td>73</td>\n",
              "      <td>Moderate</td>\n",
              "      <td>PM2.5</td>\n",
              "      <td>06-001-0013</td>\n",
              "      <td>7</td>\n",
              "    </tr>\n",
              "    <tr>\n",
              "      <th>9622</th>\n",
              "      <td>California</td>\n",
              "      <td>Alameda</td>\n",
              "      <td>6</td>\n",
              "      <td>1</td>\n",
              "      <td>2020-09-01</td>\n",
              "      <td>7</td>\n",
              "      <td>Good</td>\n",
              "      <td>CO</td>\n",
              "      <td>06-001-0015</td>\n",
              "      <td>5</td>\n",
              "    </tr>\n",
              "  </tbody>\n",
              "</table>\n",
              "<p>7520 rows × 10 columns</p>\n",
              "</div>"
            ],
            "text/plain": [
              "       State Name county Name  ... Defining Site  Number of Sites Reporting\n",
              "12500  California     Alameda  ...   06-001-0007                          4\n",
              "12501  California     Alameda  ...   06-001-1001                          4\n",
              "12502  California     Alameda  ...   06-001-0003                          4\n",
              "12503  California     Alameda  ...   06-001-1001                          4\n",
              "12504  California     Alameda  ...   06-001-0003                          4\n",
              "...           ...         ...  ...           ...                        ...\n",
              "9618   California     Alameda  ...   06-001-0015                          7\n",
              "9619   California     Alameda  ...   06-001-0007                          7\n",
              "9620   California     Alameda  ...   06-001-0007                          7\n",
              "9621   California     Alameda  ...   06-001-0013                          7\n",
              "9622   California     Alameda  ...   06-001-0015                          5\n",
              "\n",
              "[7520 rows x 10 columns]"
            ]
          },
          "metadata": {
            "tags": []
          },
          "execution_count": 54
        }
      ]
    },
    {
      "cell_type": "code",
      "metadata": {
        "id": "leK6UxslHc_g"
      },
      "source": [
        "# Prepare training and test data.\n",
        "#test = Cali_PD.randomSplit([0.7, 0.3], seed=42)\n",
        "train=Cali_PD.sample(frac=0.7,random_state=200) #random state is a seed value\n",
        "test=Cali_PD.drop(train.index)"
      ],
      "execution_count": 43,
      "outputs": []
    },
    {
      "cell_type": "code",
      "metadata": {
        "colab": {
          "base_uri": "https://localhost:8080/"
        },
        "id": "uqJMTsolHdDB",
        "outputId": "505c32e7-78c5-404e-c93a-86e86c61f773"
      },
      "source": [
        "train.count()\n"
      ],
      "execution_count": null,
      "outputs": [
        {
          "output_type": "execute_result",
          "data": {
            "text/plain": [
              "State Name                   5264\n",
              "county Name                  5264\n",
              "State Code                   5264\n",
              "County Code                  5264\n",
              "Date                         5264\n",
              "AQI                          5264\n",
              "Category                     5264\n",
              "Defining Parameter           5264\n",
              "Defining Site                5264\n",
              "Number of Sites Reporting    5264\n",
              "dtype: int64"
            ]
          },
          "metadata": {
            "tags": []
          },
          "execution_count": 56
        }
      ]
    },
    {
      "cell_type": "code",
      "metadata": {
        "colab": {
          "base_uri": "https://localhost:8080/"
        },
        "id": "JZuJnFmBNra5",
        "outputId": "eb2f4f6b-f48e-4272-d924-ce60c151341a"
      },
      "source": [
        "test.count()"
      ],
      "execution_count": null,
      "outputs": [
        {
          "output_type": "execute_result",
          "data": {
            "text/plain": [
              "State Name                   456\n",
              "county Name                  456\n",
              "State Code                   456\n",
              "County Code                  456\n",
              "Date                         456\n",
              "AQI                          456\n",
              "Category                     456\n",
              "Defining Parameter           456\n",
              "Defining Site                456\n",
              "Number of Sites Reporting    456\n",
              "dtype: int64"
            ]
          },
          "metadata": {
            "tags": []
          },
          "execution_count": 57
        }
      ]
    },
    {
      "cell_type": "code",
      "metadata": {
        "colab": {
          "base_uri": "https://localhost:8080/"
        },
        "id": "b5yWl_8t84Kz",
        "outputId": "7f8cb621-26a3-4e2a-9933-8b7b696aef93"
      },
      "source": [
        "train_array = train[\"AQI\"]\n",
        "print(train_array.shape)\n",
        "\n",
        "test_array = test[\"AQI\"]\n",
        "print(test_array.shape) "
      ],
      "execution_count": null,
      "outputs": [
        {
          "output_type": "stream",
          "text": [
            "(5264,)\n",
            "(456,)\n"
          ],
          "name": "stdout"
        }
      ]
    },
    {
      "cell_type": "code",
      "metadata": {
        "colab": {
          "base_uri": "https://localhost:8080/"
        },
        "id": "NOb7TAPL84Nr",
        "outputId": "87d113b4-da43-4edb-98c0-b93cb6753f71"
      },
      "source": [
        "from statsmodels.tsa.stattools import adfuller\n",
        "\n",
        "print(\"p-value:\", adfuller(train_array.dropna())[1])"
      ],
      "execution_count": null,
      "outputs": [
        {
          "output_type": "stream",
          "text": [
            "p-value: 0.0\n"
          ],
          "name": "stdout"
        }
      ]
    },
    {
      "cell_type": "code",
      "metadata": {
        "id": "2F_3c0jf-DDn"
      },
      "source": [
        "import pandas.testing as tm"
      ],
      "execution_count": null,
      "outputs": []
    },
    {
      "cell_type": "code",
      "metadata": {
        "id": "sQS9mrnJBnkU"
      },
      "source": [
        ""
      ],
      "execution_count": null,
      "outputs": []
    },
    {
      "cell_type": "code",
      "metadata": {
        "id": "Molq7vnn84Qj"
      },
      "source": [
        "import pmdarima as pmd\n",
        "\n",
        "def arimamodel(timeseriesarray):\n",
        "    autoarima_model = pmd.auto_arima(timeseriesarray, \n",
        "                              start_p=0, \n",
        "                              start_q=0,\n",
        "                              test=\"adf\",\n",
        "                              trace=True)\n",
        "    return autoarima_model"
      ],
      "execution_count": null,
      "outputs": []
    },
    {
      "cell_type": "code",
      "metadata": {
        "colab": {
          "base_uri": "https://localhost:8080/",
          "height": 706
        },
        "id": "sMWmQz0z84TR",
        "outputId": "5df15d84-c072-4ae8-b46e-7aa9d75f6048"
      },
      "source": [
        "arima_model = arimamodel(train_array)\n",
        "arima_model.summary()"
      ],
      "execution_count": null,
      "outputs": [
        {
          "output_type": "stream",
          "text": [
            "Performing stepwise search to minimize aic\n",
            " ARIMA(0,0,0)(0,0,0)[0] intercept   : AIC=47358.932, Time=0.17 sec\n",
            " ARIMA(1,0,0)(0,0,0)[0] intercept   : AIC=47360.890, Time=0.27 sec\n",
            " ARIMA(0,0,1)(0,0,0)[0] intercept   : AIC=47360.895, Time=0.47 sec\n",
            " ARIMA(0,0,0)(0,0,0)[0]             : AIC=56925.051, Time=0.10 sec\n",
            " ARIMA(1,0,1)(0,0,0)[0] intercept   : AIC=47362.885, Time=0.81 sec\n",
            "\n",
            "Best model:  ARIMA(0,0,0)(0,0,0)[0] intercept\n",
            "Total fit time: 1.845 seconds\n"
          ],
          "name": "stdout"
        },
        {
          "output_type": "execute_result",
          "data": {
            "text/html": [
              "<table class=\"simpletable\">\n",
              "<caption>SARIMAX Results</caption>\n",
              "<tr>\n",
              "  <th>Dep. Variable:</th>           <td>y</td>        <th>  No. Observations:  </th>    <td>5264</td>   \n",
              "</tr>\n",
              "<tr>\n",
              "  <th>Model:</th>                <td>SARIMAX</td>     <th>  Log Likelihood     </th> <td>-23677.466</td>\n",
              "</tr>\n",
              "<tr>\n",
              "  <th>Date:</th>            <td>Wed, 21 Apr 2021</td> <th>  AIC                </th>  <td>47358.932</td>\n",
              "</tr>\n",
              "<tr>\n",
              "  <th>Time:</th>                <td>02:39:44</td>     <th>  BIC                </th>  <td>47372.070</td>\n",
              "</tr>\n",
              "<tr>\n",
              "  <th>Sample:</th>                  <td>0</td>        <th>  HQIC               </th>  <td>47363.525</td>\n",
              "</tr>\n",
              "<tr>\n",
              "  <th></th>                      <td> - 5264</td>     <th>                     </th>      <td> </td>    \n",
              "</tr>\n",
              "<tr>\n",
              "  <th>Covariance Type:</th>        <td>opg</td>       <th>                     </th>      <td> </td>    \n",
              "</tr>\n",
              "</table>\n",
              "<table class=\"simpletable\">\n",
              "<tr>\n",
              "      <td></td>         <th>coef</th>     <th>std err</th>      <th>z</th>      <th>P>|z|</th>  <th>[0.025</th>    <th>0.975]</th>  \n",
              "</tr>\n",
              "<tr>\n",
              "  <th>intercept</th> <td>   49.3666</td> <td>    0.452</td> <td>  109.228</td> <td> 0.000</td> <td>   48.481</td> <td>   50.252</td>\n",
              "</tr>\n",
              "<tr>\n",
              "  <th>sigma2</th>    <td>  472.5392</td> <td>    5.959</td> <td>   79.302</td> <td> 0.000</td> <td>  460.860</td> <td>  484.218</td>\n",
              "</tr>\n",
              "</table>\n",
              "<table class=\"simpletable\">\n",
              "<tr>\n",
              "  <th>Ljung-Box (L1) (Q):</th>     <td>0.04</td> <th>  Jarque-Bera (JB):  </th> <td>22619.05</td>\n",
              "</tr>\n",
              "<tr>\n",
              "  <th>Prob(Q):</th>                <td>0.84</td> <th>  Prob(JB):          </th>   <td>0.00</td>  \n",
              "</tr>\n",
              "<tr>\n",
              "  <th>Heteroskedasticity (H):</th> <td>0.87</td> <th>  Skew:              </th>   <td>2.47</td>  \n",
              "</tr>\n",
              "<tr>\n",
              "  <th>Prob(H) (two-sided):</th>    <td>0.00</td> <th>  Kurtosis:          </th>   <td>11.87</td> \n",
              "</tr>\n",
              "</table><br/><br/>Warnings:<br/>[1] Covariance matrix calculated using the outer product of gradients (complex-step)."
            ],
            "text/plain": [
              "<class 'statsmodels.iolib.summary.Summary'>\n",
              "\"\"\"\n",
              "                               SARIMAX Results                                \n",
              "==============================================================================\n",
              "Dep. Variable:                      y   No. Observations:                 5264\n",
              "Model:                        SARIMAX   Log Likelihood              -23677.466\n",
              "Date:                Wed, 21 Apr 2021   AIC                          47358.932\n",
              "Time:                        02:39:44   BIC                          47372.070\n",
              "Sample:                             0   HQIC                         47363.525\n",
              "                               - 5264                                         \n",
              "Covariance Type:                  opg                                         \n",
              "==============================================================================\n",
              "                 coef    std err          z      P>|z|      [0.025      0.975]\n",
              "------------------------------------------------------------------------------\n",
              "intercept     49.3666      0.452    109.228      0.000      48.481      50.252\n",
              "sigma2       472.5392      5.959     79.302      0.000     460.860     484.218\n",
              "===================================================================================\n",
              "Ljung-Box (L1) (Q):                   0.04   Jarque-Bera (JB):             22619.05\n",
              "Prob(Q):                              0.84   Prob(JB):                         0.00\n",
              "Heteroskedasticity (H):               0.87   Skew:                             2.47\n",
              "Prob(H) (two-sided):                  0.00   Kurtosis:                        11.87\n",
              "===================================================================================\n",
              "\n",
              "Warnings:\n",
              "[1] Covariance matrix calculated using the outer product of gradients (complex-step).\n",
              "\"\"\""
            ]
          },
          "metadata": {
            "tags": []
          },
          "execution_count": 63
        }
      ]
    },
    {
      "cell_type": "code",
      "metadata": {
        "colab": {
          "base_uri": "https://localhost:8080/",
          "height": 581
        },
        "id": "UgWbrh6QPgPL",
        "outputId": "90d51023-49fd-4ff5-c1ac-99694c786714"
      },
      "source": [
        "data"
      ],
      "execution_count": null,
      "outputs": [
        {
          "output_type": "execute_result",
          "data": {
            "text/html": [
              "<div>\n",
              "<style scoped>\n",
              "    .dataframe tbody tr th:only-of-type {\n",
              "        vertical-align: middle;\n",
              "    }\n",
              "\n",
              "    .dataframe tbody tr th {\n",
              "        vertical-align: top;\n",
              "    }\n",
              "\n",
              "    .dataframe thead th {\n",
              "        text-align: right;\n",
              "    }\n",
              "</style>\n",
              "<table border=\"1\" class=\"dataframe\">\n",
              "  <thead>\n",
              "    <tr style=\"text-align: right;\">\n",
              "      <th></th>\n",
              "      <th>State Name</th>\n",
              "      <th>State Code</th>\n",
              "      <th>county Name</th>\n",
              "      <th>County Code</th>\n",
              "      <th>AQI</th>\n",
              "      <th>Category</th>\n",
              "    </tr>\n",
              "    <tr>\n",
              "      <th>Date</th>\n",
              "      <th></th>\n",
              "      <th></th>\n",
              "      <th></th>\n",
              "      <th></th>\n",
              "      <th></th>\n",
              "      <th></th>\n",
              "    </tr>\n",
              "  </thead>\n",
              "  <tbody>\n",
              "    <tr>\n",
              "      <th>2019-01-01</th>\n",
              "      <td>California</td>\n",
              "      <td>6</td>\n",
              "      <td>Alameda</td>\n",
              "      <td>1</td>\n",
              "      <td>34</td>\n",
              "      <td>Good</td>\n",
              "    </tr>\n",
              "    <tr>\n",
              "      <th>2019-01-02</th>\n",
              "      <td>California</td>\n",
              "      <td>6</td>\n",
              "      <td>Alameda</td>\n",
              "      <td>1</td>\n",
              "      <td>50</td>\n",
              "      <td>Good</td>\n",
              "    </tr>\n",
              "    <tr>\n",
              "      <th>2019-01-03</th>\n",
              "      <td>California</td>\n",
              "      <td>6</td>\n",
              "      <td>Alameda</td>\n",
              "      <td>1</td>\n",
              "      <td>71</td>\n",
              "      <td>Moderate</td>\n",
              "    </tr>\n",
              "    <tr>\n",
              "      <th>2019-01-04</th>\n",
              "      <td>California</td>\n",
              "      <td>6</td>\n",
              "      <td>Alameda</td>\n",
              "      <td>1</td>\n",
              "      <td>87</td>\n",
              "      <td>Moderate</td>\n",
              "    </tr>\n",
              "    <tr>\n",
              "      <th>2019-01-05</th>\n",
              "      <td>California</td>\n",
              "      <td>6</td>\n",
              "      <td>Alameda</td>\n",
              "      <td>1</td>\n",
              "      <td>53</td>\n",
              "      <td>Moderate</td>\n",
              "    </tr>\n",
              "    <tr>\n",
              "      <th>...</th>\n",
              "      <td>...</td>\n",
              "      <td>...</td>\n",
              "      <td>...</td>\n",
              "      <td>...</td>\n",
              "      <td>...</td>\n",
              "      <td>...</td>\n",
              "    </tr>\n",
              "    <tr>\n",
              "      <th>2019-12-27</th>\n",
              "      <td>California</td>\n",
              "      <td>6</td>\n",
              "      <td>Alameda</td>\n",
              "      <td>1</td>\n",
              "      <td>39</td>\n",
              "      <td>Good</td>\n",
              "    </tr>\n",
              "    <tr>\n",
              "      <th>2019-12-28</th>\n",
              "      <td>California</td>\n",
              "      <td>6</td>\n",
              "      <td>Alameda</td>\n",
              "      <td>1</td>\n",
              "      <td>42</td>\n",
              "      <td>Good</td>\n",
              "    </tr>\n",
              "    <tr>\n",
              "      <th>2019-12-29</th>\n",
              "      <td>California</td>\n",
              "      <td>6</td>\n",
              "      <td>Alameda</td>\n",
              "      <td>1</td>\n",
              "      <td>36</td>\n",
              "      <td>Good</td>\n",
              "    </tr>\n",
              "    <tr>\n",
              "      <th>2019-12-30</th>\n",
              "      <td>California</td>\n",
              "      <td>6</td>\n",
              "      <td>Alameda</td>\n",
              "      <td>1</td>\n",
              "      <td>41</td>\n",
              "      <td>Good</td>\n",
              "    </tr>\n",
              "    <tr>\n",
              "      <th>2019-12-31</th>\n",
              "      <td>California</td>\n",
              "      <td>6</td>\n",
              "      <td>Alameda</td>\n",
              "      <td>1</td>\n",
              "      <td>44</td>\n",
              "      <td>Good</td>\n",
              "    </tr>\n",
              "  </tbody>\n",
              "</table>\n",
              "<p>365 rows × 6 columns</p>\n",
              "</div>"
            ],
            "text/plain": [
              "            State Name  State Code county Name  County Code  AQI  Category\n",
              "Date                                                                      \n",
              "2019-01-01  California           6     Alameda            1   34      Good\n",
              "2019-01-02  California           6     Alameda            1   50      Good\n",
              "2019-01-03  California           6     Alameda            1   71  Moderate\n",
              "2019-01-04  California           6     Alameda            1   87  Moderate\n",
              "2019-01-05  California           6     Alameda            1   53  Moderate\n",
              "...                ...         ...         ...          ...  ...       ...\n",
              "2019-12-27  California           6     Alameda            1   39      Good\n",
              "2019-12-28  California           6     Alameda            1   42      Good\n",
              "2019-12-29  California           6     Alameda            1   36      Good\n",
              "2019-12-30  California           6     Alameda            1   41      Good\n",
              "2019-12-31  California           6     Alameda            1   44      Good\n",
              "\n",
              "[365 rows x 6 columns]"
            ]
          },
          "metadata": {
            "tags": []
          },
          "execution_count": 39
        }
      ]
    },
    {
      "cell_type": "code",
      "metadata": {
        "colab": {
          "base_uri": "https://localhost:8080/",
          "height": 980
        },
        "id": "mdj2QOPEUL6v",
        "outputId": "21e03525-4740-4f99-87a3-fd58e39ff054"
      },
      "source": [
        "import matplotlib.pyplot as plt\n",
        "from matplotlib.pyplot import figure\n",
        "\n",
        "series = Cali_PD[[\"Date\",\"AQI\"]]\n",
        "series.columns=['Date', 'AQI']\n",
        "series=series.dropna()\n",
        "series['Date'] = pd.to_datetime(series['Date'])\n",
        "series.head()series.set_index('Date', inplace=True) #set date as index\n",
        "\n",
        "\n",
        "plt.xlabel(\"Date\")\n",
        "plt.ylabel(\"AQI\")\n",
        "plt.title(\"production graph\")\n",
        "plt.figure(figsize=(25, 10))\n",
        "\n",
        "plt.plot(series)\n"
      ],
      "execution_count": 52,
      "outputs": [
        {
          "output_type": "execute_result",
          "data": {
            "text/plain": [
              "[<matplotlib.lines.Line2D at 0x7fb680949c10>]"
            ]
          },
          "metadata": {
            "tags": []
          },
          "execution_count": 52
        },
        {
          "output_type": "display_data",
          "data": {
            "image/png": "[encoded data removed]",
            "text/plain": [
              "<Figure size 432x288 with 1 Axes>"
            ]
          },
          "metadata": {
            "tags": [],
            "needs_background": "light"
          }
        },
        {
          "output_type": "display_data",
          "data": {
            "image/png": "[encoded data removed]",
            "text/plain": [
              "<Figure size 1800x720 with 1 Axes>"
            ]
          },
          "metadata": {
            "tags": [],
            "needs_background": "light"
          }
        }
      ]
    },
    {
      "cell_type": "code",
      "metadata": {
        "colab": {
          "base_uri": "https://localhost:8080/",
          "height": 581
        },
        "id": "P_JdJwYWY6yq",
        "outputId": "c53976e6-2f20-42aa-c79b-7776787a817c"
      },
      "source": [
        "series"
      ],
      "execution_count": null,
      "outputs": [
        {
          "output_type": "execute_result",
          "data": {
            "text/html": [
              "<div>\n",
              "<style scoped>\n",
              "    .dataframe tbody tr th:only-of-type {\n",
              "        vertical-align: middle;\n",
              "    }\n",
              "\n",
              "    .dataframe tbody tr th {\n",
              "        vertical-align: top;\n",
              "    }\n",
              "\n",
              "    .dataframe thead th {\n",
              "        text-align: right;\n",
              "    }\n",
              "</style>\n",
              "<table border=\"1\" class=\"dataframe\">\n",
              "  <thead>\n",
              "    <tr style=\"text-align: right;\">\n",
              "      <th></th>\n",
              "      <th>AQI</th>\n",
              "    </tr>\n",
              "    <tr>\n",
              "      <th>Date</th>\n",
              "      <th></th>\n",
              "    </tr>\n",
              "  </thead>\n",
              "  <tbody>\n",
              "    <tr>\n",
              "      <th>2000-01-01</th>\n",
              "      <td>55</td>\n",
              "    </tr>\n",
              "    <tr>\n",
              "      <th>2000-01-02</th>\n",
              "      <td>38</td>\n",
              "    </tr>\n",
              "    <tr>\n",
              "      <th>2000-01-03</th>\n",
              "      <td>42</td>\n",
              "    </tr>\n",
              "    <tr>\n",
              "      <th>2000-01-04</th>\n",
              "      <td>59</td>\n",
              "    </tr>\n",
              "    <tr>\n",
              "      <th>2000-01-05</th>\n",
              "      <td>35</td>\n",
              "    </tr>\n",
              "    <tr>\n",
              "      <th>...</th>\n",
              "      <td>...</td>\n",
              "    </tr>\n",
              "    <tr>\n",
              "      <th>2020-08-28</th>\n",
              "      <td>97</td>\n",
              "    </tr>\n",
              "    <tr>\n",
              "      <th>2020-08-29</th>\n",
              "      <td>79</td>\n",
              "    </tr>\n",
              "    <tr>\n",
              "      <th>2020-08-30</th>\n",
              "      <td>67</td>\n",
              "    </tr>\n",
              "    <tr>\n",
              "      <th>2020-08-31</th>\n",
              "      <td>73</td>\n",
              "    </tr>\n",
              "    <tr>\n",
              "      <th>2020-09-01</th>\n",
              "      <td>7</td>\n",
              "    </tr>\n",
              "  </tbody>\n",
              "</table>\n",
              "<p>7520 rows × 1 columns</p>\n",
              "</div>"
            ],
            "text/plain": [
              "            AQI\n",
              "Date           \n",
              "2000-01-01   55\n",
              "2000-01-02   38\n",
              "2000-01-03   42\n",
              "2000-01-04   59\n",
              "2000-01-05   35\n",
              "...         ...\n",
              "2020-08-28   97\n",
              "2020-08-29   79\n",
              "2020-08-30   67\n",
              "2020-08-31   73\n",
              "2020-09-01    7\n",
              "\n",
              "[7520 rows x 1 columns]"
            ]
          },
          "metadata": {
            "tags": []
          },
          "execution_count": 88
        }
      ]
    },
    {
      "cell_type": "code",
      "metadata": {
        "colab": {
          "base_uri": "https://localhost:8080/",
          "height": 522
        },
        "id": "5E_xNm2uWVmM",
        "outputId": "bf0dede6-1608-4362-f4cf-c5824d071cf7"
      },
      "source": [
        "from statsmodels.tsa.seasonal import seasonal_decompose\n",
        "#result = seasonal_decompose(series, model='multiplicative')\n",
        "#result.plot()\n",
        "#plt.show()\n",
        "\n",
        "result = seasonal_decompose(series, period = 30)\n",
        "\n",
        "from pylab import rcParams\n",
        "rcParams['figure.figsize'] = 12,5\n",
        "result.plot();"
      ],
      "execution_count": null,
      "outputs": [
        {
          "output_type": "display_data",
          "data": {
            "image/png": "[encoded data removed]",
            "text/plain": [
              "<Figure size 864x360 with 4 Axes>"
            ]
          },
          "metadata": {
            "tags": []
          }
        }
      ]
    },
    {
      "cell_type": "code",
      "metadata": {
        "id": "p0buoWoaWVp2"
      },
      "source": [
        ""
      ],
      "execution_count": null,
      "outputs": []
    },
    {
      "cell_type": "code",
      "metadata": {
        "id": "dmgjrrJZWVuV"
      },
      "source": [
        ""
      ],
      "execution_count": null,
      "outputs": []
    },
    {
      "cell_type": "code",
      "metadata": {
        "id": "hrX0KJjaWVx6"
      },
      "source": [
        ""
      ],
      "execution_count": null,
      "outputs": []
    },
    {
      "cell_type": "code",
      "metadata": {
        "colab": {
          "base_uri": "https://localhost:8080/",
          "height": 1000
        },
        "id": "5EfbBEXv84ZQ",
        "outputId": "a209f8b7-5ab1-430c-cdef-e2ddf0cc71ef"
      },
      "source": [
        "series = Cali_PD[[\"AQI\",\"Date\"]]\n",
        "#series.plot()\n",
        "#plt.ylim((0,250))\n",
        "\n",
        "#plt.show()\n",
        "\n",
        "plt.xlabel(\"Date\")\n",
        "plt.ylabel(\"AQI\")\n",
        "plt.title(\"production graph\")\n",
        "plt.plot(series)"
      ],
      "execution_count": null,
      "outputs": [
        {
          "output_type": "error",
          "ename": "ConversionError",
          "evalue": "ignored",
          "traceback": [
            "\u001b[0;31m---------------------------------------------------------------------------\u001b[0m",
            "\u001b[0;31mValueError\u001b[0m                                Traceback (most recent call last)",
            "\u001b[0;32m/usr/local/lib/python3.7/dist-packages/matplotlib/axis.py\u001b[0m in \u001b[0;36mconvert_units\u001b[0;34m(self, x)\u001b[0m\n\u001b[1;32m   1572\u001b[0m         \u001b[0;32mtry\u001b[0m\u001b[0;34m:\u001b[0m\u001b[0;34m\u001b[0m\u001b[0;34m\u001b[0m\u001b[0m\n\u001b[0;32m-> 1573\u001b[0;31m             \u001b[0mret\u001b[0m \u001b[0;34m=\u001b[0m \u001b[0mself\u001b[0m\u001b[0;34m.\u001b[0m\u001b[0mconverter\u001b[0m\u001b[0;34m.\u001b[0m\u001b[0mconvert\u001b[0m\u001b[0;34m(\u001b[0m\u001b[0mx\u001b[0m\u001b[0;34m,\u001b[0m \u001b[0mself\u001b[0m\u001b[0;34m.\u001b[0m\u001b[0munits\u001b[0m\u001b[0;34m,\u001b[0m \u001b[0mself\u001b[0m\u001b[0;34m)\u001b[0m\u001b[0;34m\u001b[0m\u001b[0;34m\u001b[0m\u001b[0m\n\u001b[0m\u001b[1;32m   1574\u001b[0m         \u001b[0;32mexcept\u001b[0m \u001b[0mException\u001b[0m \u001b[0;32mas\u001b[0m \u001b[0me\u001b[0m\u001b[0;34m:\u001b[0m\u001b[0;34m\u001b[0m\u001b[0;34m\u001b[0m\u001b[0m\n",
            "\u001b[0;32m/usr/local/lib/python3.7/dist-packages/matplotlib/category.py\u001b[0m in \u001b[0;36mconvert\u001b[0;34m(value, unit, axis)\u001b[0m\n\u001b[1;32m     49\u001b[0m             raise ValueError(\n\u001b[0;32m---> 50\u001b[0;31m                 \u001b[0;34m'Missing category information for StrCategoryConverter; '\u001b[0m\u001b[0;34m\u001b[0m\u001b[0;34m\u001b[0m\u001b[0m\n\u001b[0m\u001b[1;32m     51\u001b[0m                 \u001b[0;34m'this might be caused by unintendedly mixing categorical and '\u001b[0m\u001b[0;34m\u001b[0m\u001b[0;34m\u001b[0m\u001b[0m\n",
            "\u001b[0;31mValueError\u001b[0m: Missing category information for StrCategoryConverter; this might be caused by unintendedly mixing categorical and numeric data",
            "\nThe above exception was the direct cause of the following exception:\n",
            "\u001b[0;31mConversionError\u001b[0m                           Traceback (most recent call last)",
            "\u001b[0;32m<ipython-input-74-ced30a42c657>\u001b[0m in \u001b[0;36m<module>\u001b[0;34m()\u001b[0m\n\u001b[1;32m      8\u001b[0m \u001b[0mplt\u001b[0m\u001b[0;34m.\u001b[0m\u001b[0mylabel\u001b[0m\u001b[0;34m(\u001b[0m\u001b[0;34m\"AQI\"\u001b[0m\u001b[0;34m)\u001b[0m\u001b[0;34m\u001b[0m\u001b[0;34m\u001b[0m\u001b[0m\n\u001b[1;32m      9\u001b[0m \u001b[0mplt\u001b[0m\u001b[0;34m.\u001b[0m\u001b[0mtitle\u001b[0m\u001b[0;34m(\u001b[0m\u001b[0;34m\"production graph\"\u001b[0m\u001b[0;34m)\u001b[0m\u001b[0;34m\u001b[0m\u001b[0;34m\u001b[0m\u001b[0m\n\u001b[0;32m---> 10\u001b[0;31m \u001b[0mplt\u001b[0m\u001b[0;34m.\u001b[0m\u001b[0mplot\u001b[0m\u001b[0;34m(\u001b[0m\u001b[0mseries\u001b[0m\u001b[0;34m)\u001b[0m\u001b[0;34m\u001b[0m\u001b[0;34m\u001b[0m\u001b[0m\n\u001b[0m",
            "\u001b[0;32m/usr/local/lib/python3.7/dist-packages/matplotlib/pyplot.py\u001b[0m in \u001b[0;36mplot\u001b[0;34m(scalex, scaley, data, *args, **kwargs)\u001b[0m\n\u001b[1;32m   2761\u001b[0m     return gca().plot(\n\u001b[1;32m   2762\u001b[0m         *args, scalex=scalex, scaley=scaley, **({\"data\": data} if data\n\u001b[0;32m-> 2763\u001b[0;31m         is not None else {}), **kwargs)\n\u001b[0m\u001b[1;32m   2764\u001b[0m \u001b[0;34m\u001b[0m\u001b[0m\n\u001b[1;32m   2765\u001b[0m \u001b[0;34m\u001b[0m\u001b[0m\n",
            "\u001b[0;32m/usr/local/lib/python3.7/dist-packages/matplotlib/axes/_axes.py\u001b[0m in \u001b[0;36mplot\u001b[0;34m(self, scalex, scaley, data, *args, **kwargs)\u001b[0m\n\u001b[1;32m   1647\u001b[0m         \u001b[0mlines\u001b[0m \u001b[0;34m=\u001b[0m \u001b[0;34m[\u001b[0m\u001b[0;34m*\u001b[0m\u001b[0mself\u001b[0m\u001b[0;34m.\u001b[0m\u001b[0m_get_lines\u001b[0m\u001b[0;34m(\u001b[0m\u001b[0;34m*\u001b[0m\u001b[0margs\u001b[0m\u001b[0;34m,\u001b[0m \u001b[0mdata\u001b[0m\u001b[0;34m=\u001b[0m\u001b[0mdata\u001b[0m\u001b[0;34m,\u001b[0m \u001b[0;34m**\u001b[0m\u001b[0mkwargs\u001b[0m\u001b[0;34m)\u001b[0m\u001b[0;34m]\u001b[0m\u001b[0;34m\u001b[0m\u001b[0;34m\u001b[0m\u001b[0m\n\u001b[1;32m   1648\u001b[0m         \u001b[0;32mfor\u001b[0m \u001b[0mline\u001b[0m \u001b[0;32min\u001b[0m \u001b[0mlines\u001b[0m\u001b[0;34m:\u001b[0m\u001b[0;34m\u001b[0m\u001b[0;34m\u001b[0m\u001b[0m\n\u001b[0;32m-> 1649\u001b[0;31m             \u001b[0mself\u001b[0m\u001b[0;34m.\u001b[0m\u001b[0madd_line\u001b[0m\u001b[0;34m(\u001b[0m\u001b[0mline\u001b[0m\u001b[0;34m)\u001b[0m\u001b[0;34m\u001b[0m\u001b[0;34m\u001b[0m\u001b[0m\n\u001b[0m\u001b[1;32m   1650\u001b[0m         \u001b[0mself\u001b[0m\u001b[0;34m.\u001b[0m\u001b[0m_request_autoscale_view\u001b[0m\u001b[0;34m(\u001b[0m\u001b[0mscalex\u001b[0m\u001b[0;34m=\u001b[0m\u001b[0mscalex\u001b[0m\u001b[0;34m,\u001b[0m \u001b[0mscaley\u001b[0m\u001b[0;34m=\u001b[0m\u001b[0mscaley\u001b[0m\u001b[0;34m)\u001b[0m\u001b[0;34m\u001b[0m\u001b[0;34m\u001b[0m\u001b[0m\n\u001b[1;32m   1651\u001b[0m         \u001b[0;32mreturn\u001b[0m \u001b[0mlines\u001b[0m\u001b[0;34m\u001b[0m\u001b[0;34m\u001b[0m\u001b[0m\n",
            "\u001b[0;32m/usr/local/lib/python3.7/dist-packages/matplotlib/axes/_base.py\u001b[0m in \u001b[0;36madd_line\u001b[0;34m(self, line)\u001b[0m\n\u001b[1;32m   1848\u001b[0m             \u001b[0mline\u001b[0m\u001b[0;34m.\u001b[0m\u001b[0mset_clip_path\u001b[0m\u001b[0;34m(\u001b[0m\u001b[0mself\u001b[0m\u001b[0;34m.\u001b[0m\u001b[0mpatch\u001b[0m\u001b[0;34m)\u001b[0m\u001b[0;34m\u001b[0m\u001b[0;34m\u001b[0m\u001b[0m\n\u001b[1;32m   1849\u001b[0m \u001b[0;34m\u001b[0m\u001b[0m\n\u001b[0;32m-> 1850\u001b[0;31m         \u001b[0mself\u001b[0m\u001b[0;34m.\u001b[0m\u001b[0m_update_line_limits\u001b[0m\u001b[0;34m(\u001b[0m\u001b[0mline\u001b[0m\u001b[0;34m)\u001b[0m\u001b[0;34m\u001b[0m\u001b[0;34m\u001b[0m\u001b[0m\n\u001b[0m\u001b[1;32m   1851\u001b[0m         \u001b[0;32mif\u001b[0m \u001b[0;32mnot\u001b[0m \u001b[0mline\u001b[0m\u001b[0;34m.\u001b[0m\u001b[0mget_label\u001b[0m\u001b[0;34m(\u001b[0m\u001b[0;34m)\u001b[0m\u001b[0;34m:\u001b[0m\u001b[0;34m\u001b[0m\u001b[0;34m\u001b[0m\u001b[0m\n\u001b[1;32m   1852\u001b[0m             \u001b[0mline\u001b[0m\u001b[0;34m.\u001b[0m\u001b[0mset_label\u001b[0m\u001b[0;34m(\u001b[0m\u001b[0;34m'_line%d'\u001b[0m \u001b[0;34m%\u001b[0m \u001b[0mlen\u001b[0m\u001b[0;34m(\u001b[0m\u001b[0mself\u001b[0m\u001b[0;34m.\u001b[0m\u001b[0mlines\u001b[0m\u001b[0;34m)\u001b[0m\u001b[0;34m)\u001b[0m\u001b[0;34m\u001b[0m\u001b[0;34m\u001b[0m\u001b[0m\n",
            "\u001b[0;32m/usr/local/lib/python3.7/dist-packages/matplotlib/axes/_base.py\u001b[0m in \u001b[0;36m_update_line_limits\u001b[0;34m(self, line)\u001b[0m\n\u001b[1;32m   1870\u001b[0m         \u001b[0mFigures\u001b[0m \u001b[0mout\u001b[0m \u001b[0mthe\u001b[0m \u001b[0mdata\u001b[0m \u001b[0mlimit\u001b[0m \u001b[0mof\u001b[0m \u001b[0mthe\u001b[0m \u001b[0mgiven\u001b[0m \u001b[0mline\u001b[0m\u001b[0;34m,\u001b[0m \u001b[0mupdating\u001b[0m \u001b[0mself\u001b[0m\u001b[0;34m.\u001b[0m\u001b[0mdataLim\u001b[0m\u001b[0;34m.\u001b[0m\u001b[0;34m\u001b[0m\u001b[0;34m\u001b[0m\u001b[0m\n\u001b[1;32m   1871\u001b[0m         \"\"\"\n\u001b[0;32m-> 1872\u001b[0;31m         \u001b[0mpath\u001b[0m \u001b[0;34m=\u001b[0m \u001b[0mline\u001b[0m\u001b[0;34m.\u001b[0m\u001b[0mget_path\u001b[0m\u001b[0;34m(\u001b[0m\u001b[0;34m)\u001b[0m\u001b[0;34m\u001b[0m\u001b[0;34m\u001b[0m\u001b[0m\n\u001b[0m\u001b[1;32m   1873\u001b[0m         \u001b[0;32mif\u001b[0m \u001b[0mpath\u001b[0m\u001b[0;34m.\u001b[0m\u001b[0mvertices\u001b[0m\u001b[0;34m.\u001b[0m\u001b[0msize\u001b[0m \u001b[0;34m==\u001b[0m \u001b[0;36m0\u001b[0m\u001b[0;34m:\u001b[0m\u001b[0;34m\u001b[0m\u001b[0;34m\u001b[0m\u001b[0m\n\u001b[1;32m   1874\u001b[0m             \u001b[0;32mreturn\u001b[0m\u001b[0;34m\u001b[0m\u001b[0;34m\u001b[0m\u001b[0m\n",
            "\u001b[0;32m/usr/local/lib/python3.7/dist-packages/matplotlib/lines.py\u001b[0m in \u001b[0;36mget_path\u001b[0;34m(self)\u001b[0m\n\u001b[1;32m   1025\u001b[0m         \"\"\"\n\u001b[1;32m   1026\u001b[0m         \u001b[0;32mif\u001b[0m \u001b[0mself\u001b[0m\u001b[0;34m.\u001b[0m\u001b[0m_invalidy\u001b[0m \u001b[0;32mor\u001b[0m \u001b[0mself\u001b[0m\u001b[0;34m.\u001b[0m\u001b[0m_invalidx\u001b[0m\u001b[0;34m:\u001b[0m\u001b[0;34m\u001b[0m\u001b[0;34m\u001b[0m\u001b[0m\n\u001b[0;32m-> 1027\u001b[0;31m             \u001b[0mself\u001b[0m\u001b[0;34m.\u001b[0m\u001b[0mrecache\u001b[0m\u001b[0;34m(\u001b[0m\u001b[0;34m)\u001b[0m\u001b[0;34m\u001b[0m\u001b[0;34m\u001b[0m\u001b[0m\n\u001b[0m\u001b[1;32m   1028\u001b[0m         \u001b[0;32mreturn\u001b[0m \u001b[0mself\u001b[0m\u001b[0;34m.\u001b[0m\u001b[0m_path\u001b[0m\u001b[0;34m\u001b[0m\u001b[0;34m\u001b[0m\u001b[0m\n\u001b[1;32m   1029\u001b[0m \u001b[0;34m\u001b[0m\u001b[0m\n",
            "\u001b[0;32m/usr/local/lib/python3.7/dist-packages/matplotlib/lines.py\u001b[0m in \u001b[0;36mrecache\u001b[0;34m(self, always)\u001b[0m\n\u001b[1;32m    672\u001b[0m             \u001b[0mx\u001b[0m \u001b[0;34m=\u001b[0m \u001b[0mself\u001b[0m\u001b[0;34m.\u001b[0m\u001b[0m_x\u001b[0m\u001b[0;34m\u001b[0m\u001b[0;34m\u001b[0m\u001b[0m\n\u001b[1;32m    673\u001b[0m         \u001b[0;32mif\u001b[0m \u001b[0malways\u001b[0m \u001b[0;32mor\u001b[0m \u001b[0mself\u001b[0m\u001b[0;34m.\u001b[0m\u001b[0m_invalidy\u001b[0m\u001b[0;34m:\u001b[0m\u001b[0;34m\u001b[0m\u001b[0;34m\u001b[0m\u001b[0m\n\u001b[0;32m--> 674\u001b[0;31m             \u001b[0myconv\u001b[0m \u001b[0;34m=\u001b[0m \u001b[0mself\u001b[0m\u001b[0;34m.\u001b[0m\u001b[0mconvert_yunits\u001b[0m\u001b[0;34m(\u001b[0m\u001b[0mself\u001b[0m\u001b[0;34m.\u001b[0m\u001b[0m_yorig\u001b[0m\u001b[0;34m)\u001b[0m\u001b[0;34m\u001b[0m\u001b[0;34m\u001b[0m\u001b[0m\n\u001b[0m\u001b[1;32m    675\u001b[0m             \u001b[0my\u001b[0m \u001b[0;34m=\u001b[0m \u001b[0m_to_unmasked_float_array\u001b[0m\u001b[0;34m(\u001b[0m\u001b[0myconv\u001b[0m\u001b[0;34m)\u001b[0m\u001b[0;34m.\u001b[0m\u001b[0mravel\u001b[0m\u001b[0;34m(\u001b[0m\u001b[0;34m)\u001b[0m\u001b[0;34m\u001b[0m\u001b[0;34m\u001b[0m\u001b[0m\n\u001b[1;32m    676\u001b[0m         \u001b[0;32melse\u001b[0m\u001b[0;34m:\u001b[0m\u001b[0;34m\u001b[0m\u001b[0;34m\u001b[0m\u001b[0m\n",
            "\u001b[0;32m/usr/local/lib/python3.7/dist-packages/matplotlib/artist.py\u001b[0m in \u001b[0;36mconvert_yunits\u001b[0;34m(self, y)\u001b[0m\n\u001b[1;32m    188\u001b[0m         \u001b[0;32mif\u001b[0m \u001b[0max\u001b[0m \u001b[0;32mis\u001b[0m \u001b[0;32mNone\u001b[0m \u001b[0;32mor\u001b[0m \u001b[0max\u001b[0m\u001b[0;34m.\u001b[0m\u001b[0myaxis\u001b[0m \u001b[0;32mis\u001b[0m \u001b[0;32mNone\u001b[0m\u001b[0;34m:\u001b[0m\u001b[0;34m\u001b[0m\u001b[0;34m\u001b[0m\u001b[0m\n\u001b[1;32m    189\u001b[0m             \u001b[0;32mreturn\u001b[0m \u001b[0my\u001b[0m\u001b[0;34m\u001b[0m\u001b[0;34m\u001b[0m\u001b[0m\n\u001b[0;32m--> 190\u001b[0;31m         \u001b[0;32mreturn\u001b[0m \u001b[0max\u001b[0m\u001b[0;34m.\u001b[0m\u001b[0myaxis\u001b[0m\u001b[0;34m.\u001b[0m\u001b[0mconvert_units\u001b[0m\u001b[0;34m(\u001b[0m\u001b[0my\u001b[0m\u001b[0;34m)\u001b[0m\u001b[0;34m\u001b[0m\u001b[0;34m\u001b[0m\u001b[0m\n\u001b[0m\u001b[1;32m    191\u001b[0m \u001b[0;34m\u001b[0m\u001b[0m\n\u001b[1;32m    192\u001b[0m     \u001b[0;34m@\u001b[0m\u001b[0mproperty\u001b[0m\u001b[0;34m\u001b[0m\u001b[0;34m\u001b[0m\u001b[0m\n",
            "\u001b[0;32m/usr/local/lib/python3.7/dist-packages/matplotlib/axis.py\u001b[0m in \u001b[0;36mconvert_units\u001b[0;34m(self, x)\u001b[0m\n\u001b[1;32m   1574\u001b[0m         \u001b[0;32mexcept\u001b[0m \u001b[0mException\u001b[0m \u001b[0;32mas\u001b[0m \u001b[0me\u001b[0m\u001b[0;34m:\u001b[0m\u001b[0;34m\u001b[0m\u001b[0;34m\u001b[0m\u001b[0m\n\u001b[1;32m   1575\u001b[0m             raise munits.ConversionError('Failed to convert value(s) to axis '\n\u001b[0;32m-> 1576\u001b[0;31m                                          f'units: {x!r}') from e\n\u001b[0m\u001b[1;32m   1577\u001b[0m         \u001b[0;32mreturn\u001b[0m \u001b[0mret\u001b[0m\u001b[0;34m\u001b[0m\u001b[0;34m\u001b[0m\u001b[0m\n\u001b[1;32m   1578\u001b[0m \u001b[0;34m\u001b[0m\u001b[0m\n",
            "\u001b[0;31mConversionError\u001b[0m: Failed to convert value(s) to axis units: array(['2000-01-01', '2000-01-02', '2000-01-03', ..., '2020-08-30',\n       '2020-08-31', '2020-09-01'], dtype=object)"
          ]
        },
        {
          "output_type": "display_data",
          "data": {
            "image/png": "[encoded data removed]",
            "text/plain": [
              "<Figure size 1440x720 with 1 Axes>"
            ]
          },
          "metadata": {
            "tags": []
          }
        }
      ]
    },
    {
      "cell_type": "code",
      "metadata": {
        "id": "c_6TCJuZ84b6"
      },
      "source": [
        "def mean_absolute_percentage_error(y_true, y_pred): \n",
        "    y_true, y_pred = np.array(y_true), np.array(y_pred)\n",
        "    return np.mean(np.abs((y_true - y_pred) / y_true)) * 100"
      ],
      "execution_count": null,
      "outputs": []
    },
    {
      "cell_type": "code",
      "metadata": {
        "colab": {
          "base_uri": "https://localhost:8080/",
          "height": 347
        },
        "id": "vmGdm1Am84ef",
        "outputId": "d7eb1177-e910-430e-90d4-b4d12687a6fb"
      },
      "source": [
        "#from import automodel\n",
        "test['ARIMA'] = arima_model.predict(len(test))\n",
        "\n",
        "test.head(5)"
      ],
      "execution_count": null,
      "outputs": [
        {
          "output_type": "execute_result",
          "data": {
            "text/html": [
              "<div>\n",
              "<style scoped>\n",
              "    .dataframe tbody tr th:only-of-type {\n",
              "        vertical-align: middle;\n",
              "    }\n",
              "\n",
              "    .dataframe tbody tr th {\n",
              "        vertical-align: top;\n",
              "    }\n",
              "\n",
              "    .dataframe thead th {\n",
              "        text-align: right;\n",
              "    }\n",
              "</style>\n",
              "<table border=\"1\" class=\"dataframe\">\n",
              "  <thead>\n",
              "    <tr style=\"text-align: right;\">\n",
              "      <th></th>\n",
              "      <th>State Name</th>\n",
              "      <th>State Code</th>\n",
              "      <th>county Name</th>\n",
              "      <th>County Code</th>\n",
              "      <th>Date</th>\n",
              "      <th>AQI</th>\n",
              "      <th>Category</th>\n",
              "      <th>ARIMA</th>\n",
              "    </tr>\n",
              "  </thead>\n",
              "  <tbody>\n",
              "    <tr>\n",
              "      <th>0</th>\n",
              "      <td>California</td>\n",
              "      <td>6</td>\n",
              "      <td>Alameda</td>\n",
              "      <td>1</td>\n",
              "      <td>2019-01-01</td>\n",
              "      <td>34</td>\n",
              "      <td>Good</td>\n",
              "      <td>45.631373</td>\n",
              "    </tr>\n",
              "    <tr>\n",
              "      <th>1</th>\n",
              "      <td>California</td>\n",
              "      <td>6</td>\n",
              "      <td>Alameda</td>\n",
              "      <td>1</td>\n",
              "      <td>2019-01-02</td>\n",
              "      <td>50</td>\n",
              "      <td>Good</td>\n",
              "      <td>45.631373</td>\n",
              "    </tr>\n",
              "    <tr>\n",
              "      <th>3</th>\n",
              "      <td>California</td>\n",
              "      <td>6</td>\n",
              "      <td>Alameda</td>\n",
              "      <td>1</td>\n",
              "      <td>2019-01-04</td>\n",
              "      <td>87</td>\n",
              "      <td>Moderate</td>\n",
              "      <td>45.631373</td>\n",
              "    </tr>\n",
              "    <tr>\n",
              "      <th>6</th>\n",
              "      <td>California</td>\n",
              "      <td>6</td>\n",
              "      <td>Alameda</td>\n",
              "      <td>1</td>\n",
              "      <td>2019-01-07</td>\n",
              "      <td>38</td>\n",
              "      <td>Good</td>\n",
              "      <td>45.631373</td>\n",
              "    </tr>\n",
              "    <tr>\n",
              "      <th>7</th>\n",
              "      <td>California</td>\n",
              "      <td>6</td>\n",
              "      <td>Alameda</td>\n",
              "      <td>1</td>\n",
              "      <td>2019-01-08</td>\n",
              "      <td>34</td>\n",
              "      <td>Good</td>\n",
              "      <td>45.631373</td>\n",
              "    </tr>\n",
              "  </tbody>\n",
              "</table>\n",
              "</div>"
            ],
            "text/plain": [
              "   State Name  State Code county Name  ...  AQI  Category      ARIMA\n",
              "0  California           6     Alameda  ...   34      Good  45.631373\n",
              "1  California           6     Alameda  ...   50      Good  45.631373\n",
              "3  California           6     Alameda  ...   87  Moderate  45.631373\n",
              "6  California           6     Alameda  ...   38      Good  45.631373\n",
              "7  California           6     Alameda  ...   34      Good  45.631373\n",
              "\n",
              "[5 rows x 8 columns]"
            ]
          },
          "metadata": {
            "tags": []
          },
          "execution_count": 43
        }
      ]
    },
    {
      "cell_type": "code",
      "metadata": {
        "colab": {
          "base_uri": "https://localhost:8080/",
          "height": 581
        },
        "id": "WjVc3-A9JvIG",
        "outputId": "8b96f66c-6fd1-4628-f873-50d262d91a2e"
      },
      "source": [
        "Cali_PD"
      ],
      "execution_count": null,
      "outputs": [
        {
          "output_type": "execute_result",
          "data": {
            "text/html": [
              "<div>\n",
              "<style scoped>\n",
              "    .dataframe tbody tr th:only-of-type {\n",
              "        vertical-align: middle;\n",
              "    }\n",
              "\n",
              "    .dataframe tbody tr th {\n",
              "        vertical-align: top;\n",
              "    }\n",
              "\n",
              "    .dataframe thead th {\n",
              "        text-align: right;\n",
              "    }\n",
              "</style>\n",
              "<table border=\"1\" class=\"dataframe\">\n",
              "  <thead>\n",
              "    <tr style=\"text-align: right;\">\n",
              "      <th></th>\n",
              "      <th>State Name</th>\n",
              "      <th>State Code</th>\n",
              "      <th>county Name</th>\n",
              "      <th>County Code</th>\n",
              "      <th>AQI</th>\n",
              "      <th>Category</th>\n",
              "    </tr>\n",
              "    <tr>\n",
              "      <th>Date</th>\n",
              "      <th></th>\n",
              "      <th></th>\n",
              "      <th></th>\n",
              "      <th></th>\n",
              "      <th></th>\n",
              "      <th></th>\n",
              "    </tr>\n",
              "  </thead>\n",
              "  <tbody>\n",
              "    <tr>\n",
              "      <th>2019-01-01</th>\n",
              "      <td>California</td>\n",
              "      <td>6</td>\n",
              "      <td>Alameda</td>\n",
              "      <td>1</td>\n",
              "      <td>34</td>\n",
              "      <td>Good</td>\n",
              "    </tr>\n",
              "    <tr>\n",
              "      <th>2019-01-02</th>\n",
              "      <td>California</td>\n",
              "      <td>6</td>\n",
              "      <td>Alameda</td>\n",
              "      <td>1</td>\n",
              "      <td>50</td>\n",
              "      <td>Good</td>\n",
              "    </tr>\n",
              "    <tr>\n",
              "      <th>2019-01-03</th>\n",
              "      <td>California</td>\n",
              "      <td>6</td>\n",
              "      <td>Alameda</td>\n",
              "      <td>1</td>\n",
              "      <td>71</td>\n",
              "      <td>Moderate</td>\n",
              "    </tr>\n",
              "    <tr>\n",
              "      <th>2019-01-04</th>\n",
              "      <td>California</td>\n",
              "      <td>6</td>\n",
              "      <td>Alameda</td>\n",
              "      <td>1</td>\n",
              "      <td>87</td>\n",
              "      <td>Moderate</td>\n",
              "    </tr>\n",
              "    <tr>\n",
              "      <th>2019-01-05</th>\n",
              "      <td>California</td>\n",
              "      <td>6</td>\n",
              "      <td>Alameda</td>\n",
              "      <td>1</td>\n",
              "      <td>53</td>\n",
              "      <td>Moderate</td>\n",
              "    </tr>\n",
              "    <tr>\n",
              "      <th>...</th>\n",
              "      <td>...</td>\n",
              "      <td>...</td>\n",
              "      <td>...</td>\n",
              "      <td>...</td>\n",
              "      <td>...</td>\n",
              "      <td>...</td>\n",
              "    </tr>\n",
              "    <tr>\n",
              "      <th>2019-12-27</th>\n",
              "      <td>California</td>\n",
              "      <td>6</td>\n",
              "      <td>Alameda</td>\n",
              "      <td>1</td>\n",
              "      <td>39</td>\n",
              "      <td>Good</td>\n",
              "    </tr>\n",
              "    <tr>\n",
              "      <th>2019-12-28</th>\n",
              "      <td>California</td>\n",
              "      <td>6</td>\n",
              "      <td>Alameda</td>\n",
              "      <td>1</td>\n",
              "      <td>42</td>\n",
              "      <td>Good</td>\n",
              "    </tr>\n",
              "    <tr>\n",
              "      <th>2019-12-29</th>\n",
              "      <td>California</td>\n",
              "      <td>6</td>\n",
              "      <td>Alameda</td>\n",
              "      <td>1</td>\n",
              "      <td>36</td>\n",
              "      <td>Good</td>\n",
              "    </tr>\n",
              "    <tr>\n",
              "      <th>2019-12-30</th>\n",
              "      <td>California</td>\n",
              "      <td>6</td>\n",
              "      <td>Alameda</td>\n",
              "      <td>1</td>\n",
              "      <td>41</td>\n",
              "      <td>Good</td>\n",
              "    </tr>\n",
              "    <tr>\n",
              "      <th>2019-12-31</th>\n",
              "      <td>California</td>\n",
              "      <td>6</td>\n",
              "      <td>Alameda</td>\n",
              "      <td>1</td>\n",
              "      <td>44</td>\n",
              "      <td>Good</td>\n",
              "    </tr>\n",
              "  </tbody>\n",
              "</table>\n",
              "<p>365 rows × 6 columns</p>\n",
              "</div>"
            ],
            "text/plain": [
              "            State Name  State Code county Name  County Code  AQI  Category\n",
              "Date                                                                      \n",
              "2019-01-01  California           6     Alameda            1   34      Good\n",
              "2019-01-02  California           6     Alameda            1   50      Good\n",
              "2019-01-03  California           6     Alameda            1   71  Moderate\n",
              "2019-01-04  California           6     Alameda            1   87  Moderate\n",
              "2019-01-05  California           6     Alameda            1   53  Moderate\n",
              "...                ...         ...         ...          ...  ...       ...\n",
              "2019-12-27  California           6     Alameda            1   39      Good\n",
              "2019-12-28  California           6     Alameda            1   42      Good\n",
              "2019-12-29  California           6     Alameda            1   36      Good\n",
              "2019-12-30  California           6     Alameda            1   41      Good\n",
              "2019-12-31  California           6     Alameda            1   44      Good\n",
              "\n",
              "[365 rows x 6 columns]"
            ]
          },
          "metadata": {
            "tags": []
          },
          "execution_count": 30
        }
      ]
    },
    {
      "cell_type": "code",
      "metadata": {
        "id": "UawWxmvD84hV"
      },
      "source": [
        "#Cali_PD.set_index('Date', inplace=True, drop=False)\n",
        "\n",
        "cali_updated = Cali_PD[[\"Date\",\"AQI\"]]\n",
        "cali_updated = cali_updated.rename(columns={\"Date\": \"ds\", \"AQI\": \"y\"})\n",
        "import pandas as pd\n",
        "from fbprophet import Prophet\n",
        "\n",
        "# instantiate the model and set parameters\n",
        "model = Prophet(\n",
        "    interval_width=0.95,\n",
        "    growth='linear',\n",
        "    daily_seasonality=True,\n",
        "    weekly_seasonality=True,\n",
        "    yearly_seasonality=True,\n",
        "    seasonality_mode='additive'\n",
        ")\n",
        "\n",
        "# fit the model to historical data\n",
        "model.fit(cali_updated)\n",
        "\n",
        "future_pd = model.make_future_dataframe(\n",
        "    periods=0,\n",
        "    freq='d',\n",
        "    include_history=True\n",
        ")\n",
        "\n",
        "# predict over the dataset\n",
        "forecast_pd = model.predict(future_pd)\n"
      ],
      "execution_count": null,
      "outputs": []
    },
    {
      "cell_type": "code",
      "metadata": {
        "id": "QLANZn3v84j8"
      },
      "source": [
        "for index, row in forecast_pd.iterrows():\n",
        "  if row[\"yhat\"] < 0:\n",
        "    print(row[\"yhat\"],row[\"ds\"])"
      ],
      "execution_count": null,
      "outputs": []
    },
    {
      "cell_type": "code",
      "metadata": {
        "colab": {
          "base_uri": "https://localhost:8080/",
          "height": 741
        },
        "id": "75TpAG7n84nQ",
        "outputId": "1d016e24-1217-421f-d4ec-ffde32e7130d"
      },
      "source": [
        "forecast_pd"
      ],
      "execution_count": null,
      "outputs": [
        {
          "output_type": "execute_result",
          "data": {
            "text/html": [
              "<div>\n",
              "<style scoped>\n",
              "    .dataframe tbody tr th:only-of-type {\n",
              "        vertical-align: middle;\n",
              "    }\n",
              "\n",
              "    .dataframe tbody tr th {\n",
              "        vertical-align: top;\n",
              "    }\n",
              "\n",
              "    .dataframe thead th {\n",
              "        text-align: right;\n",
              "    }\n",
              "</style>\n",
              "<table border=\"1\" class=\"dataframe\">\n",
              "  <thead>\n",
              "    <tr style=\"text-align: right;\">\n",
              "      <th></th>\n",
              "      <th>ds</th>\n",
              "      <th>trend</th>\n",
              "      <th>yhat_lower</th>\n",
              "      <th>yhat_upper</th>\n",
              "      <th>trend_lower</th>\n",
              "      <th>trend_upper</th>\n",
              "      <th>additive_terms</th>\n",
              "      <th>additive_terms_lower</th>\n",
              "      <th>additive_terms_upper</th>\n",
              "      <th>daily</th>\n",
              "      <th>daily_lower</th>\n",
              "      <th>daily_upper</th>\n",
              "      <th>weekly</th>\n",
              "      <th>weekly_lower</th>\n",
              "      <th>weekly_upper</th>\n",
              "      <th>yearly</th>\n",
              "      <th>yearly_lower</th>\n",
              "      <th>yearly_upper</th>\n",
              "      <th>multiplicative_terms</th>\n",
              "      <th>multiplicative_terms_lower</th>\n",
              "      <th>multiplicative_terms_upper</th>\n",
              "      <th>yhat</th>\n",
              "    </tr>\n",
              "  </thead>\n",
              "  <tbody>\n",
              "    <tr>\n",
              "      <th>0</th>\n",
              "      <td>2019-01-01</td>\n",
              "      <td>37.842677</td>\n",
              "      <td>21.204614</td>\n",
              "      <td>79.685837</td>\n",
              "      <td>37.842677</td>\n",
              "      <td>37.842677</td>\n",
              "      <td>12.495083</td>\n",
              "      <td>12.495083</td>\n",
              "      <td>12.495083</td>\n",
              "      <td>15.451534</td>\n",
              "      <td>15.451534</td>\n",
              "      <td>15.451534</td>\n",
              "      <td>0.208504</td>\n",
              "      <td>0.208504</td>\n",
              "      <td>0.208504</td>\n",
              "      <td>-3.164955</td>\n",
              "      <td>-3.164955</td>\n",
              "      <td>-3.164955</td>\n",
              "      <td>0.0</td>\n",
              "      <td>0.0</td>\n",
              "      <td>0.0</td>\n",
              "      <td>50.337760</td>\n",
              "    </tr>\n",
              "    <tr>\n",
              "      <th>1</th>\n",
              "      <td>2019-01-02</td>\n",
              "      <td>37.802004</td>\n",
              "      <td>20.364536</td>\n",
              "      <td>80.394849</td>\n",
              "      <td>37.802004</td>\n",
              "      <td>37.802004</td>\n",
              "      <td>13.052622</td>\n",
              "      <td>13.052622</td>\n",
              "      <td>13.052622</td>\n",
              "      <td>15.451534</td>\n",
              "      <td>15.451534</td>\n",
              "      <td>15.451534</td>\n",
              "      <td>1.487468</td>\n",
              "      <td>1.487468</td>\n",
              "      <td>1.487468</td>\n",
              "      <td>-3.886380</td>\n",
              "      <td>-3.886380</td>\n",
              "      <td>-3.886380</td>\n",
              "      <td>0.0</td>\n",
              "      <td>0.0</td>\n",
              "      <td>0.0</td>\n",
              "      <td>50.854626</td>\n",
              "    </tr>\n",
              "    <tr>\n",
              "      <th>2</th>\n",
              "      <td>2019-01-03</td>\n",
              "      <td>37.761330</td>\n",
              "      <td>17.779532</td>\n",
              "      <td>75.692000</td>\n",
              "      <td>37.761330</td>\n",
              "      <td>37.761330</td>\n",
              "      <td>10.779270</td>\n",
              "      <td>10.779270</td>\n",
              "      <td>10.779270</td>\n",
              "      <td>15.451534</td>\n",
              "      <td>15.451534</td>\n",
              "      <td>15.451534</td>\n",
              "      <td>-0.090775</td>\n",
              "      <td>-0.090775</td>\n",
              "      <td>-0.090775</td>\n",
              "      <td>-4.581489</td>\n",
              "      <td>-4.581489</td>\n",
              "      <td>-4.581489</td>\n",
              "      <td>0.0</td>\n",
              "      <td>0.0</td>\n",
              "      <td>0.0</td>\n",
              "      <td>48.540600</td>\n",
              "    </tr>\n",
              "    <tr>\n",
              "      <th>3</th>\n",
              "      <td>2019-01-04</td>\n",
              "      <td>37.720657</td>\n",
              "      <td>19.368133</td>\n",
              "      <td>76.509741</td>\n",
              "      <td>37.720657</td>\n",
              "      <td>37.720657</td>\n",
              "      <td>10.737004</td>\n",
              "      <td>10.737004</td>\n",
              "      <td>10.737004</td>\n",
              "      <td>15.451534</td>\n",
              "      <td>15.451534</td>\n",
              "      <td>15.451534</td>\n",
              "      <td>0.523582</td>\n",
              "      <td>0.523582</td>\n",
              "      <td>0.523582</td>\n",
              "      <td>-5.238112</td>\n",
              "      <td>-5.238112</td>\n",
              "      <td>-5.238112</td>\n",
              "      <td>0.0</td>\n",
              "      <td>0.0</td>\n",
              "      <td>0.0</td>\n",
              "      <td>48.457661</td>\n",
              "    </tr>\n",
              "    <tr>\n",
              "      <th>4</th>\n",
              "      <td>2019-01-05</td>\n",
              "      <td>37.679984</td>\n",
              "      <td>18.619724</td>\n",
              "      <td>78.324971</td>\n",
              "      <td>37.679984</td>\n",
              "      <td>37.679984</td>\n",
              "      <td>10.205728</td>\n",
              "      <td>10.205728</td>\n",
              "      <td>10.205728</td>\n",
              "      <td>15.451534</td>\n",
              "      <td>15.451534</td>\n",
              "      <td>15.451534</td>\n",
              "      <td>0.599382</td>\n",
              "      <td>0.599382</td>\n",
              "      <td>0.599382</td>\n",
              "      <td>-5.845188</td>\n",
              "      <td>-5.845188</td>\n",
              "      <td>-5.845188</td>\n",
              "      <td>0.0</td>\n",
              "      <td>0.0</td>\n",
              "      <td>0.0</td>\n",
              "      <td>47.885713</td>\n",
              "    </tr>\n",
              "    <tr>\n",
              "      <th>...</th>\n",
              "      <td>...</td>\n",
              "      <td>...</td>\n",
              "      <td>...</td>\n",
              "      <td>...</td>\n",
              "      <td>...</td>\n",
              "      <td>...</td>\n",
              "      <td>...</td>\n",
              "      <td>...</td>\n",
              "      <td>...</td>\n",
              "      <td>...</td>\n",
              "      <td>...</td>\n",
              "      <td>...</td>\n",
              "      <td>...</td>\n",
              "      <td>...</td>\n",
              "      <td>...</td>\n",
              "      <td>...</td>\n",
              "      <td>...</td>\n",
              "      <td>...</td>\n",
              "      <td>...</td>\n",
              "      <td>...</td>\n",
              "      <td>...</td>\n",
              "      <td>...</td>\n",
              "    </tr>\n",
              "    <tr>\n",
              "      <th>360</th>\n",
              "      <td>2019-12-27</td>\n",
              "      <td>23.259079</td>\n",
              "      <td>12.219769</td>\n",
              "      <td>70.636026</td>\n",
              "      <td>23.259079</td>\n",
              "      <td>23.259079</td>\n",
              "      <td>16.497119</td>\n",
              "      <td>16.497119</td>\n",
              "      <td>16.497119</td>\n",
              "      <td>15.451534</td>\n",
              "      <td>15.451534</td>\n",
              "      <td>15.451534</td>\n",
              "      <td>0.523582</td>\n",
              "      <td>0.523582</td>\n",
              "      <td>0.523582</td>\n",
              "      <td>0.522003</td>\n",
              "      <td>0.522003</td>\n",
              "      <td>0.522003</td>\n",
              "      <td>0.0</td>\n",
              "      <td>0.0</td>\n",
              "      <td>0.0</td>\n",
              "      <td>39.756198</td>\n",
              "    </tr>\n",
              "    <tr>\n",
              "      <th>361</th>\n",
              "      <td>2019-12-28</td>\n",
              "      <td>23.218600</td>\n",
              "      <td>10.215973</td>\n",
              "      <td>66.026460</td>\n",
              "      <td>23.218600</td>\n",
              "      <td>23.218600</td>\n",
              "      <td>15.934636</td>\n",
              "      <td>15.934636</td>\n",
              "      <td>15.934636</td>\n",
              "      <td>15.451534</td>\n",
              "      <td>15.451534</td>\n",
              "      <td>15.451534</td>\n",
              "      <td>0.599382</td>\n",
              "      <td>0.599382</td>\n",
              "      <td>0.599382</td>\n",
              "      <td>-0.116281</td>\n",
              "      <td>-0.116281</td>\n",
              "      <td>-0.116281</td>\n",
              "      <td>0.0</td>\n",
              "      <td>0.0</td>\n",
              "      <td>0.0</td>\n",
              "      <td>39.153236</td>\n",
              "    </tr>\n",
              "    <tr>\n",
              "      <th>362</th>\n",
              "      <td>2019-12-29</td>\n",
              "      <td>23.178122</td>\n",
              "      <td>5.567676</td>\n",
              "      <td>64.933026</td>\n",
              "      <td>23.178122</td>\n",
              "      <td>23.178122</td>\n",
              "      <td>12.538467</td>\n",
              "      <td>12.538467</td>\n",
              "      <td>12.538467</td>\n",
              "      <td>15.451534</td>\n",
              "      <td>15.451534</td>\n",
              "      <td>15.451534</td>\n",
              "      <td>-2.113704</td>\n",
              "      <td>-2.113704</td>\n",
              "      <td>-2.113704</td>\n",
              "      <td>-0.799363</td>\n",
              "      <td>-0.799363</td>\n",
              "      <td>-0.799363</td>\n",
              "      <td>0.0</td>\n",
              "      <td>0.0</td>\n",
              "      <td>0.0</td>\n",
              "      <td>35.716588</td>\n",
              "    </tr>\n",
              "    <tr>\n",
              "      <th>363</th>\n",
              "      <td>2019-12-30</td>\n",
              "      <td>23.137643</td>\n",
              "      <td>6.818008</td>\n",
              "      <td>65.214002</td>\n",
              "      <td>23.137643</td>\n",
              "      <td>23.137643</td>\n",
              "      <td>13.323191</td>\n",
              "      <td>13.323191</td>\n",
              "      <td>13.323191</td>\n",
              "      <td>15.451534</td>\n",
              "      <td>15.451534</td>\n",
              "      <td>15.451534</td>\n",
              "      <td>-0.614457</td>\n",
              "      <td>-0.614457</td>\n",
              "      <td>-0.614457</td>\n",
              "      <td>-1.513886</td>\n",
              "      <td>-1.513886</td>\n",
              "      <td>-1.513886</td>\n",
              "      <td>0.0</td>\n",
              "      <td>0.0</td>\n",
              "      <td>0.0</td>\n",
              "      <td>36.460834</td>\n",
              "    </tr>\n",
              "    <tr>\n",
              "      <th>364</th>\n",
              "      <td>2019-12-31</td>\n",
              "      <td>23.097164</td>\n",
              "      <td>6.404993</td>\n",
              "      <td>66.449127</td>\n",
              "      <td>23.097164</td>\n",
              "      <td>23.097164</td>\n",
              "      <td>13.413975</td>\n",
              "      <td>13.413975</td>\n",
              "      <td>13.413975</td>\n",
              "      <td>15.451534</td>\n",
              "      <td>15.451534</td>\n",
              "      <td>15.451534</td>\n",
              "      <td>0.208504</td>\n",
              "      <td>0.208504</td>\n",
              "      <td>0.208504</td>\n",
              "      <td>-2.246063</td>\n",
              "      <td>-2.246063</td>\n",
              "      <td>-2.246063</td>\n",
              "      <td>0.0</td>\n",
              "      <td>0.0</td>\n",
              "      <td>0.0</td>\n",
              "      <td>36.511140</td>\n",
              "    </tr>\n",
              "  </tbody>\n",
              "</table>\n",
              "<p>365 rows × 22 columns</p>\n",
              "</div>"
            ],
            "text/plain": [
              "            ds      trend  ...  multiplicative_terms_upper       yhat\n",
              "0   2019-01-01  37.842677  ...                         0.0  50.337760\n",
              "1   2019-01-02  37.802004  ...                         0.0  50.854626\n",
              "2   2019-01-03  37.761330  ...                         0.0  48.540600\n",
              "3   2019-01-04  37.720657  ...                         0.0  48.457661\n",
              "4   2019-01-05  37.679984  ...                         0.0  47.885713\n",
              "..         ...        ...  ...                         ...        ...\n",
              "360 2019-12-27  23.259079  ...                         0.0  39.756198\n",
              "361 2019-12-28  23.218600  ...                         0.0  39.153236\n",
              "362 2019-12-29  23.178122  ...                         0.0  35.716588\n",
              "363 2019-12-30  23.137643  ...                         0.0  36.460834\n",
              "364 2019-12-31  23.097164  ...                         0.0  36.511140\n",
              "\n",
              "[365 rows x 22 columns]"
            ]
          },
          "metadata": {
            "tags": []
          },
          "execution_count": 34
        }
      ]
    },
    {
      "cell_type": "code",
      "metadata": {
        "colab": {
          "base_uri": "https://localhost:8080/"
        },
        "id": "LjK7asHsWW3a",
        "outputId": "fb643fbc-f527-44cc-cd1f-c79b6ccf0a8e"
      },
      "source": [
        "# calculate MAE between expected and predicted values for december\n",
        "\n",
        "from sklearn.metrics import mean_absolute_error\n",
        "y_true = cali_updated['y'].values\n",
        "y_pred = forecast_pd['yhat'].values\n",
        "mae = mean_absolute_error(y_true, y_pred)\n",
        "print('MAE: %.3f' % mae)"
      ],
      "execution_count": null,
      "outputs": [
        {
          "output_type": "stream",
          "text": [
            "MAE: 9.715\n"
          ],
          "name": "stdout"
        }
      ]
    },
    {
      "cell_type": "code",
      "metadata": {
        "colab": {
          "base_uri": "https://localhost:8080/"
        },
        "id": "dhhXFzuRXRNC",
        "outputId": "7501b4e9-67c5-4dac-c08d-3cc442f7bb35"
      },
      "source": [
        "y_true.shape"
      ],
      "execution_count": null,
      "outputs": [
        {
          "output_type": "execute_result",
          "data": {
            "text/plain": [
              "(19063,)"
            ]
          },
          "metadata": {
            "tags": []
          },
          "execution_count": 123
        }
      ]
    },
    {
      "cell_type": "code",
      "metadata": {
        "colab": {
          "base_uri": "https://localhost:8080/",
          "height": 745
        },
        "id": "EAwH4GxuWW6h",
        "outputId": "51538c94-9a34-4ae7-933b-9552f84d5cce"
      },
      "source": [
        "# plot expected vs actual\n",
        "plt.plot(y_true, label='Actual')\n",
        "plt.plot(y_pred, label='Predicted')\n",
        "plt.legend()\n",
        "plt.show()"
      ],
      "execution_count": null,
      "outputs": [
        {
          "output_type": "display_data",
          "data": {
            "image/png": "[encoded data removed]",
            "text/plain": [
              "<Figure size 1440x720 with 1 Axes>"
            ]
          },
          "metadata": {
            "tags": []
          }
        }
      ]
    },
    {
      "cell_type": "code",
      "metadata": {
        "colab": {
          "base_uri": "https://localhost:8080/"
        },
        "id": "wAFkHNjYWW-k",
        "outputId": "c8ce7659-82cb-4916-d891-3f4fd94ca9d7"
      },
      "source": [
        "California_df.count()"
      ],
      "execution_count": null,
      "outputs": [
        {
          "output_type": "execute_result",
          "data": {
            "text/plain": [
              "19063"
            ]
          },
          "metadata": {
            "tags": []
          },
          "execution_count": 131
        }
      ]
    },
    {
      "cell_type": "code",
      "metadata": {
        "id": "sPd0Uh1EWXB9"
      },
      "source": [
        ""
      ],
      "execution_count": null,
      "outputs": []
    },
    {
      "cell_type": "code",
      "metadata": {
        "id": "DmQDivCsWXFY"
      },
      "source": [
        ""
      ],
      "execution_count": null,
      "outputs": []
    },
    {
      "cell_type": "code",
      "metadata": {
        "id": "EeNjRK0nWXIv"
      },
      "source": [
        ""
      ],
      "execution_count": null,
      "outputs": []
    },
    {
      "cell_type": "code",
      "metadata": {
        "id": "2ztEIqLLWXMH"
      },
      "source": [
        ""
      ],
      "execution_count": null,
      "outputs": []
    },
    {
      "cell_type": "code",
      "metadata": {
        "id": "8W8cDNftWXP3"
      },
      "source": [
        ""
      ],
      "execution_count": null,
      "outputs": []
    },
    {
      "cell_type": "code",
      "metadata": {
        "id": "Q6re81LHWXTH"
      },
      "source": [
        ""
      ],
      "execution_count": null,
      "outputs": []
    },
    {
      "cell_type": "code",
      "metadata": {
        "colab": {
          "base_uri": "https://localhost:8080/",
          "height": 1000
        },
        "id": "lL-MBgOeTG7x",
        "outputId": "c6e1eaee-4900-4cc9-f353-3c3ee2630fdb"
      },
      "source": [
        "forecast_pd.tail(n=25)"
      ],
      "execution_count": null,
      "outputs": [
        {
          "output_type": "execute_result",
          "data": {
            "text/html": [
              "<div>\n",
              "<style scoped>\n",
              "    .dataframe tbody tr th:only-of-type {\n",
              "        vertical-align: middle;\n",
              "    }\n",
              "\n",
              "    .dataframe tbody tr th {\n",
              "        vertical-align: top;\n",
              "    }\n",
              "\n",
              "    .dataframe thead th {\n",
              "        text-align: right;\n",
              "    }\n",
              "</style>\n",
              "<table border=\"1\" class=\"dataframe\">\n",
              "  <thead>\n",
              "    <tr style=\"text-align: right;\">\n",
              "      <th></th>\n",
              "      <th>ds</th>\n",
              "      <th>trend</th>\n",
              "      <th>yhat_lower</th>\n",
              "      <th>yhat_upper</th>\n",
              "      <th>trend_lower</th>\n",
              "      <th>trend_upper</th>\n",
              "      <th>additive_terms</th>\n",
              "      <th>additive_terms_lower</th>\n",
              "      <th>additive_terms_upper</th>\n",
              "      <th>daily</th>\n",
              "      <th>daily_lower</th>\n",
              "      <th>daily_upper</th>\n",
              "      <th>weekly</th>\n",
              "      <th>weekly_lower</th>\n",
              "      <th>weekly_upper</th>\n",
              "      <th>yearly</th>\n",
              "      <th>yearly_lower</th>\n",
              "      <th>yearly_upper</th>\n",
              "      <th>multiplicative_terms</th>\n",
              "      <th>multiplicative_terms_lower</th>\n",
              "      <th>multiplicative_terms_upper</th>\n",
              "      <th>yhat</th>\n",
              "    </tr>\n",
              "  </thead>\n",
              "  <tbody>\n",
              "    <tr>\n",
              "      <th>705</th>\n",
              "      <td>2020-12-06</td>\n",
              "      <td>72.349910</td>\n",
              "      <td>-30.239653</td>\n",
              "      <td>188.528476</td>\n",
              "      <td>21.075349</td>\n",
              "      <td>125.988723</td>\n",
              "      <td>10.195270</td>\n",
              "      <td>10.195270</td>\n",
              "      <td>10.195270</td>\n",
              "      <td>22.339181</td>\n",
              "      <td>22.339181</td>\n",
              "      <td>22.339181</td>\n",
              "      <td>-1.517009</td>\n",
              "      <td>-1.517009</td>\n",
              "      <td>-1.517009</td>\n",
              "      <td>-10.626902</td>\n",
              "      <td>-10.626902</td>\n",
              "      <td>-10.626902</td>\n",
              "      <td>0.0</td>\n",
              "      <td>0.0</td>\n",
              "      <td>0.0</td>\n",
              "      <td>82.545180</td>\n",
              "    </tr>\n",
              "    <tr>\n",
              "      <th>706</th>\n",
              "      <td>2020-12-07</td>\n",
              "      <td>72.475582</td>\n",
              "      <td>-28.942747</td>\n",
              "      <td>201.313066</td>\n",
              "      <td>20.960263</td>\n",
              "      <td>126.347367</td>\n",
              "      <td>11.648476</td>\n",
              "      <td>11.648476</td>\n",
              "      <td>11.648476</td>\n",
              "      <td>22.339181</td>\n",
              "      <td>22.339181</td>\n",
              "      <td>22.339181</td>\n",
              "      <td>-0.247148</td>\n",
              "      <td>-0.247148</td>\n",
              "      <td>-0.247148</td>\n",
              "      <td>-10.443558</td>\n",
              "      <td>-10.443558</td>\n",
              "      <td>-10.443558</td>\n",
              "      <td>0.0</td>\n",
              "      <td>0.0</td>\n",
              "      <td>0.0</td>\n",
              "      <td>84.124058</td>\n",
              "    </tr>\n",
              "    <tr>\n",
              "      <th>707</th>\n",
              "      <td>2020-12-08</td>\n",
              "      <td>72.601254</td>\n",
              "      <td>-32.028350</td>\n",
              "      <td>205.537851</td>\n",
              "      <td>20.845178</td>\n",
              "      <td>126.700428</td>\n",
              "      <td>13.626099</td>\n",
              "      <td>13.626099</td>\n",
              "      <td>13.626099</td>\n",
              "      <td>22.339181</td>\n",
              "      <td>22.339181</td>\n",
              "      <td>22.339181</td>\n",
              "      <td>1.458766</td>\n",
              "      <td>1.458766</td>\n",
              "      <td>1.458766</td>\n",
              "      <td>-10.171849</td>\n",
              "      <td>-10.171849</td>\n",
              "      <td>-10.171849</td>\n",
              "      <td>0.0</td>\n",
              "      <td>0.0</td>\n",
              "      <td>0.0</td>\n",
              "      <td>86.227353</td>\n",
              "    </tr>\n",
              "    <tr>\n",
              "      <th>708</th>\n",
              "      <td>2020-12-09</td>\n",
              "      <td>72.726926</td>\n",
              "      <td>-35.841483</td>\n",
              "      <td>208.931308</td>\n",
              "      <td>20.730040</td>\n",
              "      <td>127.007088</td>\n",
              "      <td>14.811645</td>\n",
              "      <td>14.811645</td>\n",
              "      <td>14.811645</td>\n",
              "      <td>22.339181</td>\n",
              "      <td>22.339181</td>\n",
              "      <td>22.339181</td>\n",
              "      <td>2.299725</td>\n",
              "      <td>2.299725</td>\n",
              "      <td>2.299725</td>\n",
              "      <td>-9.827261</td>\n",
              "      <td>-9.827261</td>\n",
              "      <td>-9.827261</td>\n",
              "      <td>0.0</td>\n",
              "      <td>0.0</td>\n",
              "      <td>0.0</td>\n",
              "      <td>87.538571</td>\n",
              "    </tr>\n",
              "    <tr>\n",
              "      <th>709</th>\n",
              "      <td>2020-12-10</td>\n",
              "      <td>72.852598</td>\n",
              "      <td>-33.743147</td>\n",
              "      <td>202.906537</td>\n",
              "      <td>20.614722</td>\n",
              "      <td>127.313749</td>\n",
              "      <td>11.486151</td>\n",
              "      <td>11.486151</td>\n",
              "      <td>11.486151</td>\n",
              "      <td>22.339181</td>\n",
              "      <td>22.339181</td>\n",
              "      <td>22.339181</td>\n",
              "      <td>-1.426485</td>\n",
              "      <td>-1.426485</td>\n",
              "      <td>-1.426485</td>\n",
              "      <td>-9.426545</td>\n",
              "      <td>-9.426545</td>\n",
              "      <td>-9.426545</td>\n",
              "      <td>0.0</td>\n",
              "      <td>0.0</td>\n",
              "      <td>0.0</td>\n",
              "      <td>84.338749</td>\n",
              "    </tr>\n",
              "    <tr>\n",
              "      <th>710</th>\n",
              "      <td>2020-12-11</td>\n",
              "      <td>72.978270</td>\n",
              "      <td>-27.266077</td>\n",
              "      <td>187.082930</td>\n",
              "      <td>20.499403</td>\n",
              "      <td>127.620409</td>\n",
              "      <td>12.255776</td>\n",
              "      <td>12.255776</td>\n",
              "      <td>12.255776</td>\n",
              "      <td>22.339181</td>\n",
              "      <td>22.339181</td>\n",
              "      <td>22.339181</td>\n",
              "      <td>-1.096090</td>\n",
              "      <td>-1.096090</td>\n",
              "      <td>-1.096090</td>\n",
              "      <td>-8.987315</td>\n",
              "      <td>-8.987315</td>\n",
              "      <td>-8.987315</td>\n",
              "      <td>0.0</td>\n",
              "      <td>0.0</td>\n",
              "      <td>0.0</td>\n",
              "      <td>85.234046</td>\n",
              "    </tr>\n",
              "    <tr>\n",
              "      <th>711</th>\n",
              "      <td>2020-12-12</td>\n",
              "      <td>73.103941</td>\n",
              "      <td>-33.202282</td>\n",
              "      <td>209.813009</td>\n",
              "      <td>20.384085</td>\n",
              "      <td>127.927069</td>\n",
              "      <td>14.339791</td>\n",
              "      <td>14.339791</td>\n",
              "      <td>14.339791</td>\n",
              "      <td>22.339181</td>\n",
              "      <td>22.339181</td>\n",
              "      <td>22.339181</td>\n",
              "      <td>0.528241</td>\n",
              "      <td>0.528241</td>\n",
              "      <td>0.528241</td>\n",
              "      <td>-8.527632</td>\n",
              "      <td>-8.527632</td>\n",
              "      <td>-8.527632</td>\n",
              "      <td>0.0</td>\n",
              "      <td>0.0</td>\n",
              "      <td>0.0</td>\n",
              "      <td>87.443732</td>\n",
              "    </tr>\n",
              "    <tr>\n",
              "      <th>712</th>\n",
              "      <td>2020-12-13</td>\n",
              "      <td>73.229613</td>\n",
              "      <td>-36.569443</td>\n",
              "      <td>205.690968</td>\n",
              "      <td>20.272078</td>\n",
              "      <td>128.233729</td>\n",
              "      <td>12.756599</td>\n",
              "      <td>12.756599</td>\n",
              "      <td>12.756599</td>\n",
              "      <td>22.339181</td>\n",
              "      <td>22.339181</td>\n",
              "      <td>22.339181</td>\n",
              "      <td>-1.517009</td>\n",
              "      <td>-1.517009</td>\n",
              "      <td>-1.517009</td>\n",
              "      <td>-8.065573</td>\n",
              "      <td>-8.065573</td>\n",
              "      <td>-8.065573</td>\n",
              "      <td>0.0</td>\n",
              "      <td>0.0</td>\n",
              "      <td>0.0</td>\n",
              "      <td>85.986212</td>\n",
              "    </tr>\n",
              "    <tr>\n",
              "      <th>713</th>\n",
              "      <td>2020-12-14</td>\n",
              "      <td>73.355285</td>\n",
              "      <td>-28.134680</td>\n",
              "      <td>197.718432</td>\n",
              "      <td>20.161219</td>\n",
              "      <td>128.540389</td>\n",
              "      <td>14.473217</td>\n",
              "      <td>14.473217</td>\n",
              "      <td>14.473217</td>\n",
              "      <td>22.339181</td>\n",
              "      <td>22.339181</td>\n",
              "      <td>22.339181</td>\n",
              "      <td>-0.247148</td>\n",
              "      <td>-0.247148</td>\n",
              "      <td>-0.247148</td>\n",
              "      <td>-7.618816</td>\n",
              "      <td>-7.618816</td>\n",
              "      <td>-7.618816</td>\n",
              "      <td>0.0</td>\n",
              "      <td>0.0</td>\n",
              "      <td>0.0</td>\n",
              "      <td>87.828502</td>\n",
              "    </tr>\n",
              "    <tr>\n",
              "      <th>714</th>\n",
              "      <td>2020-12-15</td>\n",
              "      <td>73.480957</td>\n",
              "      <td>-23.359171</td>\n",
              "      <td>205.128884</td>\n",
              "      <td>20.050359</td>\n",
              "      <td>128.847049</td>\n",
              "      <td>16.593718</td>\n",
              "      <td>16.593718</td>\n",
              "      <td>16.593718</td>\n",
              "      <td>22.339181</td>\n",
              "      <td>22.339181</td>\n",
              "      <td>22.339181</td>\n",
              "      <td>1.458766</td>\n",
              "      <td>1.458766</td>\n",
              "      <td>1.458766</td>\n",
              "      <td>-7.204229</td>\n",
              "      <td>-7.204229</td>\n",
              "      <td>-7.204229</td>\n",
              "      <td>0.0</td>\n",
              "      <td>0.0</td>\n",
              "      <td>0.0</td>\n",
              "      <td>90.074675</td>\n",
              "    </tr>\n",
              "    <tr>\n",
              "      <th>715</th>\n",
              "      <td>2020-12-16</td>\n",
              "      <td>73.606629</td>\n",
              "      <td>-23.126146</td>\n",
              "      <td>214.936399</td>\n",
              "      <td>20.056289</td>\n",
              "      <td>129.148222</td>\n",
              "      <td>17.801417</td>\n",
              "      <td>17.801417</td>\n",
              "      <td>17.801417</td>\n",
              "      <td>22.339181</td>\n",
              "      <td>22.339181</td>\n",
              "      <td>22.339181</td>\n",
              "      <td>2.299725</td>\n",
              "      <td>2.299725</td>\n",
              "      <td>2.299725</td>\n",
              "      <td>-6.837489</td>\n",
              "      <td>-6.837489</td>\n",
              "      <td>-6.837489</td>\n",
              "      <td>0.0</td>\n",
              "      <td>0.0</td>\n",
              "      <td>0.0</td>\n",
              "      <td>91.408046</td>\n",
              "    </tr>\n",
              "    <tr>\n",
              "      <th>716</th>\n",
              "      <td>2020-12-17</td>\n",
              "      <td>73.732301</td>\n",
              "      <td>-29.214775</td>\n",
              "      <td>208.557110</td>\n",
              "      <td>19.940162</td>\n",
              "      <td>129.434579</td>\n",
              "      <td>14.379965</td>\n",
              "      <td>14.379965</td>\n",
              "      <td>14.379965</td>\n",
              "      <td>22.339181</td>\n",
              "      <td>22.339181</td>\n",
              "      <td>22.339181</td>\n",
              "      <td>-1.426485</td>\n",
              "      <td>-1.426485</td>\n",
              "      <td>-1.426485</td>\n",
              "      <td>-6.532731</td>\n",
              "      <td>-6.532731</td>\n",
              "      <td>-6.532731</td>\n",
              "      <td>0.0</td>\n",
              "      <td>0.0</td>\n",
              "      <td>0.0</td>\n",
              "      <td>88.112266</td>\n",
              "    </tr>\n",
              "    <tr>\n",
              "      <th>717</th>\n",
              "      <td>2020-12-18</td>\n",
              "      <td>73.857973</td>\n",
              "      <td>-22.961262</td>\n",
              "      <td>214.478921</td>\n",
              "      <td>19.790498</td>\n",
              "      <td>129.720936</td>\n",
              "      <td>14.940847</td>\n",
              "      <td>14.940847</td>\n",
              "      <td>14.940847</td>\n",
              "      <td>22.339181</td>\n",
              "      <td>22.339181</td>\n",
              "      <td>22.339181</td>\n",
              "      <td>-1.096090</td>\n",
              "      <td>-1.096090</td>\n",
              "      <td>-1.096090</td>\n",
              "      <td>-6.302245</td>\n",
              "      <td>-6.302245</td>\n",
              "      <td>-6.302245</td>\n",
              "      <td>0.0</td>\n",
              "      <td>0.0</td>\n",
              "      <td>0.0</td>\n",
              "      <td>88.798819</td>\n",
              "    </tr>\n",
              "    <tr>\n",
              "      <th>718</th>\n",
              "      <td>2020-12-19</td>\n",
              "      <td>73.983644</td>\n",
              "      <td>-21.549568</td>\n",
              "      <td>213.387192</td>\n",
              "      <td>19.640780</td>\n",
              "      <td>130.007293</td>\n",
              "      <td>16.711207</td>\n",
              "      <td>16.711207</td>\n",
              "      <td>16.711207</td>\n",
              "      <td>22.339181</td>\n",
              "      <td>22.339181</td>\n",
              "      <td>22.339181</td>\n",
              "      <td>0.528241</td>\n",
              "      <td>0.528241</td>\n",
              "      <td>0.528241</td>\n",
              "      <td>-6.156215</td>\n",
              "      <td>-6.156215</td>\n",
              "      <td>-6.156215</td>\n",
              "      <td>0.0</td>\n",
              "      <td>0.0</td>\n",
              "      <td>0.0</td>\n",
              "      <td>90.694852</td>\n",
              "    </tr>\n",
              "    <tr>\n",
              "      <th>719</th>\n",
              "      <td>2020-12-20</td>\n",
              "      <td>74.109316</td>\n",
              "      <td>-26.104287</td>\n",
              "      <td>202.246655</td>\n",
              "      <td>19.490384</td>\n",
              "      <td>130.291917</td>\n",
              "      <td>14.719656</td>\n",
              "      <td>14.719656</td>\n",
              "      <td>14.719656</td>\n",
              "      <td>22.339181</td>\n",
              "      <td>22.339181</td>\n",
              "      <td>22.339181</td>\n",
              "      <td>-1.517009</td>\n",
              "      <td>-1.517009</td>\n",
              "      <td>-1.517009</td>\n",
              "      <td>-6.102516</td>\n",
              "      <td>-6.102516</td>\n",
              "      <td>-6.102516</td>\n",
              "      <td>0.0</td>\n",
              "      <td>0.0</td>\n",
              "      <td>0.0</td>\n",
              "      <td>88.828972</td>\n",
              "    </tr>\n",
              "    <tr>\n",
              "      <th>720</th>\n",
              "      <td>2020-12-21</td>\n",
              "      <td>74.234988</td>\n",
              "      <td>-21.465568</td>\n",
              "      <td>206.098160</td>\n",
              "      <td>19.339988</td>\n",
              "      <td>130.575944</td>\n",
              "      <td>15.945463</td>\n",
              "      <td>15.945463</td>\n",
              "      <td>15.945463</td>\n",
              "      <td>22.339181</td>\n",
              "      <td>22.339181</td>\n",
              "      <td>22.339181</td>\n",
              "      <td>-0.247148</td>\n",
              "      <td>-0.247148</td>\n",
              "      <td>-0.247148</td>\n",
              "      <td>-6.146571</td>\n",
              "      <td>-6.146571</td>\n",
              "      <td>-6.146571</td>\n",
              "      <td>0.0</td>\n",
              "      <td>0.0</td>\n",
              "      <td>0.0</td>\n",
              "      <td>90.180451</td>\n",
              "    </tr>\n",
              "    <tr>\n",
              "      <th>721</th>\n",
              "      <td>2020-12-22</td>\n",
              "      <td>74.360660</td>\n",
              "      <td>-27.135002</td>\n",
              "      <td>208.211568</td>\n",
              "      <td>19.189592</td>\n",
              "      <td>130.859972</td>\n",
              "      <td>17.506682</td>\n",
              "      <td>17.506682</td>\n",
              "      <td>17.506682</td>\n",
              "      <td>22.339181</td>\n",
              "      <td>22.339181</td>\n",
              "      <td>22.339181</td>\n",
              "      <td>1.458766</td>\n",
              "      <td>1.458766</td>\n",
              "      <td>1.458766</td>\n",
              "      <td>-6.291266</td>\n",
              "      <td>-6.291266</td>\n",
              "      <td>-6.291266</td>\n",
              "      <td>0.0</td>\n",
              "      <td>0.0</td>\n",
              "      <td>0.0</td>\n",
              "      <td>91.867342</td>\n",
              "    </tr>\n",
              "    <tr>\n",
              "      <th>722</th>\n",
              "      <td>2020-12-23</td>\n",
              "      <td>74.486332</td>\n",
              "      <td>-19.209147</td>\n",
              "      <td>208.662165</td>\n",
              "      <td>19.039196</td>\n",
              "      <td>131.144000</td>\n",
              "      <td>18.101972</td>\n",
              "      <td>18.101972</td>\n",
              "      <td>18.101972</td>\n",
              "      <td>22.339181</td>\n",
              "      <td>22.339181</td>\n",
              "      <td>22.339181</td>\n",
              "      <td>2.299725</td>\n",
              "      <td>2.299725</td>\n",
              "      <td>2.299725</td>\n",
              "      <td>-6.536934</td>\n",
              "      <td>-6.536934</td>\n",
              "      <td>-6.536934</td>\n",
              "      <td>0.0</td>\n",
              "      <td>0.0</td>\n",
              "      <td>0.0</td>\n",
              "      <td>92.588304</td>\n",
              "    </tr>\n",
              "    <tr>\n",
              "      <th>723</th>\n",
              "      <td>2020-12-24</td>\n",
              "      <td>74.612004</td>\n",
              "      <td>-26.845591</td>\n",
              "      <td>206.670526</td>\n",
              "      <td>18.888800</td>\n",
              "      <td>131.428028</td>\n",
              "      <td>14.031300</td>\n",
              "      <td>14.031300</td>\n",
              "      <td>14.031300</td>\n",
              "      <td>22.339181</td>\n",
              "      <td>22.339181</td>\n",
              "      <td>22.339181</td>\n",
              "      <td>-1.426485</td>\n",
              "      <td>-1.426485</td>\n",
              "      <td>-1.426485</td>\n",
              "      <td>-6.881396</td>\n",
              "      <td>-6.881396</td>\n",
              "      <td>-6.881396</td>\n",
              "      <td>0.0</td>\n",
              "      <td>0.0</td>\n",
              "      <td>0.0</td>\n",
              "      <td>88.643304</td>\n",
              "    </tr>\n",
              "    <tr>\n",
              "      <th>724</th>\n",
              "      <td>2020-12-25</td>\n",
              "      <td>74.737676</td>\n",
              "      <td>-27.748322</td>\n",
              "      <td>210.435446</td>\n",
              "      <td>18.778801</td>\n",
              "      <td>131.712432</td>\n",
              "      <td>13.923025</td>\n",
              "      <td>13.923025</td>\n",
              "      <td>13.923025</td>\n",
              "      <td>22.339181</td>\n",
              "      <td>22.339181</td>\n",
              "      <td>22.339181</td>\n",
              "      <td>-1.096090</td>\n",
              "      <td>-1.096090</td>\n",
              "      <td>-1.096090</td>\n",
              "      <td>-7.320066</td>\n",
              "      <td>-7.320066</td>\n",
              "      <td>-7.320066</td>\n",
              "      <td>0.0</td>\n",
              "      <td>0.0</td>\n",
              "      <td>0.0</td>\n",
              "      <td>88.660701</td>\n",
              "    </tr>\n",
              "    <tr>\n",
              "      <th>725</th>\n",
              "      <td>2020-12-26</td>\n",
              "      <td>74.863348</td>\n",
              "      <td>-19.092736</td>\n",
              "      <td>209.331146</td>\n",
              "      <td>18.791965</td>\n",
              "      <td>132.002406</td>\n",
              "      <td>15.021311</td>\n",
              "      <td>15.021311</td>\n",
              "      <td>15.021311</td>\n",
              "      <td>22.339181</td>\n",
              "      <td>22.339181</td>\n",
              "      <td>22.339181</td>\n",
              "      <td>0.528241</td>\n",
              "      <td>0.528241</td>\n",
              "      <td>0.528241</td>\n",
              "      <td>-7.846111</td>\n",
              "      <td>-7.846111</td>\n",
              "      <td>-7.846111</td>\n",
              "      <td>0.0</td>\n",
              "      <td>0.0</td>\n",
              "      <td>0.0</td>\n",
              "      <td>89.884659</td>\n",
              "    </tr>\n",
              "    <tr>\n",
              "      <th>726</th>\n",
              "      <td>2020-12-27</td>\n",
              "      <td>74.989019</td>\n",
              "      <td>-22.859107</td>\n",
              "      <td>200.834770</td>\n",
              "      <td>18.810336</td>\n",
              "      <td>132.292379</td>\n",
              "      <td>12.371507</td>\n",
              "      <td>12.371507</td>\n",
              "      <td>12.371507</td>\n",
              "      <td>22.339181</td>\n",
              "      <td>22.339181</td>\n",
              "      <td>22.339181</td>\n",
              "      <td>-1.517009</td>\n",
              "      <td>-1.517009</td>\n",
              "      <td>-1.517009</td>\n",
              "      <td>-8.450665</td>\n",
              "      <td>-8.450665</td>\n",
              "      <td>-8.450665</td>\n",
              "      <td>0.0</td>\n",
              "      <td>0.0</td>\n",
              "      <td>0.0</td>\n",
              "      <td>87.360527</td>\n",
              "    </tr>\n",
              "    <tr>\n",
              "      <th>727</th>\n",
              "      <td>2020-12-28</td>\n",
              "      <td>75.114691</td>\n",
              "      <td>-28.039632</td>\n",
              "      <td>201.977598</td>\n",
              "      <td>18.828708</td>\n",
              "      <td>132.582353</td>\n",
              "      <td>12.968949</td>\n",
              "      <td>12.968949</td>\n",
              "      <td>12.968949</td>\n",
              "      <td>22.339181</td>\n",
              "      <td>22.339181</td>\n",
              "      <td>22.339181</td>\n",
              "      <td>-0.247148</td>\n",
              "      <td>-0.247148</td>\n",
              "      <td>-0.247148</td>\n",
              "      <td>-9.123085</td>\n",
              "      <td>-9.123085</td>\n",
              "      <td>-9.123085</td>\n",
              "      <td>0.0</td>\n",
              "      <td>0.0</td>\n",
              "      <td>0.0</td>\n",
              "      <td>88.083640</td>\n",
              "    </tr>\n",
              "    <tr>\n",
              "      <th>728</th>\n",
              "      <td>2020-12-29</td>\n",
              "      <td>75.240363</td>\n",
              "      <td>-30.958377</td>\n",
              "      <td>208.602342</td>\n",
              "      <td>18.847079</td>\n",
              "      <td>132.872326</td>\n",
              "      <td>13.946696</td>\n",
              "      <td>13.946696</td>\n",
              "      <td>13.946696</td>\n",
              "      <td>22.339181</td>\n",
              "      <td>22.339181</td>\n",
              "      <td>22.339181</td>\n",
              "      <td>1.458766</td>\n",
              "      <td>1.458766</td>\n",
              "      <td>1.458766</td>\n",
              "      <td>-9.851252</td>\n",
              "      <td>-9.851252</td>\n",
              "      <td>-9.851252</td>\n",
              "      <td>0.0</td>\n",
              "      <td>0.0</td>\n",
              "      <td>0.0</td>\n",
              "      <td>89.187059</td>\n",
              "    </tr>\n",
              "    <tr>\n",
              "      <th>729</th>\n",
              "      <td>2020-12-30</td>\n",
              "      <td>75.366035</td>\n",
              "      <td>-28.095517</td>\n",
              "      <td>200.331944</td>\n",
              "      <td>18.865289</td>\n",
              "      <td>133.162287</td>\n",
              "      <td>14.017010</td>\n",
              "      <td>14.017010</td>\n",
              "      <td>14.017010</td>\n",
              "      <td>22.339181</td>\n",
              "      <td>22.339181</td>\n",
              "      <td>22.339181</td>\n",
              "      <td>2.299725</td>\n",
              "      <td>2.299725</td>\n",
              "      <td>2.299725</td>\n",
              "      <td>-10.621896</td>\n",
              "      <td>-10.621896</td>\n",
              "      <td>-10.621896</td>\n",
              "      <td>0.0</td>\n",
              "      <td>0.0</td>\n",
              "      <td>0.0</td>\n",
              "      <td>89.383045</td>\n",
              "    </tr>\n",
              "  </tbody>\n",
              "</table>\n",
              "</div>"
            ],
            "text/plain": [
              "            ds      trend  ...  multiplicative_terms_upper       yhat\n",
              "705 2020-12-06  72.349910  ...                         0.0  82.545180\n",
              "706 2020-12-07  72.475582  ...                         0.0  84.124058\n",
              "707 2020-12-08  72.601254  ...                         0.0  86.227353\n",
              "708 2020-12-09  72.726926  ...                         0.0  87.538571\n",
              "709 2020-12-10  72.852598  ...                         0.0  84.338749\n",
              "710 2020-12-11  72.978270  ...                         0.0  85.234046\n",
              "711 2020-12-12  73.103941  ...                         0.0  87.443732\n",
              "712 2020-12-13  73.229613  ...                         0.0  85.986212\n",
              "713 2020-12-14  73.355285  ...                         0.0  87.828502\n",
              "714 2020-12-15  73.480957  ...                         0.0  90.074675\n",
              "715 2020-12-16  73.606629  ...                         0.0  91.408046\n",
              "716 2020-12-17  73.732301  ...                         0.0  88.112266\n",
              "717 2020-12-18  73.857973  ...                         0.0  88.798819\n",
              "718 2020-12-19  73.983644  ...                         0.0  90.694852\n",
              "719 2020-12-20  74.109316  ...                         0.0  88.828972\n",
              "720 2020-12-21  74.234988  ...                         0.0  90.180451\n",
              "721 2020-12-22  74.360660  ...                         0.0  91.867342\n",
              "722 2020-12-23  74.486332  ...                         0.0  92.588304\n",
              "723 2020-12-24  74.612004  ...                         0.0  88.643304\n",
              "724 2020-12-25  74.737676  ...                         0.0  88.660701\n",
              "725 2020-12-26  74.863348  ...                         0.0  89.884659\n",
              "726 2020-12-27  74.989019  ...                         0.0  87.360527\n",
              "727 2020-12-28  75.114691  ...                         0.0  88.083640\n",
              "728 2020-12-29  75.240363  ...                         0.0  89.187059\n",
              "729 2020-12-30  75.366035  ...                         0.0  89.383045\n",
              "\n",
              "[25 rows x 22 columns]"
            ]
          },
          "metadata": {
            "tags": []
          },
          "execution_count": 115
        }
      ]
    },
    {
      "cell_type": "code",
      "metadata": {
        "colab": {
          "base_uri": "https://localhost:8080/"
        },
        "id": "zA5hr5ZEaAVk",
        "outputId": "65a83ecb-13e7-4af7-a4bf-7babab38b5bb"
      },
      "source": [
        "California_df.createOrReplaceTempView(\"California_table\")\n",
        "df_sql = spark.sql(\"SELECT Date,AQI FROM California_table\")\n",
        "df_sql.show()"
      ],
      "execution_count": null,
      "outputs": [
        {
          "output_type": "stream",
          "text": [
            "+----------+---+\n",
            "|      Date|AQI|\n",
            "+----------+---+\n",
            "|2018-01-01| 87|\n",
            "|2018-01-02| 95|\n",
            "|2018-01-03|110|\n",
            "|2018-01-04| 79|\n",
            "|2018-01-05| 35|\n",
            "|2018-01-06| 51|\n",
            "|2018-01-07| 65|\n",
            "|2018-01-08| 52|\n",
            "|2018-01-09| 31|\n",
            "|2018-01-10| 44|\n",
            "|2018-01-11| 61|\n",
            "|2018-01-12| 59|\n",
            "|2018-01-13| 61|\n",
            "|2018-01-14| 83|\n",
            "|2018-01-15| 84|\n",
            "|2018-01-16| 70|\n",
            "|2018-01-17| 81|\n",
            "|2018-01-18| 67|\n",
            "|2018-01-19| 34|\n",
            "|2018-01-20| 45|\n",
            "+----------+---+\n",
            "only showing top 20 rows\n",
            "\n"
          ],
          "name": "stdout"
        }
      ]
    },
    {
      "cell_type": "code",
      "metadata": {
        "id": "edRAOvs3NMVT"
      },
      "source": [
        "def loadData(sparkSession):\n",
        "    California_df.createOrReplaceTempView(\"opp\")\n",
        "    return spark.sql(\"SELECT DATE_FORMAT(Date,'yyyy-MM-dd') as Date, AQI FROM opp GROUP BY DATE_FORMAT(Date,'yyyy-MM-dd) ORDER BY Date\")\n",
        " \n",
        "def saveData(result):\n",
        "    result.show()"
      ],
      "execution_count": null,
      "outputs": []
    },
    {
      "cell_type": "code",
      "metadata": {
        "id": "15jFXLsteZO3"
      },
      "source": [
        "def predict_ARIMA_Spark(value, period):\n",
        "    spark_context = pyspark.SparkContext.getOrCreate()\n",
        "    model = spark_context._jvm.com.cloudera.sparkts.models.ARIMA.autoFit(_py2java(spark_context, Vectors.dense(value)), MAX_P, MAX_D, MAX_Q)\n",
        "    p = _java2py(spark_context, model.p())\n",
        "    d = _java2py(spark_context, model.d())\n",
        "    q = _java2py(spark_context, model.q())\n",
        "    jts = _py2java(spark_context, Vectors.dense(value))\n",
        "    aic = model.approxAIC(jts)\n",
        "    print (\"ARIMA(p, d, q)\", \"AIC=\", aic)\n",
        "    jfore = model.forecast(jts, period)\n",
        "    return _java2py(spark_context, jfore)[len(value):]"
      ],
      "execution_count": null,
      "outputs": []
    },
    {
      "cell_type": "code",
      "metadata": {
        "id": "IwIdNkRKeZdY",
        "colab": {
          "base_uri": "https://localhost:8080/",
          "height": 516
        },
        "outputId": "a8d8b9f1-bddc-49cc-f2eb-58313c945631"
      },
      "source": [
        "import statsmodels.tsa.api as sm\n",
        "from statsmodels.tsa.arima.model import ARIMA\n",
        "\n",
        "model = ARIMA(df_sql, order=(5,1,0))"
      ],
      "execution_count": null,
      "outputs": [
        {
          "output_type": "error",
          "ename": "ModuleNotFoundError",
          "evalue": "ignored",
          "traceback": [
            "\u001b[0;31m---------------------------------------------------------------------------\u001b[0m",
            "\u001b[0;31mModuleNotFoundError\u001b[0m                       Traceback (most recent call last)",
            "\u001b[0;32m<ipython-input-39-9a0c8b480878>\u001b[0m in \u001b[0;36m<module>\u001b[0;34m()\u001b[0m\n\u001b[1;32m      1\u001b[0m \u001b[0;32mimport\u001b[0m \u001b[0mstatsmodels\u001b[0m\u001b[0;34m.\u001b[0m\u001b[0mtsa\u001b[0m\u001b[0;34m.\u001b[0m\u001b[0mapi\u001b[0m \u001b[0;32mas\u001b[0m \u001b[0msm\u001b[0m\u001b[0;34m\u001b[0m\u001b[0;34m\u001b[0m\u001b[0m\n\u001b[0;32m----> 2\u001b[0;31m \u001b[0;32mfrom\u001b[0m \u001b[0mstatsmodels\u001b[0m\u001b[0;34m.\u001b[0m\u001b[0mtsa\u001b[0m\u001b[0;34m.\u001b[0m\u001b[0marima\u001b[0m\u001b[0;34m.\u001b[0m\u001b[0mmodel\u001b[0m \u001b[0;32mimport\u001b[0m \u001b[0mARIMA\u001b[0m\u001b[0;34m\u001b[0m\u001b[0;34m\u001b[0m\u001b[0m\n\u001b[0m\u001b[1;32m      3\u001b[0m \u001b[0;34m\u001b[0m\u001b[0m\n\u001b[1;32m      4\u001b[0m \u001b[0mmodel\u001b[0m \u001b[0;34m=\u001b[0m \u001b[0mARIMA\u001b[0m\u001b[0;34m(\u001b[0m\u001b[0mdf_sql\u001b[0m\u001b[0;34m,\u001b[0m \u001b[0morder\u001b[0m\u001b[0;34m=\u001b[0m\u001b[0;34m(\u001b[0m\u001b[0;36m5\u001b[0m\u001b[0;34m,\u001b[0m\u001b[0;36m1\u001b[0m\u001b[0;34m,\u001b[0m\u001b[0;36m0\u001b[0m\u001b[0;34m)\u001b[0m\u001b[0;34m)\u001b[0m\u001b[0;34m\u001b[0m\u001b[0;34m\u001b[0m\u001b[0m\n",
            "\u001b[0;31mModuleNotFoundError\u001b[0m: No module named 'statsmodels.tsa.arima'",
            "",
            "\u001b[0;31m---------------------------------------------------------------------------\u001b[0;32m\nNOTE: If your import is failing due to a missing package, you can\nmanually install dependencies using either !pip or !apt.\n\nTo view examples of installing some common dependencies, click the\n\"Open Examples\" button below.\n\u001b[0;31m---------------------------------------------------------------------------\u001b[0m\n"
          ]
        }
      ]
    },
    {
      "cell_type": "code",
      "metadata": {
        "id": "Yyxy992DvKYd"
      },
      "source": [
        ""
      ],
      "execution_count": null,
      "outputs": []
    },
    {
      "cell_type": "markdown",
      "metadata": {
        "id": "CerfuuDpBrq9"
      },
      "source": [
        "# SARIMAX start"
      ]
    },
    {
      "cell_type": "code",
      "metadata": {
        "id": "kXKoN0HwBxlS"
      },
      "source": [
        "# Prepare training and test data.\n",
        "#test = Cali_PD.randomSplit([0.7, 0.3], seed=42)\n",
        "train=series.sample(frac=0.7,random_state=200) #random state is a seed value\n",
        "test=series.drop(train.index)"
      ],
      "execution_count": 121,
      "outputs": []
    },
    {
      "cell_type": "code",
      "metadata": {
        "colab": {
          "base_uri": "https://localhost:8080/",
          "height": 581
        },
        "id": "2gxgpJ5yBxpA",
        "outputId": "b2a58469-37b0-4e90-d13c-9b6c42b8f873"
      },
      "source": [
        "train"
      ],
      "execution_count": 122,
      "outputs": [
        {
          "output_type": "execute_result",
          "data": {
            "text/html": [
              "<div>\n",
              "<style scoped>\n",
              "    .dataframe tbody tr th:only-of-type {\n",
              "        vertical-align: middle;\n",
              "    }\n",
              "\n",
              "    .dataframe tbody tr th {\n",
              "        vertical-align: top;\n",
              "    }\n",
              "\n",
              "    .dataframe thead th {\n",
              "        text-align: right;\n",
              "    }\n",
              "</style>\n",
              "<table border=\"1\" class=\"dataframe\">\n",
              "  <thead>\n",
              "    <tr style=\"text-align: right;\">\n",
              "      <th></th>\n",
              "      <th>AQI</th>\n",
              "    </tr>\n",
              "    <tr>\n",
              "      <th>Date</th>\n",
              "      <th></th>\n",
              "    </tr>\n",
              "  </thead>\n",
              "  <tbody>\n",
              "    <tr>\n",
              "      <th>2016-10-01</th>\n",
              "      <td>41</td>\n",
              "    </tr>\n",
              "    <tr>\n",
              "      <th>2019-07-28</th>\n",
              "      <td>93</td>\n",
              "    </tr>\n",
              "    <tr>\n",
              "      <th>2020-04-04</th>\n",
              "      <td>30</td>\n",
              "    </tr>\n",
              "    <tr>\n",
              "      <th>2020-06-06</th>\n",
              "      <td>31</td>\n",
              "    </tr>\n",
              "    <tr>\n",
              "      <th>2020-08-25</th>\n",
              "      <td>93</td>\n",
              "    </tr>\n",
              "    <tr>\n",
              "      <th>...</th>\n",
              "      <td>...</td>\n",
              "    </tr>\n",
              "    <tr>\n",
              "      <th>2017-12-22</th>\n",
              "      <td>75</td>\n",
              "    </tr>\n",
              "    <tr>\n",
              "      <th>2016-09-24</th>\n",
              "      <td>41</td>\n",
              "    </tr>\n",
              "    <tr>\n",
              "      <th>2020-07-06</th>\n",
              "      <td>39</td>\n",
              "    </tr>\n",
              "    <tr>\n",
              "      <th>2020-08-27</th>\n",
              "      <td>39</td>\n",
              "    </tr>\n",
              "    <tr>\n",
              "      <th>2018-04-10</th>\n",
              "      <td>50</td>\n",
              "    </tr>\n",
              "  </tbody>\n",
              "</table>\n",
              "<p>1173 rows × 1 columns</p>\n",
              "</div>"
            ],
            "text/plain": [
              "            AQI\n",
              "Date           \n",
              "2016-10-01   41\n",
              "2019-07-28   93\n",
              "2020-04-04   30\n",
              "2020-06-06   31\n",
              "2020-08-25   93\n",
              "...         ...\n",
              "2017-12-22   75\n",
              "2016-09-24   41\n",
              "2020-07-06   39\n",
              "2020-08-27   39\n",
              "2018-04-10   50\n",
              "\n",
              "[1173 rows x 1 columns]"
            ]
          },
          "metadata": {
            "tags": []
          },
          "execution_count": 122
        }
      ]
    },
    {
      "cell_type": "code",
      "metadata": {
        "id": "3p2kd6smBxsV"
      },
      "source": [
        ""
      ],
      "execution_count": null,
      "outputs": []
    },
    {
      "cell_type": "code",
      "metadata": {
        "id": "IfAVr-dRBxvr"
      },
      "source": [
        ""
      ],
      "execution_count": null,
      "outputs": []
    },
    {
      "cell_type": "code",
      "metadata": {
        "id": "v_LDIt_KvKhi",
        "colab": {
          "base_uri": "https://localhost:8080/"
        },
        "outputId": "2bd24fd6-dd74-47d9-aa69-d98a6831b592"
      },
      "source": [
        "y = train['AQI'].resample('MS').mean()\n",
        "\n",
        "# The term bfill means that we use the value before filling in missing values\n",
        "y = y.fillna(y.bfill())\n",
        "\n",
        "print(y)\n",
        " "
      ],
      "execution_count": 81,
      "outputs": [
        {
          "output_type": "stream",
          "text": [
            "Date\n",
            "2016-01-01     42.739130\n",
            "2016-02-01     47.320000\n",
            "2016-03-01     37.909091\n",
            "2016-04-01     51.000000\n",
            "2016-05-01     45.000000\n",
            "2016-06-01     61.125000\n",
            "2016-07-01     62.850000\n",
            "2016-08-01     54.304348\n",
            "2016-09-01     59.791667\n",
            "2016-10-01     35.304348\n",
            "2016-11-01     43.956522\n",
            "2016-12-01     45.720000\n",
            "2017-01-01     46.500000\n",
            "2017-02-01     42.600000\n",
            "2017-03-01     43.440000\n",
            "2017-04-01     43.050000\n",
            "2017-05-01     47.916667\n",
            "2017-06-01     50.952381\n",
            "2017-07-01     48.176471\n",
            "2017-08-01     63.181818\n",
            "2017-09-01     70.500000\n",
            "2017-10-01     70.571429\n",
            "2017-11-01     48.900000\n",
            "2017-12-01     69.333333\n",
            "2018-01-01     59.238095\n",
            "2018-02-01     52.000000\n",
            "2018-03-01     44.157895\n",
            "2018-04-01     49.950000\n",
            "2018-05-01     44.760000\n",
            "2018-06-01     54.818182\n",
            "2018-07-01     48.631579\n",
            "2018-08-01     66.368421\n",
            "2018-09-01     56.461538\n",
            "2018-10-01     51.608696\n",
            "2018-11-01    101.705882\n",
            "2018-12-01     46.043478\n",
            "2019-01-01     50.666667\n",
            "2019-02-01     35.875000\n",
            "2019-03-01     40.250000\n",
            "2019-04-01     47.142857\n",
            "2019-05-01     40.600000\n",
            "2019-06-01     58.000000\n",
            "2019-07-01     48.695652\n",
            "2019-08-01     46.250000\n",
            "2019-09-01     38.700000\n",
            "2019-10-01     49.473684\n",
            "2019-11-01     53.478261\n",
            "2019-12-01     37.611111\n",
            "2020-01-01     42.400000\n",
            "2020-02-01     46.000000\n",
            "2020-03-01      5.000000\n",
            "2020-04-01     38.263158\n",
            "2020-05-01     40.095238\n",
            "2020-06-01     41.833333\n",
            "2020-07-01     45.904762\n",
            "2020-08-01     71.000000\n",
            "2020-09-01      7.000000\n",
            "Freq: MS, Name: AQI, dtype: float64\n"
          ],
          "name": "stdout"
        }
      ]
    },
    {
      "cell_type": "code",
      "metadata": {
        "id": "ZvXkOx13vKk8",
        "colab": {
          "base_uri": "https://localhost:8080/",
          "height": 541
        },
        "outputId": "97e0196c-9c3b-46aa-d055-af3d6f72546d"
      },
      "source": [
        "y.plot(figsize=(15, 6))\n",
        "plt.show()"
      ],
      "execution_count": 82,
      "outputs": [
        {
          "output_type": "display_data",
          "data": {
            "image/png": "[encoded data removed]",
            "text/plain": [
              "<Figure size 1080x432 with 1 Axes>"
            ]
          },
          "metadata": {
            "tags": [],
            "needs_background": "light"
          }
        }
      ]
    },
    {
      "cell_type": "code",
      "metadata": {
        "colab": {
          "base_uri": "https://localhost:8080/"
        },
        "id": "WEDc1J6OfLEy",
        "outputId": "6154d838-0e9d-4242-bcbe-238a60a03c44"
      },
      "source": [
        "import itertools\n",
        "# Define the p, d and q parameters to take any value between 0 and 2\n",
        "p = d = q = range(0, 2)\n",
        "\n",
        "# Generate all different combinations of p, q and q triplets\n",
        "pdq = list(itertools.product(p, d, q))\n",
        "\n",
        "# Generate all different combinations of seasonal p, q and q triplets\n",
        "seasonal_pdq = [(x[0], x[1], x[2], 12) for x in list(itertools.product(p, d, q))]\n",
        "\n",
        "print('Examples of parameter combinations for Seasonal ARIMA...')\n",
        "print('SARIMAX: {} x {}'.format(pdq[1], seasonal_pdq[1]))\n",
        "print('SARIMAX: {} x {}'.format(pdq[1], seasonal_pdq[2]))\n",
        "print('SARIMAX: {} x {}'.format(pdq[2], seasonal_pdq[3]))\n",
        "print('SARIMAX: {} x {}'.format(pdq[2], seasonal_pdq[4]))"
      ],
      "execution_count": 83,
      "outputs": [
        {
          "output_type": "stream",
          "text": [
            "Examples of parameter combinations for Seasonal ARIMA...\n",
            "SARIMAX: (0, 0, 1) x (0, 0, 1, 12)\n",
            "SARIMAX: (0, 0, 1) x (0, 1, 0, 12)\n",
            "SARIMAX: (0, 1, 0) x (0, 1, 1, 12)\n",
            "SARIMAX: (0, 1, 0) x (1, 0, 0, 12)\n"
          ],
          "name": "stdout"
        }
      ]
    },
    {
      "cell_type": "code",
      "metadata": {
        "colab": {
          "base_uri": "https://localhost:8080/"
        },
        "id": "p37WRluWfLIb",
        "outputId": "ae0f5c1d-c217-4c49-81e5-eb3408486be9"
      },
      "source": [
        "import warnings\n",
        "import statsmodels.api as sm\n",
        "\n",
        "\n",
        "warnings.filterwarnings(\"ignore\") # specify to ignore warning messages\n",
        "\n",
        "for param in pdq:\n",
        "    for param_seasonal in seasonal_pdq:\n",
        "        try:\n",
        "            mod = sm.tsa.statespace.SARIMAX(y,\n",
        "                                            order=param,\n",
        "                                            seasonal_order=param_seasonal,\n",
        "                                            enforce_stationarity=False,\n",
        "                                            enforce_invertibility=False)\n",
        "\n",
        "            results = mod.fit()\n",
        "\n",
        "            print('ARIMA{}x{}12 - AIC:{}'.format(param, param_seasonal, results.aic))\n",
        "        except:\n",
        "            continue"
      ],
      "execution_count": 84,
      "outputs": [
        {
          "output_type": "stream",
          "text": [
            "ARIMA(0, 0, 0)x(0, 0, 0, 12)12 - AIC:601.4183032965485\n",
            "ARIMA(0, 0, 0)x(0, 0, 1, 12)12 - AIC:445.48189770255334\n",
            "ARIMA(0, 0, 0)x(0, 1, 0, 12)12 - AIC:379.04674398515596\n",
            "ARIMA(0, 0, 0)x(0, 1, 1, 12)12 - AIC:1172.7128647511645\n",
            "ARIMA(0, 0, 0)x(1, 0, 0, 12)12 - AIC:385.7773893113332\n",
            "ARIMA(0, 0, 0)x(1, 0, 1, 12)12 - AIC:373.21006570845515\n",
            "ARIMA(0, 0, 0)x(1, 1, 0, 12)12 - AIC:284.7070774917486\n",
            "ARIMA(0, 0, 0)x(1, 1, 1, 12)12 - AIC:1418.0407349169766\n",
            "ARIMA(0, 0, 1)x(0, 0, 0, 12)12 - AIC:546.4743765717982\n",
            "ARIMA(0, 0, 1)x(0, 0, 1, 12)12 - AIC:419.0069418923504\n",
            "ARIMA(0, 0, 1)x(0, 1, 0, 12)12 - AIC:373.35182031012465\n",
            "ARIMA(0, 0, 1)x(0, 1, 1, 12)12 - AIC:1387.689450872808\n",
            "ARIMA(0, 0, 1)x(1, 0, 0, 12)12 - AIC:387.72970387703424\n",
            "ARIMA(0, 0, 1)x(1, 0, 1, 12)12 - AIC:367.9304074630415\n",
            "ARIMA(0, 0, 1)x(1, 1, 0, 12)12 - AIC:286.5562009847953\n",
            "ARIMA(0, 0, 1)x(1, 1, 1, 12)12 - AIC:1390.8244985124893\n",
            "ARIMA(0, 1, 0)x(0, 0, 0, 12)12 - AIC:475.9029087866856\n",
            "ARIMA(0, 1, 0)x(0, 0, 1, 12)12 - AIC:381.67425541037085\n",
            "ARIMA(0, 1, 0)x(0, 1, 0, 12)12 - AIC:401.1905404599025\n",
            "ARIMA(0, 1, 0)x(0, 1, 1, 12)12 - AIC:1054.957448152744\n",
            "ARIMA(0, 1, 0)x(1, 0, 0, 12)12 - AIC:389.4405394977409\n",
            "ARIMA(0, 1, 0)x(1, 0, 1, 12)12 - AIC:383.5720087157005\n",
            "ARIMA(0, 1, 0)x(1, 1, 0, 12)12 - AIC:290.41116861701795\n",
            "ARIMA(0, 1, 0)x(1, 1, 1, 12)12 - AIC:1126.3893260145453\n",
            "ARIMA(0, 1, 1)x(0, 0, 0, 12)12 - AIC:443.7580606615676\n",
            "ARIMA(0, 1, 1)x(0, 0, 1, 12)12 - AIC:353.5825957106617\n",
            "ARIMA(0, 1, 1)x(0, 1, 0, 12)12 - AIC:365.15832071059447\n",
            "ARIMA(0, 1, 1)x(0, 1, 1, 12)12 - AIC:1000.0431014268921\n",
            "ARIMA(0, 1, 1)x(1, 0, 0, 12)12 - AIC:368.55769221981535\n",
            "ARIMA(0, 1, 1)x(1, 0, 1, 12)12 - AIC:355.4163957590752\n",
            "ARIMA(0, 1, 1)x(1, 1, 0, 12)12 - AIC:276.8206225604957\n",
            "ARIMA(0, 1, 1)x(1, 1, 1, 12)12 - AIC:1070.1627539098638\n",
            "ARIMA(1, 0, 0)x(0, 0, 0, 12)12 - AIC:483.4981581935386\n",
            "ARIMA(1, 0, 0)x(0, 0, 1, 12)12 - AIC:389.49310777174674\n",
            "ARIMA(1, 0, 0)x(0, 1, 0, 12)12 - AIC:380.98072797760574\n",
            "ARIMA(1, 0, 0)x(0, 1, 1, 12)12 - AIC:1127.8740664804245\n",
            "ARIMA(1, 0, 0)x(1, 0, 0, 12)12 - AIC:380.0378079198712\n",
            "ARIMA(1, 0, 0)x(1, 0, 1, 12)12 - AIC:375.2004488053268\n",
            "ARIMA(1, 0, 0)x(1, 1, 0, 12)12 - AIC:278.24518555090935\n",
            "ARIMA(1, 0, 0)x(1, 1, 1, 12)12 - AIC:1121.751120808837\n",
            "ARIMA(1, 0, 1)x(0, 0, 0, 12)12 - AIC:453.07043559092284\n",
            "ARIMA(1, 0, 1)x(0, 0, 1, 12)12 - AIC:361.91576829166945\n",
            "ARIMA(1, 0, 1)x(0, 1, 0, 12)12 - AIC:374.0994436371201\n",
            "ARIMA(1, 0, 1)x(0, 1, 1, 12)12 - AIC:1411.1261757816847\n",
            "ARIMA(1, 0, 1)x(1, 0, 0, 12)12 - AIC:368.931724379053\n",
            "ARIMA(1, 0, 1)x(1, 0, 1, 12)12 - AIC:363.32179053622406\n",
            "ARIMA(1, 0, 1)x(1, 1, 0, 12)12 - AIC:278.33222293103995\n",
            "ARIMA(1, 0, 1)x(1, 1, 1, 12)12 - AIC:1414.1956017636453\n",
            "ARIMA(1, 1, 0)x(0, 0, 0, 12)12 - AIC:459.29959164318564\n",
            "ARIMA(1, 1, 0)x(0, 0, 1, 12)12 - AIC:368.9097494906904\n",
            "ARIMA(1, 1, 0)x(0, 1, 0, 12)12 - AIC:384.6155635178643\n",
            "ARIMA(1, 1, 0)x(0, 1, 1, 12)12 - AIC:700.7832143091514\n",
            "ARIMA(1, 1, 0)x(1, 0, 0, 12)12 - AIC:368.8374347735771\n",
            "ARIMA(1, 1, 0)x(1, 0, 1, 12)12 - AIC:370.83476707657996\n",
            "ARIMA(1, 1, 0)x(1, 1, 0, 12)12 - AIC:277.3818216531512\n",
            "ARIMA(1, 1, 0)x(1, 1, 1, 12)12 - AIC:773.6213619756966\n",
            "ARIMA(1, 1, 1)x(0, 0, 0, 12)12 - AIC:445.748529753568\n",
            "ARIMA(1, 1, 1)x(0, 0, 1, 12)12 - AIC:355.0097234101646\n",
            "ARIMA(1, 1, 1)x(0, 1, 0, 12)12 - AIC:365.46753739491464\n",
            "ARIMA(1, 1, 1)x(0, 1, 1, 12)12 - AIC:907.221865548514\n",
            "ARIMA(1, 1, 1)x(1, 0, 0, 12)12 - AIC:362.3350188342107\n",
            "ARIMA(1, 1, 1)x(1, 0, 1, 12)12 - AIC:356.6298928114666\n",
            "ARIMA(1, 1, 1)x(1, 1, 0, 12)12 - AIC:270.0673798469886\n",
            "ARIMA(1, 1, 1)x(1, 1, 1, 12)12 - AIC:968.0970862416016\n"
          ],
          "name": "stdout"
        }
      ]
    },
    {
      "cell_type": "code",
      "metadata": {
        "colab": {
          "base_uri": "https://localhost:8080/"
        },
        "id": "WKJdKDOmfLLx",
        "outputId": "8c5db9fc-2f4c-4eb0-d455-ff49a4974a25"
      },
      "source": [
        "mod = sm.tsa.statespace.SARIMAX(y,\n",
        "                                order=(1, 1, 0),\n",
        "                                seasonal_order=(1, 1, 1, 12),\n",
        "                                enforce_stationarity=False,\n",
        "                                enforce_invertibility=False)\n",
        "\n",
        "results = mod.fit()\n",
        "\n",
        "print(results.summary().tables[1])\n",
        " \n"
      ],
      "execution_count": 87,
      "outputs": [
        {
          "output_type": "stream",
          "text": [
            "==============================================================================\n",
            "                 coef    std err          z      P>|z|      [0.025      0.975]\n",
            "------------------------------------------------------------------------------\n",
            "ar.L1         -0.6296         -0        inf      0.000      -0.630      -0.630\n",
            "ar.S.L12      -2.2293   5.51e-26  -4.04e+25      0.000      -2.229      -2.229\n",
            "ma.S.L12   -7.398e+12   8.74e-32  -8.47e+43      0.000    -7.4e+12    -7.4e+12\n",
            "sigma2      1.547e-16   3.41e-10   4.54e-07      1.000   -6.68e-10    6.68e-10\n",
            "==============================================================================\n"
          ],
          "name": "stdout"
        }
      ]
    },
    {
      "cell_type": "code",
      "metadata": {
        "colab": {
          "base_uri": "https://localhost:8080/",
          "height": 883
        },
        "id": "uh9qfrW1fLQH",
        "outputId": "4766cbce-e08a-42ca-9c74-439e5fd629a6"
      },
      "source": [
        "results.plot_diagnostics(figsize=(15, 12))\n",
        "plt.show()\n",
        " "
      ],
      "execution_count": 88,
      "outputs": [
        {
          "output_type": "display_data",
          "data": {
            "image/png": "[encoded data removed]",
            "text/plain": [
              "<Figure size 1080x864 with 4 Axes>"
            ]
          },
          "metadata": {
            "tags": [],
            "needs_background": "light"
          }
        }
      ]
    },
    {
      "cell_type": "code",
      "metadata": {
        "id": "PcBlCnmqCuYo"
      },
      "source": [
        "#test data prediction\n",
        "steps=len(test-1)\n",
        "predictions= results.predict(start =len(train), end=(len(train)+len(test)+(steps)),exog=test)"
      ],
      "execution_count": 93,
      "outputs": []
    },
    {
      "cell_type": "code",
      "metadata": {
        "colab": {
          "base_uri": "https://localhost:8080/"
        },
        "id": "4Fdpy3H5E6Wj",
        "outputId": "5a5bd7ce-a078-4eb9-864d-fcfa0eb6821c"
      },
      "source": [
        "print(predictions)"
      ],
      "execution_count": 97,
      "outputs": [
        {
          "output_type": "stream",
          "text": [
            "2113-10-01    3.038432e+33\n",
            "2113-11-01   -1.060408e+34\n",
            "2113-12-01    1.957754e+33\n",
            "2114-01-01    3.346517e+33\n",
            "2114-02-01    9.290840e+33\n",
            "                  ...     \n",
            "2197-04-01   -1.959390e+62\n",
            "2197-05-01   -4.563932e+62\n",
            "2197-06-01    1.023470e+61\n",
            "2197-07-01   -3.859516e+62\n",
            "2197-08-01   -1.184141e+63\n",
            "Freq: MS, Name: predicted_mean, Length: 1007, dtype: float64\n"
          ],
          "name": "stdout"
        }
      ]
    },
    {
      "cell_type": "code",
      "metadata": {
        "colab": {
          "base_uri": "https://localhost:8080/",
          "height": 516
        },
        "id": "tTUOwI9CE4jZ",
        "outputId": "34319ff2-a662-445d-af4a-359a155ca672"
      },
      "source": [
        "import math\n",
        "y_forecasted = predictions.predicted_mean\n",
        "y_truth = test['Date']\n",
        "\n",
        "# Compute the mean square error\n",
        "rmse = math.sqrt(((y_forecasted - y_truth) ** 2).mean())\n",
        "print('The Mean Squared Error of our forecasts is {}'.format(round(mse, 2)))"
      ],
      "execution_count": 98,
      "outputs": [
        {
          "output_type": "error",
          "ename": "AttributeError",
          "evalue": "ignored",
          "traceback": [
            "\u001b[0;31m---------------------------------------------------------------------------\u001b[0m",
            "\u001b[0;31mAttributeError\u001b[0m                            Traceback (most recent call last)",
            "\u001b[0;32m<ipython-input-98-6b8007b50a96>\u001b[0m in \u001b[0;36m<module>\u001b[0;34m()\u001b[0m\n\u001b[1;32m      1\u001b[0m \u001b[0;32mimport\u001b[0m \u001b[0mmath\u001b[0m\u001b[0;34m\u001b[0m\u001b[0;34m\u001b[0m\u001b[0m\n\u001b[0;32m----> 2\u001b[0;31m \u001b[0my_forecasted\u001b[0m \u001b[0;34m=\u001b[0m \u001b[0mpredictions\u001b[0m\u001b[0;34m.\u001b[0m\u001b[0mpredicted_mean\u001b[0m\u001b[0;34m\u001b[0m\u001b[0;34m\u001b[0m\u001b[0m\n\u001b[0m\u001b[1;32m      3\u001b[0m \u001b[0my_truth\u001b[0m \u001b[0;34m=\u001b[0m \u001b[0mtest\u001b[0m\u001b[0;34m[\u001b[0m\u001b[0;34m'Date'\u001b[0m\u001b[0;34m]\u001b[0m\u001b[0;34m\u001b[0m\u001b[0;34m\u001b[0m\u001b[0m\n\u001b[1;32m      4\u001b[0m \u001b[0;34m\u001b[0m\u001b[0m\n\u001b[1;32m      5\u001b[0m \u001b[0;31m# Compute the mean square error\u001b[0m\u001b[0;34m\u001b[0m\u001b[0;34m\u001b[0m\u001b[0;34m\u001b[0m\u001b[0m\n",
            "\u001b[0;32m/usr/local/lib/python3.7/dist-packages/pandas/core/generic.py\u001b[0m in \u001b[0;36m__getattr__\u001b[0;34m(self, name)\u001b[0m\n\u001b[1;32m   5139\u001b[0m             \u001b[0;32mif\u001b[0m \u001b[0mself\u001b[0m\u001b[0;34m.\u001b[0m\u001b[0m_info_axis\u001b[0m\u001b[0;34m.\u001b[0m\u001b[0m_can_hold_identifiers_and_holds_name\u001b[0m\u001b[0;34m(\u001b[0m\u001b[0mname\u001b[0m\u001b[0;34m)\u001b[0m\u001b[0;34m:\u001b[0m\u001b[0;34m\u001b[0m\u001b[0;34m\u001b[0m\u001b[0m\n\u001b[1;32m   5140\u001b[0m                 \u001b[0;32mreturn\u001b[0m \u001b[0mself\u001b[0m\u001b[0;34m[\u001b[0m\u001b[0mname\u001b[0m\u001b[0;34m]\u001b[0m\u001b[0;34m\u001b[0m\u001b[0;34m\u001b[0m\u001b[0m\n\u001b[0;32m-> 5141\u001b[0;31m             \u001b[0;32mreturn\u001b[0m \u001b[0mobject\u001b[0m\u001b[0;34m.\u001b[0m\u001b[0m__getattribute__\u001b[0m\u001b[0;34m(\u001b[0m\u001b[0mself\u001b[0m\u001b[0;34m,\u001b[0m \u001b[0mname\u001b[0m\u001b[0;34m)\u001b[0m\u001b[0;34m\u001b[0m\u001b[0;34m\u001b[0m\u001b[0m\n\u001b[0m\u001b[1;32m   5142\u001b[0m \u001b[0;34m\u001b[0m\u001b[0m\n\u001b[1;32m   5143\u001b[0m     \u001b[0;32mdef\u001b[0m \u001b[0m__setattr__\u001b[0m\u001b[0;34m(\u001b[0m\u001b[0mself\u001b[0m\u001b[0;34m,\u001b[0m \u001b[0mname\u001b[0m\u001b[0;34m:\u001b[0m \u001b[0mstr\u001b[0m\u001b[0;34m,\u001b[0m \u001b[0mvalue\u001b[0m\u001b[0;34m)\u001b[0m \u001b[0;34m->\u001b[0m \u001b[0;32mNone\u001b[0m\u001b[0;34m:\u001b[0m\u001b[0;34m\u001b[0m\u001b[0;34m\u001b[0m\u001b[0m\n",
            "\u001b[0;31mAttributeError\u001b[0m: 'Series' object has no attribute 'predicted_mean'"
          ]
        }
      ]
    },
    {
      "cell_type": "code",
      "metadata": {
        "id": "cwQdlGivCucw"
      },
      "source": [
        "forecast_1= results.forecast(steps=steps, exog=test)"
      ],
      "execution_count": 94,
      "outputs": []
    },
    {
      "cell_type": "code",
      "metadata": {
        "colab": {
          "base_uri": "https://localhost:8080/",
          "height": 321
        },
        "id": "bBvu9v7aCuge",
        "outputId": "b6590f89-bdce-4ba9-c7e6-96d80080524d"
      },
      "source": [
        "act= pd.DataFrame(scaler_output.iloc[train:, 0])"
      ],
      "execution_count": 96,
      "outputs": [
        {
          "output_type": "error",
          "ename": "NameError",
          "evalue": "ignored",
          "traceback": [
            "\u001b[0;31m---------------------------------------------------------------------------\u001b[0m",
            "\u001b[0;31mNameError\u001b[0m                                 Traceback (most recent call last)",
            "\u001b[0;32m<ipython-input-96-7483f4827e05>\u001b[0m in \u001b[0;36m<module>\u001b[0;34m()\u001b[0m\n\u001b[0;32m----> 1\u001b[0;31m \u001b[0mact\u001b[0m\u001b[0;34m=\u001b[0m \u001b[0mpd\u001b[0m\u001b[0;34m.\u001b[0m\u001b[0mDataFrame\u001b[0m\u001b[0;34m(\u001b[0m\u001b[0mscaler_output\u001b[0m\u001b[0;34m.\u001b[0m\u001b[0miloc\u001b[0m\u001b[0;34m[\u001b[0m\u001b[0mtrain\u001b[0m\u001b[0;34m:\u001b[0m\u001b[0;34m,\u001b[0m \u001b[0;36m0\u001b[0m\u001b[0;34m]\u001b[0m\u001b[0;34m)\u001b[0m\u001b[0;34m\u001b[0m\u001b[0;34m\u001b[0m\u001b[0m\n\u001b[0m",
            "\u001b[0;31mNameError\u001b[0m: name 'scaler_output' is not defined"
          ]
        }
      ]
    },
    {
      "cell_type": "code",
      "metadata": {
        "id": "hEvQz_upCum2"
      },
      "source": [
        "predictions=pd.DataFrame(predictions)\n",
        "predictions.reset_index(drop=True, inplace=True)\n",
        "predictions.index=test_X.index\n",
        "predictions['Actual'] = act['Stock Price next day']\n",
        "predictions.rename(columns={0:'Pred'}, inplace=True)"
      ],
      "execution_count": null,
      "outputs": []
    },
    {
      "cell_type": "code",
      "metadata": {
        "id": "1YYQpf3BCuv0"
      },
      "source": [
        ""
      ],
      "execution_count": null,
      "outputs": []
    },
    {
      "cell_type": "code",
      "metadata": {
        "id": "CZjE2CTJfLWY",
        "colab": {
          "base_uri": "https://localhost:8080/"
        },
        "outputId": "5f9f7e33-7bbe-4484-b618-a676ce1f8c51"
      },
      "source": [
        "pred = results.get_prediction(start=pd.to_datetime('2016-01-01'), dynamic=False)\n",
        "print(pred.predicted_mean)\n",
        "pred_ci = pred.conf_int()"
      ],
      "execution_count": 100,
      "outputs": [
        {
          "output_type": "stream",
          "text": [
            "Date\n",
            "2016-01-01      0.000000\n",
            "2016-02-01     33.770134\n",
            "2016-03-01     48.203552\n",
            "2016-04-01     40.916189\n",
            "2016-05-01     45.620766\n",
            "2016-06-01     48.601152\n",
            "2016-07-01     54.528698\n",
            "2016-08-01     64.126347\n",
            "2016-09-01     56.895999\n",
            "2016-10-01     57.159106\n",
            "2016-11-01     44.516294\n",
            "2016-12-01     38.350516\n",
            "2017-01-01     48.997710\n",
            "2017-02-01     49.872015\n",
            "2017-03-01     52.151465\n",
            "2017-04-01     38.976440\n",
            "2017-05-01     48.790448\n",
            "2017-06-01     47.981537\n",
            "2017-07-01     49.032037\n",
            "2017-08-01     54.870672\n",
            "2017-09-01     44.920510\n",
            "2017-10-01     66.037948\n",
            "2017-11-01     66.557736\n",
            "2017-12-01     61.887550\n",
            "2018-01-01    118.399358\n",
            "2018-02-01    117.717055\n",
            "2018-03-01     43.992043\n",
            "2018-04-01     64.899711\n",
            "2018-05-01     45.619876\n",
            "2018-06-01     68.055663\n",
            "2018-07-01     76.025491\n",
            "2018-08-01     19.599208\n",
            "2018-09-01     34.832180\n",
            "2018-10-01     10.059223\n",
            "2018-11-01     66.169743\n",
            "2018-12-01     77.894350\n",
            "2019-01-01     81.896635\n",
            "2019-02-01     56.867089\n",
            "2019-03-01     56.828167\n",
            "2019-04-01     36.754116\n",
            "2019-05-01     55.002602\n",
            "2019-06-01     49.969100\n",
            "2019-07-01     44.938799\n",
            "2019-08-01     67.092858\n",
            "2019-09-01     83.615262\n",
            "2019-10-01     67.515915\n",
            "2019-11-01    -63.348599\n",
            "2019-12-01     95.747619\n",
            "2020-01-01     91.167635\n",
            "2020-02-01     23.686120\n",
            "2020-03-01     22.162130\n",
            "2020-04-01     20.858990\n",
            "2020-05-01     16.589552\n",
            "2020-06-01     37.754384\n",
            "2020-07-01     39.035423\n",
            "2020-08-01     84.406418\n",
            "2020-09-01     69.182747\n",
            "Freq: MS, Name: predicted_mean, dtype: float64\n"
          ],
          "name": "stdout"
        }
      ]
    },
    {
      "cell_type": "code",
      "metadata": {
        "colab": {
          "base_uri": "https://localhost:8080/"
        },
        "id": "j6pwLW8F6Xo6",
        "outputId": "46fda28e-d2e7-4bec-d56c-1b127454d46d"
      },
      "source": [
        "pred_future = results.get_prediction(start=pd.to_datetime('2021-01-01'), dynamic=False)\n",
        "pred_ci_future = pred_future.conf_int()\n",
        "pred_future.prediction_results"
      ],
      "execution_count": 66,
      "outputs": [
        {
          "output_type": "execute_result",
          "data": {
            "text/plain": [
              "<statsmodels.tsa.statespace.kalman_filter.PredictionResults at 0x7fb675bc9b10>"
            ]
          },
          "metadata": {
            "tags": []
          },
          "execution_count": 66
        }
      ]
    },
    {
      "cell_type": "code",
      "metadata": {
        "colab": {
          "base_uri": "https://localhost:8080/",
          "height": 436
        },
        "id": "mkzsqeTmiZh9",
        "outputId": "88278f0c-59e1-4d06-d673-aaaf0160021e"
      },
      "source": [
        "ax = y['2016':].plot(label='observed')\n",
        "pred.predicted_mean.plot(ax=ax, label='One-step ahead Forecast', alpha=.7)\n",
        "\n",
        "ax.fill_between(pred_ci.index,\n",
        "                pred_ci.iloc[:, 0],\n",
        "                pred_ci.iloc[:, 1], color='k', alpha=.2)\n",
        "\n",
        "ax.set_xlabel('Date')\n",
        "ax.set_ylabel('AQI')\n",
        "plt.ylim(0,200)\n",
        "plt.legend()\n",
        "\n",
        "plt.show()"
      ],
      "execution_count": 68,
      "outputs": [
        {
          "output_type": "display_data",
          "data": {
            "image/png": "[encoded data removed]",
            "text/plain": [
              "<Figure size 432x288 with 1 Axes>"
            ]
          },
          "metadata": {
            "tags": [],
            "needs_background": "light"
          }
        }
      ]
    },
    {
      "cell_type": "code",
      "metadata": {
        "colab": {
          "base_uri": "https://localhost:8080/"
        },
        "id": "GDGMW92_jFqi",
        "outputId": "2e666b2a-85f1-4ff1-a765-3b9927212b3b"
      },
      "source": [
        "import math\n",
        "y_forecasted = pred.predicted_mean\n",
        "y_truth = y['2000-01-01':]\n",
        "\n",
        "# Compute the mean square error\n",
        "rmse = math.sqrt(((y_forecasted - y_truth) ** 2).mean())\n",
        "print('The Mean Squared Error of our forecasts is {}'.format(round(mse, 2)))"
      ],
      "execution_count": null,
      "outputs": [
        {
          "output_type": "stream",
          "text": [
            "The Mean Squared Error of our forecasts is 10.03\n"
          ],
          "name": "stdout"
        }
      ]
    },
    {
      "cell_type": "code",
      "metadata": {
        "id": "TgQdQ2zijFuK",
        "colab": {
          "base_uri": "https://localhost:8080/",
          "height": 599
        },
        "outputId": "3316af45-3535-4e0d-91eb-ca503ded53fd"
      },
      "source": [
        "pred_uc = results.get_forecast(steps=20)\n",
        "pred_ci = pred_uc.conf_int()\n",
        "ax = y.plot(label='observed', figsize=(14, 7))\n",
        "pred_uc.predicted_mean.plot(ax=ax, label='Forecast')\n",
        "ax.fill_between(pred_ci.index,\n",
        "                pred_ci.iloc[:, 0],\n",
        "                pred_ci.iloc[:, 1], color='k', alpha=.25)\n",
        "ax.set_xlabel('Date')\n",
        "ax.set_ylabel('Furniture Sales')\n",
        "plt.ylim(-100,300)\n",
        "plt.legend()\n",
        "plt.show()"
      ],
      "execution_count": 79,
      "outputs": [
        {
          "output_type": "display_data",
          "data": {
            "image/png": "[encoded data removed]",
            "text/plain": [
              "<Figure size 1008x504 with 1 Axes>"
            ]
          },
          "metadata": {
            "tags": [],
            "needs_background": "light"
          }
        }
      ]
    },
    {
      "cell_type": "markdown",
      "metadata": {
        "id": "i4R9GWgNBNdn"
      },
      "source": [
        "# test prediction for sarimax"
      ]
    },
    {
      "cell_type": "code",
      "metadata": {
        "id": "--bZL1h5jFyi"
      },
      "source": [
        "def get_sarima_params(data):\n",
        "  p = d = q = range(0, 2)\n",
        "  pdq = list(itertools.product(p, d, q))\n",
        "  seasonal_pdq = [(x[0], x[1], x[2], 24) for x in list(itertools.product(p, d, q))]\n",
        "  result_table = pd.DataFrame(columns=['pda','seasonal_pda','aic'])\n",
        "\n",
        "  for param in pdq:\n",
        "      for param_seasonal in seasonal_pdq:\n",
        "          try:\n",
        "            mod = sm.tsa.statespace.SARIMAX(data,order=param,seasonal_order=param_seasonal,enforce_stationarity=False,enforce_invertibility=False)\n",
        "            results = mod.fit()\n",
        "            result_table = result_table.append({'pda':param, 'seasonal_pda':param_seasonal, 'aic':results.aic},ignore_index=True)\n",
        "          except:\n",
        "            continue\n",
        "\n",
        "  optimal_params = result_table[result_table['aic']==result_table.aic.min()]\n",
        "  order = optimal_params.pda.values[0]\n",
        "  seasonal_order = optimal_params.seasonal_pda.values[0]\n",
        "  return (order,seasonal_order)"
      ],
      "execution_count": 114,
      "outputs": []
    },
    {
      "cell_type": "code",
      "metadata": {
        "id": "2qi2e-uLjF12"
      },
      "source": [
        "def apply_sarimax(train_data,train_exog, test_data, test_exog , order , seasonal_order):\n",
        "  print('SARIMAX MODEL ORDERS ARE = {} {} '.format(order,seasonal_order))\n",
        "   \n",
        "  mod = sm.tsa.statespace.SARIMAX(train_data,exog=train_exog,order=order,seasonal_order=seasonal_order)\n",
        "  results = mod.fit()\n",
        "  \n",
        "  pred = results.get_prediction(start=train_data.index[0],end=train_data.index[-1],exog=train_exog,dynamic=False)\n",
        "  train_forecast = pred.predicted_mean.round()\n",
        "  train_forecast[train_forecast<0] = 0\n",
        "\n",
        "\n",
        "  pred1 = results.get_prediction(start=test_data.index[0],end=test_data.index[-1],exog=test_exog.iloc[:-1,:],dynamic=False)\n",
        "  test_forecast = pred1.predicted_mean.round()\n",
        "  test_forecast[test_forecast<0] = 0"
      ],
      "execution_count": 115,
      "outputs": []
    },
    {
      "cell_type": "code",
      "metadata": {
        "id": "_xmE0acxjF5c",
        "colab": {
          "base_uri": "https://localhost:8080/",
          "height": 516
        },
        "outputId": "9831469d-c296-43ce-aa85-5a6af8e3f0d3"
      },
      "source": [
        "def print_sarima_results(train_data,test_data,train_forecast,test_forecast):\n",
        "  print('Train Mean Absolute Error:     ', mean_absolute_error(train_data , train_forecast))\n",
        "  print('Train Root Mean Squared Error: ',np.sqrt(mean_squared_error(train_data , train_forecast)))\n",
        "  print('Test Mean Absolute Error:      ', mean_absolute_error(test_data, test_forecast))\n",
        "  print('Test Root Mean Squared Error:  ',np.sqrt(mean_squared_error(test_data, test_forecast)))\n",
        "\n",
        "#Applying Sarimax on demand data with exogenance variables on Cluster\n",
        "with warnings.catch_warnings():\n",
        "    warnings.simplefilter(\"ignore\")\n",
        "\n",
        "    train_data.set_index('Date', inplace=True) #set date as index\n",
        "\n",
        "    train_data = train['AQI']\n",
        "\n",
        "    train_data = train[[\"Date\",\"AQI\"]]\n",
        "    train_data.columns=['Date', 'AQI']\n",
        "    train_data=train_data.dropna()\n",
        "    train_data['Date'] = pd.to_datetime(train_data['Date'])\n",
        "    train_exog =train.loc[:,['Date']]\n",
        "    test_data = pd.DataFrame(test['AQI'])\n",
        "    test_exog = test['Date']\n",
        "    \n",
        "    \n",
        "    order,seasonal_order = get_sarima_params(train_data)\n",
        "    train_forecast, test_forecast = apply_sarima(train_data,train_exog,test_data,test_exog,order,seasonal_order)  \n",
        "    \n",
        "    #Ignoring test data between 23-26 Jan 2016\n",
        "    test_cleaned = test_data.drop(indexes) \n",
        "    test_forecast_cleaned = test_forecast.drop(indexes)\n",
        "    \n",
        "    print_sarima_results(train_data,test_cleaned,train_forecast, test_forecast_cleaned)"
      ],
      "execution_count": 127,
      "outputs": [
        {
          "output_type": "error",
          "ename": "AttributeError",
          "evalue": "ignored",
          "traceback": [
            "\u001b[0;31m---------------------------------------------------------------------------\u001b[0m",
            "\u001b[0;31mAttributeError\u001b[0m                            Traceback (most recent call last)",
            "\u001b[0;32m<ipython-input-127-d51ccc92b473>\u001b[0m in \u001b[0;36m<module>\u001b[0;34m()\u001b[0m\n\u001b[1;32m      9\u001b[0m     \u001b[0mwarnings\u001b[0m\u001b[0;34m.\u001b[0m\u001b[0msimplefilter\u001b[0m\u001b[0;34m(\u001b[0m\u001b[0;34m\"ignore\"\u001b[0m\u001b[0;34m)\u001b[0m\u001b[0;34m\u001b[0m\u001b[0;34m\u001b[0m\u001b[0m\n\u001b[1;32m     10\u001b[0m \u001b[0;34m\u001b[0m\u001b[0m\n\u001b[0;32m---> 11\u001b[0;31m     \u001b[0mtrain_data\u001b[0m\u001b[0;34m.\u001b[0m\u001b[0mset_index\u001b[0m\u001b[0;34m(\u001b[0m\u001b[0;34m'Date'\u001b[0m\u001b[0;34m,\u001b[0m \u001b[0minplace\u001b[0m\u001b[0;34m=\u001b[0m\u001b[0;32mTrue\u001b[0m\u001b[0;34m)\u001b[0m \u001b[0;31m#set date as index\u001b[0m\u001b[0;34m\u001b[0m\u001b[0;34m\u001b[0m\u001b[0m\n\u001b[0m\u001b[1;32m     12\u001b[0m \u001b[0;34m\u001b[0m\u001b[0m\n\u001b[1;32m     13\u001b[0m     \u001b[0mtrain_data\u001b[0m \u001b[0;34m=\u001b[0m \u001b[0mtrain\u001b[0m\u001b[0;34m[\u001b[0m\u001b[0;34m'AQI'\u001b[0m\u001b[0;34m]\u001b[0m\u001b[0;34m\u001b[0m\u001b[0;34m\u001b[0m\u001b[0m\n",
            "\u001b[0;32m/usr/local/lib/python3.7/dist-packages/pandas/core/generic.py\u001b[0m in \u001b[0;36m__getattr__\u001b[0;34m(self, name)\u001b[0m\n\u001b[1;32m   5139\u001b[0m             \u001b[0;32mif\u001b[0m \u001b[0mself\u001b[0m\u001b[0;34m.\u001b[0m\u001b[0m_info_axis\u001b[0m\u001b[0;34m.\u001b[0m\u001b[0m_can_hold_identifiers_and_holds_name\u001b[0m\u001b[0;34m(\u001b[0m\u001b[0mname\u001b[0m\u001b[0;34m)\u001b[0m\u001b[0;34m:\u001b[0m\u001b[0;34m\u001b[0m\u001b[0;34m\u001b[0m\u001b[0m\n\u001b[1;32m   5140\u001b[0m                 \u001b[0;32mreturn\u001b[0m \u001b[0mself\u001b[0m\u001b[0;34m[\u001b[0m\u001b[0mname\u001b[0m\u001b[0;34m]\u001b[0m\u001b[0;34m\u001b[0m\u001b[0;34m\u001b[0m\u001b[0m\n\u001b[0;32m-> 5141\u001b[0;31m             \u001b[0;32mreturn\u001b[0m \u001b[0mobject\u001b[0m\u001b[0;34m.\u001b[0m\u001b[0m__getattribute__\u001b[0m\u001b[0;34m(\u001b[0m\u001b[0mself\u001b[0m\u001b[0;34m,\u001b[0m \u001b[0mname\u001b[0m\u001b[0;34m)\u001b[0m\u001b[0;34m\u001b[0m\u001b[0;34m\u001b[0m\u001b[0m\n\u001b[0m\u001b[1;32m   5142\u001b[0m \u001b[0;34m\u001b[0m\u001b[0m\n\u001b[1;32m   5143\u001b[0m     \u001b[0;32mdef\u001b[0m \u001b[0m__setattr__\u001b[0m\u001b[0;34m(\u001b[0m\u001b[0mself\u001b[0m\u001b[0;34m,\u001b[0m \u001b[0mname\u001b[0m\u001b[0;34m:\u001b[0m \u001b[0mstr\u001b[0m\u001b[0;34m,\u001b[0m \u001b[0mvalue\u001b[0m\u001b[0;34m)\u001b[0m \u001b[0;34m->\u001b[0m \u001b[0;32mNone\u001b[0m\u001b[0;34m:\u001b[0m\u001b[0;34m\u001b[0m\u001b[0;34m\u001b[0m\u001b[0m\n",
            "\u001b[0;31mAttributeError\u001b[0m: 'Series' object has no attribute 'set_index'"
          ]
        }
      ]
    }
  ]
}