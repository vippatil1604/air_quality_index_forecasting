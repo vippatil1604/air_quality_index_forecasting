{
  "nbformat": 4,
  "nbformat_minor": 0,
  "metadata": {
    "colab": {
      "name": "CC_Proj_DP.ipynb",
      "provenance": [],
      "collapsed_sections": []
    },
    "kernelspec": {
      "name": "python3",
      "display_name": "Python 3"
    },
    "language_info": {
      "name": "python"
    }
  },
  "cells": [
    {
      "cell_type": "code",
      "metadata": {
        "id": "1Bvzn3u8u7IU"
      },
      "source": [
        "!apt-get install openjdk-8-jdk-headless -qq > /dev/null\n",
        "!wget -q http://apache.mirror.amaze.com.au/spark/spark-3.0.2/spark-3.0.2-bin-hadoop3.2.tgz\n",
        "!tar xf spark-3.0.2-bin-hadoop3.2.tgz\n",
        "!pip install -q findspark"
      ],
      "execution_count": null,
      "outputs": []
    },
    {
      "cell_type": "code",
      "metadata": {
        "id": "XG0jdlwLu-Aw"
      },
      "source": [
        "import os\n",
        "os.environ[\"JAVA_HOME\"] = \"/usr/lib/jvm/java-8-openjdk-amd64\"\n",
        "os.environ[\"SPARK_HOME\"] = \"spark-3.0.2-bin-hadoop3.2\""
      ],
      "execution_count": null,
      "outputs": []
    },
    {
      "cell_type": "code",
      "metadata": {
        "id": "E6bV17Lzvjz5"
      },
      "source": [
        "import findspark\n",
        "findspark.init()"
      ],
      "execution_count": null,
      "outputs": []
    },
    {
      "cell_type": "code",
      "metadata": {
        "colab": {
          "base_uri": "https://localhost:8080/",
          "height": 193
        },
        "id": "MhkeSrCQvloa",
        "outputId": "fb507dff-591c-4bea-83c5-6cd656f09647"
      },
      "source": [
        "from pyspark.sql import SparkSession\n",
        "spark = SparkSession.builder.master(\"local[*]\").getOrCreate()\n",
        "sc = spark.sparkContext\n",
        "sc"
      ],
      "execution_count": null,
      "outputs": [
        {
          "output_type": "execute_result",
          "data": {
            "text/html": [
              "\n",
              "        <div>\n",
              "            <p><b>SparkContext</b></p>\n",
              "\n",
              "            <p><a href=\"http://7e7108a4dbcf:4040\">Spark UI</a></p>\n",
              "\n",
              "            <dl>\n",
              "              <dt>Version</dt>\n",
              "                <dd><code>v3.0.2</code></dd>\n",
              "              <dt>Master</dt>\n",
              "                <dd><code>local[*]</code></dd>\n",
              "              <dt>AppName</dt>\n",
              "                <dd><code>pyspark-shell</code></dd>\n",
              "            </dl>\n",
              "        </div>\n",
              "        "
            ],
            "text/plain": [
              "<SparkContext master=local[*] appName=pyspark-shell>"
            ]
          },
          "metadata": {
            "tags": []
          },
          "execution_count": 4
        }
      ]
    },
    {
      "cell_type": "code",
      "metadata": {
        "colab": {
          "base_uri": "https://localhost:8080/"
        },
        "id": "sOOCgp7Av_J0",
        "outputId": "e6e552d7-b6c1-40cd-8103-9a51e7ffba03"
      },
      "source": [
        "from google.colab import drive\n",
        "drive.mount('/content/drive')"
      ],
      "execution_count": null,
      "outputs": [
        {
          "output_type": "stream",
          "text": [
            "Mounted at /content/drive\n"
          ],
          "name": "stdout"
        }
      ]
    },
    {
      "cell_type": "code",
      "metadata": {
        "id": "tD6EImywvnCM"
      },
      "source": [
        "import pyspark.sql\n",
        "from pyspark.sql import Row\n",
        "from pyspark.sql.types import *\n",
        "import csv"
      ],
      "execution_count": null,
      "outputs": []
    },
    {
      "cell_type": "code",
      "metadata": {
        "colab": {
          "base_uri": "https://localhost:8080/"
        },
        "id": "xtQwRqwZyauI",
        "outputId": "74b8ceda-88b8-4ff6-8712-c43032c2d934"
      },
      "source": [
        "aqi_df = spark.read.csv(\"/content/drive/MyDrive/cloud_computing/Project/*.csv\", header=True)\n",
        "aqi_df.show()"
      ],
      "execution_count": null,
      "outputs": [
        {
          "output_type": "stream",
          "text": [
            "+----------+-----------+----------+-----------+----------+---+--------+------------------+-------------+-------------------------+\n",
            "|State Name|county Name|State Code|County Code|      Date|AQI|Category|Defining Parameter|Defining Site|Number of Sites Reporting|\n",
            "+----------+-----------+----------+-----------+----------+---+--------+------------------+-------------+-------------------------+\n",
            "|   Alabama|    Baldwin|        01|        003|2007-01-03| 55|Moderate|             PM2.5|  01-003-0010|                        1|\n",
            "|   Alabama|    Baldwin|        01|        003|2007-01-06| 23|    Good|             PM2.5|  01-003-0010|                        1|\n",
            "|   Alabama|    Baldwin|        01|        003|2007-01-09| 13|    Good|             PM2.5|  01-003-0010|                        1|\n",
            "|   Alabama|    Baldwin|        01|        003|2007-01-12| 25|    Good|             PM2.5|  01-003-0010|                        1|\n",
            "|   Alabama|    Baldwin|        01|        003|2007-01-15| 17|    Good|             PM2.5|  01-003-0010|                        1|\n",
            "|   Alabama|    Baldwin|        01|        003|2007-01-18| 52|Moderate|             PM2.5|  01-003-0010|                        1|\n",
            "|   Alabama|    Baldwin|        01|        003|2007-01-21| 30|    Good|             PM2.5|  01-003-0010|                        1|\n",
            "|   Alabama|    Baldwin|        01|        003|2007-01-24| 39|    Good|             PM2.5|  01-003-0010|                        1|\n",
            "|   Alabama|    Baldwin|        01|        003|2007-01-27| 48|    Good|             PM2.5|  01-003-0010|                        1|\n",
            "|   Alabama|    Baldwin|        01|        003|2007-01-30| 35|    Good|             PM2.5|  01-003-0010|                        1|\n",
            "|   Alabama|    Baldwin|        01|        003|2007-02-02| 31|    Good|             PM2.5|  01-003-0010|                        1|\n",
            "|   Alabama|    Baldwin|        01|        003|2007-02-05| 42|    Good|             PM2.5|  01-003-0010|                        1|\n",
            "|   Alabama|    Baldwin|        01|        003|2007-02-08| 56|Moderate|             PM2.5|  01-003-0010|                        1|\n",
            "|   Alabama|    Baldwin|        01|        003|2007-02-11| 46|    Good|             PM2.5|  01-003-0010|                        1|\n",
            "|   Alabama|    Baldwin|        01|        003|2007-02-14| 44|    Good|             PM2.5|  01-003-0010|                        1|\n",
            "|   Alabama|    Baldwin|        01|        003|2007-02-17| 46|    Good|             PM2.5|  01-003-0010|                        1|\n",
            "|   Alabama|    Baldwin|        01|        003|2007-02-20| 18|    Good|             PM2.5|  01-003-0010|                        1|\n",
            "|   Alabama|    Baldwin|        01|        003|2007-02-23| 31|    Good|             PM2.5|  01-003-0010|                        1|\n",
            "|   Alabama|    Baldwin|        01|        003|2007-02-26| 35|    Good|             PM2.5|  01-003-0010|                        1|\n",
            "|   Alabama|    Baldwin|        01|        003|2007-03-01| 37|    Good|             Ozone|  01-003-0010|                        1|\n",
            "+----------+-----------+----------+-----------+----------+---+--------+------------------+-------------+-------------------------+\n",
            "only showing top 20 rows\n",
            "\n"
          ],
          "name": "stdout"
        }
      ]
    },
    {
      "cell_type": "code",
      "metadata": {
        "colab": {
          "base_uri": "https://localhost:8080/"
        },
        "id": "HImLrd7a0VOk",
        "outputId": "fc12197e-b9f8-4bd6-f5cc-28c6bfc81b44"
      },
      "source": [
        "state_df = aqi_df.filter(aqi_df['State Name'] == \"California\")\n",
        "state_df.take(10)"
      ],
      "execution_count": null,
      "outputs": [
        {
          "output_type": "execute_result",
          "data": {
            "text/plain": [
              "[Row(State Name='California', county Name='Alameda', State Code='06', County Code='001', Date='2007-01-01', AQI='72', Category='Moderate', Defining Parameter='PM2.5', Defining Site='06-001-0007', Number of Sites Reporting='2'),\n",
              " Row(State Name='California', county Name='Alameda', State Code='06', County Code='001', Date='2007-01-02', AQI='69', Category='Moderate', Defining Parameter='PM2.5', Defining Site='06-001-0007', Number of Sites Reporting='2'),\n",
              " Row(State Name='California', county Name='Alameda', State Code='06', County Code='001', Date='2007-01-03', AQI='60', Category='Moderate', Defining Parameter='PM2.5', Defining Site='06-001-0007', Number of Sites Reporting='2'),\n",
              " Row(State Name='California', county Name='Alameda', State Code='06', County Code='001', Date='2007-01-04', AQI='30', Category='Good', Defining Parameter='Ozone', Defining Site='06-001-0007', Number of Sites Reporting='2'),\n",
              " Row(State Name='California', county Name='Alameda', State Code='06', County Code='001', Date='2007-01-05', AQI='32', Category='Good', Defining Parameter='NO2', Defining Site='06-001-0007', Number of Sites Reporting='2'),\n",
              " Row(State Name='California', county Name='Alameda', State Code='06', County Code='001', Date='2007-01-06', AQI='55', Category='Moderate', Defining Parameter='PM2.5', Defining Site='06-001-0007', Number of Sites Reporting='2'),\n",
              " Row(State Name='California', county Name='Alameda', State Code='06', County Code='001', Date='2007-01-07', AQI='43', Category='Good', Defining Parameter='PM2.5', Defining Site='06-001-0007', Number of Sites Reporting='2'),\n",
              " Row(State Name='California', county Name='Alameda', State Code='06', County Code='001', Date='2007-01-08', AQI='40', Category='Good', Defining Parameter='PM2.5', Defining Site='06-001-0007', Number of Sites Reporting='2'),\n",
              " Row(State Name='California', county Name='Alameda', State Code='06', County Code='001', Date='2007-01-09', AQI='61', Category='Moderate', Defining Parameter='PM2.5', Defining Site='06-001-0007', Number of Sites Reporting='2'),\n",
              " Row(State Name='California', county Name='Alameda', State Code='06', County Code='001', Date='2007-01-10', AQI='40', Category='Good', Defining Parameter='NO2', Defining Site='06-001-1001', Number of Sites Reporting='2')]"
            ]
          },
          "metadata": {
            "tags": []
          },
          "execution_count": 8
        }
      ]
    },
    {
      "cell_type": "code",
      "metadata": {
        "colab": {
          "base_uri": "https://localhost:8080/"
        },
        "id": "NKJR3kRE0pLr",
        "outputId": "644551b4-b8e0-443f-9008-b5cc5f8017ad"
      },
      "source": [
        "california_df = state_df.select('State Name', 'State Code', 'county Name', 'County Code', 'Date', 'AQI', 'Category')\n",
        "california_df.take(10)"
      ],
      "execution_count": null,
      "outputs": [
        {
          "output_type": "execute_result",
          "data": {
            "text/plain": [
              "[Row(State Name='California', State Code='06', county Name='Alameda', County Code='001', Date='2007-01-01', AQI='72', Category='Moderate'),\n",
              " Row(State Name='California', State Code='06', county Name='Alameda', County Code='001', Date='2007-01-02', AQI='69', Category='Moderate'),\n",
              " Row(State Name='California', State Code='06', county Name='Alameda', County Code='001', Date='2007-01-03', AQI='60', Category='Moderate'),\n",
              " Row(State Name='California', State Code='06', county Name='Alameda', County Code='001', Date='2007-01-04', AQI='30', Category='Good'),\n",
              " Row(State Name='California', State Code='06', county Name='Alameda', County Code='001', Date='2007-01-05', AQI='32', Category='Good'),\n",
              " Row(State Name='California', State Code='06', county Name='Alameda', County Code='001', Date='2007-01-06', AQI='55', Category='Moderate'),\n",
              " Row(State Name='California', State Code='06', county Name='Alameda', County Code='001', Date='2007-01-07', AQI='43', Category='Good'),\n",
              " Row(State Name='California', State Code='06', county Name='Alameda', County Code='001', Date='2007-01-08', AQI='40', Category='Good'),\n",
              " Row(State Name='California', State Code='06', county Name='Alameda', County Code='001', Date='2007-01-09', AQI='61', Category='Moderate'),\n",
              " Row(State Name='California', State Code='06', county Name='Alameda', County Code='001', Date='2007-01-10', AQI='40', Category='Good')]"
            ]
          },
          "metadata": {
            "tags": []
          },
          "execution_count": 9
        }
      ]
    },
    {
      "cell_type": "code",
      "metadata": {
        "id": "Gooyn-4G3zFh"
      },
      "source": [
        "california_df.toPandas().to_csv('/content/drive/MyDrive/cloud_computing/Project/aqi_dataset.csv', index=False, header=True)"
      ],
      "execution_count": null,
      "outputs": []
    }
  ]
}