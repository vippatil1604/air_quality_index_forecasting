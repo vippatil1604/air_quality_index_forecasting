{
  "nbformat": 4,
  "nbformat_minor": 0,
  "metadata": {
    "colab": {
      "name": "PROPHET_ARIMA_FINAL.ipynb",
      "provenance": [],
      "collapsed_sections": [],
      "include_colab_link": true
    },
    "kernelspec": {
      "name": "python3",
      "display_name": "Python 3"
    },
    "language_info": {
      "name": "python"
    }
  },
  "cells": [
    {
      "cell_type": "markdown",
      "metadata": {
        "id": "view-in-github",
        "colab_type": "text"
      },
      "source": [
        "<a href=\"https://colab.research.google.com/github/vippatil1604/air_quality_index_forecasting/blob/main/PROPHET_ARIMA_FINAL.ipynb\" target=\"_parent\"><img src=\"https://colab.research.google.com/assets/colab-badge.svg\" alt=\"Open In Colab\"/></a>"
      ]
    },
    {
      "cell_type": "code",
      "metadata": {
        "id": "1Bvzn3u8u7IU",
        "colab": {
          "base_uri": "https://localhost:8080/"
        },
        "outputId": "288635e8-f557-4da4-8450-504a53ae0d06"
      },
      "source": [
        "!apt-get update"
      ],
      "execution_count": 1,
      "outputs": [
        {
          "output_type": "stream",
          "text": [
            "\r0% [Working]\r            \rHit:1 https://cloud.r-project.org/bin/linux/ubuntu bionic-cran40/ InRelease\n",
            "Ign:2 https://developer.download.nvidia.com/compute/cuda/repos/ubuntu1804/x86_64  InRelease\n",
            "Hit:3 http://security.ubuntu.com/ubuntu bionic-security InRelease\n",
            "Ign:4 https://developer.download.nvidia.com/compute/machine-learning/repos/ubuntu1804/x86_64  InRelease\n",
            "Hit:5 https://developer.download.nvidia.com/compute/cuda/repos/ubuntu1804/x86_64  Release\n",
            "Hit:6 https://developer.download.nvidia.com/compute/machine-learning/repos/ubuntu1804/x86_64  Release\n",
            "Hit:7 http://ppa.launchpad.net/c2d4u.team/c2d4u4.0+/ubuntu bionic InRelease\n",
            "Hit:8 http://archive.ubuntu.com/ubuntu bionic InRelease\n",
            "Hit:9 http://archive.ubuntu.com/ubuntu bionic-updates InRelease\n",
            "Hit:10 http://ppa.launchpad.net/cran/libgit2/ubuntu bionic InRelease\n",
            "Hit:12 http://archive.ubuntu.com/ubuntu bionic-backports InRelease\n",
            "Hit:14 http://ppa.launchpad.net/deadsnakes/ppa/ubuntu bionic InRelease\n",
            "Hit:15 http://ppa.launchpad.net/graphics-drivers/ppa/ubuntu bionic InRelease\n",
            "Reading package lists... Done\n"
          ],
          "name": "stdout"
        }
      ]
    },
    {
      "cell_type": "code",
      "metadata": {
        "id": "op73x44nBxKw"
      },
      "source": [
        "\n",
        "!apt-get install openjdk-8-jdk-headless -qq > /dev/null\n",
        "!wget -q http://apache.mirror.amaze.com.au/spark/spark-3.1.1/spark-3.1.1-bin-hadoop2.7.tgz\n",
        "!tar xf spark-3.1.1-bin-hadoop2.7.tgz\n",
        "!pip install -q findspark"
      ],
      "execution_count": 2,
      "outputs": []
    },
    {
      "cell_type": "code",
      "metadata": {
        "id": "XG0jdlwLu-Aw"
      },
      "source": [
        "import os\n",
        "os.environ[\"JAVA_HOME\"] = \"/usr/lib/jvm/java-8-openjdk-amd64\"\n",
        "os.environ[\"SPARK_HOME\"] = \"spark-3.1.1-bin-hadoop2.7\""
      ],
      "execution_count": 3,
      "outputs": []
    },
    {
      "cell_type": "code",
      "metadata": {
        "id": "E6bV17Lzvjz5"
      },
      "source": [
        "import findspark\n",
        "findspark.init()"
      ],
      "execution_count": 4,
      "outputs": []
    },
    {
      "cell_type": "code",
      "metadata": {
        "colab": {
          "base_uri": "https://localhost:8080/",
          "height": 348
        },
        "id": "MhkeSrCQvloa",
        "outputId": "c983cb4c-1277-40c4-937c-09b8c93c8969"
      },
      "source": [
        "from pyspark.sql import SparkSession\n",
        "spark = SparkSession.builder.master(\"local[*]\").getOrCreate()\n",
        "sc = spark.sparkContext\n",
        "sc"
      ],
      "execution_count": 5,
      "outputs": [
        {
          "output_type": "execute_result",
          "data": {
            "text/html": [
              "\n",
              "        <div>\n",
              "            <p><b>SparkContext</b></p>\n",
              "\n",
              "            <p><a href=\"http://41c60fe8584b:4040\">Spark UI</a></p>\n",
              "\n",
              "            <dl>\n",
              "              <dt>Version</dt>\n",
              "                <dd><code>v3.1.1</code></dd>\n",
              "              <dt>Master</dt>\n",
              "                <dd><code>local[*]</code></dd>\n",
              "              <dt>AppName</dt>\n",
              "                <dd><code>pyspark-shell</code></dd>\n",
              "            </dl>\n",
              "        </div>\n",
              "        "
            ],
            "text/plain": [
              "<SparkContext master=local[*] appName=pyspark-shell>"
            ]
          },
          "metadata": {
            "tags": []
          },
          "execution_count": 5
        }
      ]
    },
    {
      "cell_type": "code",
      "metadata": {
        "colab": {
          "base_uri": "https://localhost:8080/"
        },
        "id": "sOOCgp7Av_J0",
        "outputId": "fc11262d-0187-43a4-bc85-139c71b95058"
      },
      "source": [
        "from google.colab import drive\n",
        "drive.mount('/content/drive')"
      ],
      "execution_count": 6,
      "outputs": [
        {
          "output_type": "stream",
          "text": [
            "Drive already mounted at /content/drive; to attempt to forcibly remount, call drive.mount(\"/content/drive\", force_remount=True).\n"
          ],
          "name": "stdout"
        }
      ]
    },
    {
      "cell_type": "code",
      "metadata": {
        "id": "tD6EImywvnCM"
      },
      "source": [
        "import csv\n",
        "import pyspark.sql\n",
        "import pandas as pd\n",
        "from fbprophet import Prophet\n",
        "import matplotlib as mpl\n",
        "import matplotlib.pyplot as plt"
      ],
      "execution_count": 7,
      "outputs": []
    },
    {
      "cell_type": "code",
      "metadata": {
        "id": "GON2j1DWI9_F"
      },
      "source": [
        "mpl.rcParams['figure.figsize'] = (10, 8)\n",
        "mpl.rcParams['axes.grid'] = False"
      ],
      "execution_count": 8,
      "outputs": []
    },
    {
      "cell_type": "code",
      "metadata": {
        "id": "ZtTQw2jwhHbN"
      },
      "source": [
        "from pyspark.sql import Row\n",
        "from pyspark.sql.types import *\n",
        "from pyspark.sql.functions import *"
      ],
      "execution_count": 9,
      "outputs": []
    },
    {
      "cell_type": "code",
      "metadata": {
        "colab": {
          "base_uri": "https://localhost:8080/"
        },
        "id": "p42afjwuiEAq",
        "outputId": "207059ff-b303-4250-9be6-d13958665a81"
      },
      "source": [
        "# import the necessary pyspark and pandas libraries\n",
        "\n",
        "from pyspark.sql.functions import pandas_udf, PandasUDFType, current_date\n",
        "from pyspark.sql.types import StructType,StructField,StringType,LongType,DoubleType,FloatType\n",
        "\n",
        "import statsmodels.tsa.api as sm\n",
        "import numpy as np\n",
        "import pandas as pd"
      ],
      "execution_count": 10,
      "outputs": [
        {
          "output_type": "stream",
          "text": [
            "/usr/local/lib/python3.7/dist-packages/statsmodels/tools/_testing.py:19: FutureWarning:\n",
            "\n",
            "pandas.util.testing is deprecated. Use the functions in the public API at pandas.testing instead.\n",
            "\n"
          ],
          "name": "stderr"
        }
      ]
    },
    {
      "cell_type": "code",
      "metadata": {
        "colab": {
          "base_uri": "https://localhost:8080/",
          "height": 418
        },
        "id": "RGyYS0v6hOxv",
        "outputId": "94471fe9-2169-49cb-a159-5a1fa2aa7dd6"
      },
      "source": [
        "aqi_list = []\n",
        "for i in range(2000, 2020):\n",
        "  df = pd.read_csv('/content/drive/MyDrive/Project/Data/daily_aqi_by_county_{}.csv'.format(str(i)))\n",
        "  aqi_list.append(df)\n",
        "\n",
        "aqi_df= pd.concat(aqi_list)\n",
        "aqi_df.head()"
      ],
      "execution_count": 11,
      "outputs": [
        {
          "output_type": "stream",
          "text": [
            "/usr/local/lib/python3.7/dist-packages/IPython/core/interactiveshell.py:2718: DtypeWarning:\n",
            "\n",
            "Columns (2) have mixed types.Specify dtype option on import or set low_memory=False.\n",
            "\n"
          ],
          "name": "stderr"
        },
        {
          "output_type": "execute_result",
          "data": {
            "text/html": [
              "<div>\n",
              "<style scoped>\n",
              "    .dataframe tbody tr th:only-of-type {\n",
              "        vertical-align: middle;\n",
              "    }\n",
              "\n",
              "    .dataframe tbody tr th {\n",
              "        vertical-align: top;\n",
              "    }\n",
              "\n",
              "    .dataframe thead th {\n",
              "        text-align: right;\n",
              "    }\n",
              "</style>\n",
              "<table border=\"1\" class=\"dataframe\">\n",
              "  <thead>\n",
              "    <tr style=\"text-align: right;\">\n",
              "      <th></th>\n",
              "      <th>State Name</th>\n",
              "      <th>county Name</th>\n",
              "      <th>State Code</th>\n",
              "      <th>County Code</th>\n",
              "      <th>Date</th>\n",
              "      <th>AQI</th>\n",
              "      <th>Category</th>\n",
              "      <th>Defining Parameter</th>\n",
              "      <th>Defining Site</th>\n",
              "      <th>Number of Sites Reporting</th>\n",
              "    </tr>\n",
              "  </thead>\n",
              "  <tbody>\n",
              "    <tr>\n",
              "      <th>0</th>\n",
              "      <td>Alabama</td>\n",
              "      <td>Baldwin</td>\n",
              "      <td>01</td>\n",
              "      <td>3</td>\n",
              "      <td>2000-01-16</td>\n",
              "      <td>25</td>\n",
              "      <td>Good</td>\n",
              "      <td>PM2.5</td>\n",
              "      <td>01-003-0010</td>\n",
              "      <td>1</td>\n",
              "    </tr>\n",
              "    <tr>\n",
              "      <th>1</th>\n",
              "      <td>Alabama</td>\n",
              "      <td>Baldwin</td>\n",
              "      <td>01</td>\n",
              "      <td>3</td>\n",
              "      <td>2000-01-19</td>\n",
              "      <td>46</td>\n",
              "      <td>Good</td>\n",
              "      <td>PM2.5</td>\n",
              "      <td>01-003-0010</td>\n",
              "      <td>1</td>\n",
              "    </tr>\n",
              "    <tr>\n",
              "      <th>2</th>\n",
              "      <td>Alabama</td>\n",
              "      <td>Baldwin</td>\n",
              "      <td>01</td>\n",
              "      <td>3</td>\n",
              "      <td>2000-01-22</td>\n",
              "      <td>36</td>\n",
              "      <td>Good</td>\n",
              "      <td>PM2.5</td>\n",
              "      <td>01-003-0010</td>\n",
              "      <td>1</td>\n",
              "    </tr>\n",
              "    <tr>\n",
              "      <th>3</th>\n",
              "      <td>Alabama</td>\n",
              "      <td>Baldwin</td>\n",
              "      <td>01</td>\n",
              "      <td>3</td>\n",
              "      <td>2000-01-25</td>\n",
              "      <td>26</td>\n",
              "      <td>Good</td>\n",
              "      <td>PM2.5</td>\n",
              "      <td>01-003-0010</td>\n",
              "      <td>1</td>\n",
              "    </tr>\n",
              "    <tr>\n",
              "      <th>4</th>\n",
              "      <td>Alabama</td>\n",
              "      <td>Baldwin</td>\n",
              "      <td>01</td>\n",
              "      <td>3</td>\n",
              "      <td>2000-01-28</td>\n",
              "      <td>32</td>\n",
              "      <td>Good</td>\n",
              "      <td>PM2.5</td>\n",
              "      <td>01-003-0010</td>\n",
              "      <td>1</td>\n",
              "    </tr>\n",
              "  </tbody>\n",
              "</table>\n",
              "</div>"
            ],
            "text/plain": [
              "  State Name county Name  ... Defining Site  Number of Sites Reporting\n",
              "0    Alabama     Baldwin  ...   01-003-0010                          1\n",
              "1    Alabama     Baldwin  ...   01-003-0010                          1\n",
              "2    Alabama     Baldwin  ...   01-003-0010                          1\n",
              "3    Alabama     Baldwin  ...   01-003-0010                          1\n",
              "4    Alabama     Baldwin  ...   01-003-0010                          1\n",
              "\n",
              "[5 rows x 10 columns]"
            ]
          },
          "metadata": {
            "tags": []
          },
          "execution_count": 11
        }
      ]
    },
    {
      "cell_type": "code",
      "metadata": {
        "id": "ozddyvXinDBI"
      },
      "source": [
        "# converting the col names into lowercase\n",
        "aqi_df = aqi_df.rename(columns={\"State Name\" : \"state_name\", \"county Name\" : \"county_name\", \"State Code\" : \"state_code\", \"County Code\" : \"county_code\", \"Date\" : \"date\", \"AQI\" : \"aqi\", \"Category\" : \"category\", \"Defining Parameter\" : \"defining_parameter\", \"Defining Site\" : \"defining_site\", \"Number of Sites Reporting\" : \"num_of_sites_reporting\"})"
      ],
      "execution_count": 12,
      "outputs": []
    },
    {
      "cell_type": "code",
      "metadata": {
        "colab": {
          "base_uri": "https://localhost:8080/",
          "height": 347
        },
        "id": "p435_MYdkLOm",
        "outputId": "83505b6f-87a2-4d01-c6c5-621746df2c92"
      },
      "source": [
        "aqi_df.head()"
      ],
      "execution_count": 13,
      "outputs": [
        {
          "output_type": "execute_result",
          "data": {
            "text/html": [
              "<div>\n",
              "<style scoped>\n",
              "    .dataframe tbody tr th:only-of-type {\n",
              "        vertical-align: middle;\n",
              "    }\n",
              "\n",
              "    .dataframe tbody tr th {\n",
              "        vertical-align: top;\n",
              "    }\n",
              "\n",
              "    .dataframe thead th {\n",
              "        text-align: right;\n",
              "    }\n",
              "</style>\n",
              "<table border=\"1\" class=\"dataframe\">\n",
              "  <thead>\n",
              "    <tr style=\"text-align: right;\">\n",
              "      <th></th>\n",
              "      <th>state_name</th>\n",
              "      <th>county_name</th>\n",
              "      <th>state_code</th>\n",
              "      <th>county_code</th>\n",
              "      <th>date</th>\n",
              "      <th>aqi</th>\n",
              "      <th>category</th>\n",
              "      <th>defining_parameter</th>\n",
              "      <th>defining_site</th>\n",
              "      <th>num_of_sites_reporting</th>\n",
              "    </tr>\n",
              "  </thead>\n",
              "  <tbody>\n",
              "    <tr>\n",
              "      <th>0</th>\n",
              "      <td>Alabama</td>\n",
              "      <td>Baldwin</td>\n",
              "      <td>01</td>\n",
              "      <td>3</td>\n",
              "      <td>2000-01-16</td>\n",
              "      <td>25</td>\n",
              "      <td>Good</td>\n",
              "      <td>PM2.5</td>\n",
              "      <td>01-003-0010</td>\n",
              "      <td>1</td>\n",
              "    </tr>\n",
              "    <tr>\n",
              "      <th>1</th>\n",
              "      <td>Alabama</td>\n",
              "      <td>Baldwin</td>\n",
              "      <td>01</td>\n",
              "      <td>3</td>\n",
              "      <td>2000-01-19</td>\n",
              "      <td>46</td>\n",
              "      <td>Good</td>\n",
              "      <td>PM2.5</td>\n",
              "      <td>01-003-0010</td>\n",
              "      <td>1</td>\n",
              "    </tr>\n",
              "    <tr>\n",
              "      <th>2</th>\n",
              "      <td>Alabama</td>\n",
              "      <td>Baldwin</td>\n",
              "      <td>01</td>\n",
              "      <td>3</td>\n",
              "      <td>2000-01-22</td>\n",
              "      <td>36</td>\n",
              "      <td>Good</td>\n",
              "      <td>PM2.5</td>\n",
              "      <td>01-003-0010</td>\n",
              "      <td>1</td>\n",
              "    </tr>\n",
              "    <tr>\n",
              "      <th>3</th>\n",
              "      <td>Alabama</td>\n",
              "      <td>Baldwin</td>\n",
              "      <td>01</td>\n",
              "      <td>3</td>\n",
              "      <td>2000-01-25</td>\n",
              "      <td>26</td>\n",
              "      <td>Good</td>\n",
              "      <td>PM2.5</td>\n",
              "      <td>01-003-0010</td>\n",
              "      <td>1</td>\n",
              "    </tr>\n",
              "    <tr>\n",
              "      <th>4</th>\n",
              "      <td>Alabama</td>\n",
              "      <td>Baldwin</td>\n",
              "      <td>01</td>\n",
              "      <td>3</td>\n",
              "      <td>2000-01-28</td>\n",
              "      <td>32</td>\n",
              "      <td>Good</td>\n",
              "      <td>PM2.5</td>\n",
              "      <td>01-003-0010</td>\n",
              "      <td>1</td>\n",
              "    </tr>\n",
              "  </tbody>\n",
              "</table>\n",
              "</div>"
            ],
            "text/plain": [
              "  state_name county_name  ... defining_site  num_of_sites_reporting\n",
              "0    Alabama     Baldwin  ...   01-003-0010                       1\n",
              "1    Alabama     Baldwin  ...   01-003-0010                       1\n",
              "2    Alabama     Baldwin  ...   01-003-0010                       1\n",
              "3    Alabama     Baldwin  ...   01-003-0010                       1\n",
              "4    Alabama     Baldwin  ...   01-003-0010                       1\n",
              "\n",
              "[5 rows x 10 columns]"
            ]
          },
          "metadata": {
            "tags": []
          },
          "execution_count": 13
        }
      ]
    },
    {
      "cell_type": "code",
      "metadata": {
        "id": "-B8yr738kOuS"
      },
      "source": [
        "aqi_df['date'] = pd.to_datetime(aqi_df['date'], infer_datetime_format= True)"
      ],
      "execution_count": 14,
      "outputs": []
    },
    {
      "cell_type": "code",
      "metadata": {
        "colab": {
          "base_uri": "https://localhost:8080/"
        },
        "id": "x7NJZQGFkOsQ",
        "outputId": "a0589c3b-42c4-4024-bcf6-9e7c15e31dd4"
      },
      "source": [
        "aqi_df.info()"
      ],
      "execution_count": 15,
      "outputs": [
        {
          "output_type": "stream",
          "text": [
            "<class 'pandas.core.frame.DataFrame'>\n",
            "Int64Index: 6489592 entries, 0 to 341944\n",
            "Data columns (total 10 columns):\n",
            " #   Column                  Dtype         \n",
            "---  ------                  -----         \n",
            " 0   state_name              object        \n",
            " 1   county_name             object        \n",
            " 2   state_code              object        \n",
            " 3   county_code             int64         \n",
            " 4   date                    datetime64[ns]\n",
            " 5   aqi                     int64         \n",
            " 6   category                object        \n",
            " 7   defining_parameter      object        \n",
            " 8   defining_site           object        \n",
            " 9   num_of_sites_reporting  int64         \n",
            "dtypes: datetime64[ns](1), int64(3), object(6)\n",
            "memory usage: 544.6+ MB\n"
          ],
          "name": "stdout"
        }
      ]
    },
    {
      "cell_type": "code",
      "metadata": {
        "colab": {
          "base_uri": "https://localhost:8080/"
        },
        "id": "XFfV_8kpkOqG",
        "outputId": "7c81a4ac-c32b-4b96-d98f-4f7683f854ef"
      },
      "source": [
        "print(\"\\n Missing values: \", aqi_df.isnull().any())\n",
        "print(\"\\n Unique values: \", aqi_df.nunique())"
      ],
      "execution_count": 16,
      "outputs": [
        {
          "output_type": "stream",
          "text": [
            "\n",
            " Missing values:  state_name                False\n",
            "county_name               False\n",
            "state_code                False\n",
            "county_code               False\n",
            "date                      False\n",
            "aqi                       False\n",
            "category                  False\n",
            "defining_parameter        False\n",
            "defining_site             False\n",
            "num_of_sites_reporting    False\n",
            "dtype: bool\n",
            "\n",
            " Unique values:  state_name                  55\n",
            "county_name               1004\n",
            "state_code                  69\n",
            "county_code                190\n",
            "date                      7305\n",
            "aqi                        812\n",
            "category                     6\n",
            "defining_parameter           6\n",
            "defining_site             4762\n",
            "num_of_sites_reporting      39\n",
            "dtype: int64\n"
          ],
          "name": "stdout"
        }
      ]
    },
    {
      "cell_type": "code",
      "metadata": {
        "id": "uNUp1mnMomfe"
      },
      "source": [
        "plot_df = aqi_df.set_index('date')"
      ],
      "execution_count": 17,
      "outputs": []
    },
    {
      "cell_type": "code",
      "metadata": {
        "colab": {
          "base_uri": "https://localhost:8080/"
        },
        "id": "AmMUmG8ekOnr",
        "outputId": "e50ab3de-fd35-4bbe-fe3d-7ed8e5c6da9a"
      },
      "source": [
        "plot_df['county_code'].value_counts()"
      ],
      "execution_count": 18,
      "outputs": [
        {
          "output_type": "execute_result",
          "data": {
            "text/plain": [
              "3      178501\n",
              "1      173166\n",
              "13     152711\n",
              "5      149643\n",
              "33     124552\n",
              "        ...  \n",
              "235       132\n",
              "232       125\n",
              "211       107\n",
              "130        90\n",
              "188        21\n",
              "Name: county_code, Length: 190, dtype: int64"
            ]
          },
          "metadata": {
            "tags": []
          },
          "execution_count": 18
        }
      ]
    },
    {
      "cell_type": "code",
      "metadata": {
        "colab": {
          "base_uri": "https://localhost:8080/",
          "height": 636
        },
        "id": "mdnG-59ZkOlR",
        "outputId": "5ac82c2c-3516-4e82-915b-4104af58d247"
      },
      "source": [
        "plot_df.query(\"county_code == 3\")[['aqi']].plot()"
      ],
      "execution_count": 19,
      "outputs": [
        {
          "output_type": "execute_result",
          "data": {
            "text/plain": [
              "<matplotlib.axes._subplots.AxesSubplot at 0x7f0b34afed10>"
            ]
          },
          "metadata": {
            "tags": []
          },
          "execution_count": 19
        },
        {
          "output_type": "display_data",
          "data": {
            "image/png": "[encoded data removed]",
            "text/plain": [
              "<Figure size 720x576 with 1 Axes>"
            ]
          },
          "metadata": {
            "tags": [],
            "needs_background": "light"
          }
        }
      ]
    },
    {
      "cell_type": "code",
      "metadata": {
        "colab": {
          "base_uri": "https://localhost:8080/",
          "height": 640
        },
        "id": "VJma5aQSkOix",
        "outputId": "07eaa17c-5f2f-44a2-b6d2-0ec3e6b6c0d7"
      },
      "source": [
        "plot_df.query(\"county_code == 5\")[['aqi']].plot()"
      ],
      "execution_count": 20,
      "outputs": [
        {
          "output_type": "execute_result",
          "data": {
            "text/plain": [
              "<matplotlib.axes._subplots.AxesSubplot at 0x7f0b32f045d0>"
            ]
          },
          "metadata": {
            "tags": []
          },
          "execution_count": 20
        },
        {
          "output_type": "display_data",
          "data": {
            "image/png": "[encoded data removed]",
            "text/plain": [
              "<Figure size 720x576 with 1 Axes>"
            ]
          },
          "metadata": {
            "tags": [],
            "needs_background": "light"
          }
        }
      ]
    },
    {
      "cell_type": "code",
      "metadata": {
        "colab": {
          "base_uri": "https://localhost:8080/",
          "height": 655
        },
        "id": "cZUu7f8IkOgM",
        "outputId": "48253fad-0d55-41b5-d043-ba81022916bc"
      },
      "source": [
        "plot_df.query(\"county_code == 211\")[['aqi']].plot()"
      ],
      "execution_count": 21,
      "outputs": [
        {
          "output_type": "execute_result",
          "data": {
            "text/plain": [
              "<matplotlib.axes._subplots.AxesSubplot at 0x7f0b323b64d0>"
            ]
          },
          "metadata": {
            "tags": []
          },
          "execution_count": 21
        },
        {
          "output_type": "display_data",
          "data": {
            "image/png": "[encoded data removed]",
            "text/plain": [
              "<Figure size 720x576 with 1 Axes>"
            ]
          },
          "metadata": {
            "tags": [],
            "needs_background": "light"
          }
        }
      ]
    },
    {
      "cell_type": "code",
      "metadata": {
        "colab": {
          "base_uri": "https://localhost:8080/"
        },
        "id": "xtQwRqwZyauI",
        "outputId": "bf4f2f9a-7d63-45df-b504-b46c825dc05b"
      },
      "source": [
        "df = spark.read.csv(\"/content/drive/MyDrive/Project/Data/*.csv\", header=True)\n",
        "df.show(5)"
      ],
      "execution_count": 22,
      "outputs": [
        {
          "output_type": "stream",
          "text": [
            "+----------+-----------+----------+-----------+----------+---+--------+------------------+-------------+-------------------------+\n",
            "|State Name|county Name|State Code|County Code|      Date|AQI|Category|Defining Parameter|Defining Site|Number of Sites Reporting|\n",
            "+----------+-----------+----------+-----------+----------+---+--------+------------------+-------------+-------------------------+\n",
            "|   Alabama|    Baldwin|        01|        003|2018-01-02| 32|    Good|             PM2.5|  01-003-0010|                        1|\n",
            "|   Alabama|    Baldwin|        01|        003|2018-01-05| 34|    Good|             PM2.5|  01-003-0010|                        1|\n",
            "|   Alabama|    Baldwin|        01|        003|2018-01-08| 15|    Good|             PM2.5|  01-003-0010|                        1|\n",
            "|   Alabama|    Baldwin|        01|        003|2018-01-11| 19|    Good|             PM2.5|  01-003-0010|                        1|\n",
            "|   Alabama|    Baldwin|        01|        003|2018-01-14| 25|    Good|             PM2.5|  01-003-0010|                        1|\n",
            "+----------+-----------+----------+-----------+----------+---+--------+------------------+-------------+-------------------------+\n",
            "only showing top 5 rows\n",
            "\n"
          ],
          "name": "stdout"
        }
      ]
    },
    {
      "cell_type": "code",
      "metadata": {
        "colab": {
          "base_uri": "https://localhost:8080/"
        },
        "id": "1TKsrEJuLn8g",
        "outputId": "41078891-a5bf-4e23-f2b1-1f2d42c9340f"
      },
      "source": [
        "df.printSchema()"
      ],
      "execution_count": 23,
      "outputs": [
        {
          "output_type": "stream",
          "text": [
            "root\n",
            " |-- State Name: string (nullable = true)\n",
            " |-- county Name: string (nullable = true)\n",
            " |-- State Code: string (nullable = true)\n",
            " |-- County Code: string (nullable = true)\n",
            " |-- Date: string (nullable = true)\n",
            " |-- AQI: string (nullable = true)\n",
            " |-- Category: string (nullable = true)\n",
            " |-- Defining Parameter: string (nullable = true)\n",
            " |-- Defining Site: string (nullable = true)\n",
            " |-- Number of Sites Reporting: string (nullable = true)\n",
            "\n"
          ],
          "name": "stdout"
        }
      ]
    },
    {
      "cell_type": "code",
      "metadata": {
        "colab": {
          "base_uri": "https://localhost:8080/"
        },
        "id": "0O4WTM1MPsyI",
        "outputId": "744ca96a-72b3-46a6-ae32-704aa9a13f39"
      },
      "source": [
        "df.show(5)"
      ],
      "execution_count": 24,
      "outputs": [
        {
          "output_type": "stream",
          "text": [
            "+----------+-----------+----------+-----------+----------+---+--------+------------------+-------------+-------------------------+\n",
            "|State Name|county Name|State Code|County Code|      Date|AQI|Category|Defining Parameter|Defining Site|Number of Sites Reporting|\n",
            "+----------+-----------+----------+-----------+----------+---+--------+------------------+-------------+-------------------------+\n",
            "|   Alabama|    Baldwin|        01|        003|2018-01-02| 32|    Good|             PM2.5|  01-003-0010|                        1|\n",
            "|   Alabama|    Baldwin|        01|        003|2018-01-05| 34|    Good|             PM2.5|  01-003-0010|                        1|\n",
            "|   Alabama|    Baldwin|        01|        003|2018-01-08| 15|    Good|             PM2.5|  01-003-0010|                        1|\n",
            "|   Alabama|    Baldwin|        01|        003|2018-01-11| 19|    Good|             PM2.5|  01-003-0010|                        1|\n",
            "|   Alabama|    Baldwin|        01|        003|2018-01-14| 25|    Good|             PM2.5|  01-003-0010|                        1|\n",
            "+----------+-----------+----------+-----------+----------+---+--------+------------------+-------------+-------------------------+\n",
            "only showing top 5 rows\n",
            "\n"
          ],
          "name": "stdout"
        }
      ]
    },
    {
      "cell_type": "code",
      "metadata": {
        "colab": {
          "base_uri": "https://localhost:8080/"
        },
        "id": "XiDWXsQ4SZtO",
        "outputId": "ba6afbd8-cea6-4903-92e2-22743f3099d0"
      },
      "source": [
        "state_df = df.filter((df['State Name'] == \"California\"))\n",
        "state_df = state_df.filter(df['county Name'] == \"Kern\")\n",
        "cal_aqi = state_df.orderBy(\"Date\")\n",
        "cal_aqi.show(5)"
      ],
      "execution_count": 25,
      "outputs": [
        {
          "output_type": "stream",
          "text": [
            "+----------+-----------+----------+-----------+----------+---+--------------------+------------------+-------------+-------------------------+\n",
            "|State Name|county Name|State Code|County Code|      Date|AQI|            Category|Defining Parameter|Defining Site|Number of Sites Reporting|\n",
            "+----------+-----------+----------+-----------+----------+---+--------------------+------------------+-------------+-------------------------+\n",
            "|California|       Kern|        06|        029|1980-01-01| 81|            Moderate|               SO2|  06-029-0230|                        2|\n",
            "|California|       Kern|        06|        029|1980-01-02| 47|                Good|               NO2|  06-029-0004|                        2|\n",
            "|California|       Kern|        06|        029|1980-01-03|107|Unhealthy for Sen...|               SO2|  06-029-0230|                        2|\n",
            "|California|       Kern|        06|        029|1980-01-04|134|Unhealthy for Sen...|               SO2|  06-029-0230|                        2|\n",
            "|California|       Kern|        06|        029|1980-01-05|143|Unhealthy for Sen...|               SO2|  06-029-0230|                        2|\n",
            "+----------+-----------+----------+-----------+----------+---+--------------------+------------------+-------------+-------------------------+\n",
            "only showing top 5 rows\n",
            "\n"
          ],
          "name": "stdout"
        }
      ]
    },
    {
      "cell_type": "code",
      "metadata": {
        "colab": {
          "base_uri": "https://localhost:8080/"
        },
        "id": "NKJR3kRE0pLr",
        "outputId": "52c9f47c-4958-488a-dc95-8a372d4a2ec9"
      },
      "source": [
        "cali_df = cal_aqi.select('State Name', 'State Code', 'County Name', 'County Code', 'Date', 'AQI', 'Defining Parameter', 'Category')\n",
        "cali_df.show(5)"
      ],
      "execution_count": 26,
      "outputs": [
        {
          "output_type": "stream",
          "text": [
            "+----------+----------+-----------+-----------+----------+---+------------------+--------------------+\n",
            "|State Name|State Code|County Name|County Code|      Date|AQI|Defining Parameter|            Category|\n",
            "+----------+----------+-----------+-----------+----------+---+------------------+--------------------+\n",
            "|California|        06|       Kern|        029|1980-01-01| 81|               SO2|            Moderate|\n",
            "|California|        06|       Kern|        029|1980-01-02| 47|               NO2|                Good|\n",
            "|California|        06|       Kern|        029|1980-01-03|107|               SO2|Unhealthy for Sen...|\n",
            "|California|        06|       Kern|        029|1980-01-04|134|               SO2|Unhealthy for Sen...|\n",
            "|California|        06|       Kern|        029|1980-01-05|143|               SO2|Unhealthy for Sen...|\n",
            "+----------+----------+-----------+-----------+----------+---+------------------+--------------------+\n",
            "only showing top 5 rows\n",
            "\n"
          ],
          "name": "stdout"
        }
      ]
    },
    {
      "cell_type": "code",
      "metadata": {
        "colab": {
          "base_uri": "https://localhost:8080/"
        },
        "id": "S3o_quTSsYwh",
        "outputId": "69e1c7b0-ae31-4680-83ec-6de85d7539df"
      },
      "source": [
        "spark_aqi_df = cali_df.withColumnRenamed(\"State Name\",\"state_name\") \\\n",
        "    .withColumnRenamed(\"State Code\",\"state_code\") \\\n",
        "    .withColumnRenamed(\"County Name\",\"county_name\") \\\n",
        "    .withColumnRenamed(\"County Code\",\"county_code\") \\\n",
        "    .withColumnRenamed(\"Date\",\"date\") \\\n",
        "    .withColumnRenamed(\"AQI\",\"aqi\") \\\n",
        "    .withColumnRenamed(\"Defining Parameter\",\"defining_parameter\") \\\n",
        "    .withColumnRenamed(\"Category\",\"category\")\n",
        "\n",
        "spark_aqi_df.take(5)"
      ],
      "execution_count": 27,
      "outputs": [
        {
          "output_type": "execute_result",
          "data": {
            "text/plain": [
              "[Row(state_name='California', state_code='06', county_name='Kern', county_code='029', date='1980-01-01', aqi='81', defining_parameter='SO2', category='Moderate'),\n",
              " Row(state_name='California', state_code='06', county_name='Kern', county_code='029', date='1980-01-02', aqi='47', defining_parameter='NO2', category='Good'),\n",
              " Row(state_name='California', state_code='06', county_name='Kern', county_code='029', date='1980-01-03', aqi='107', defining_parameter='SO2', category='Unhealthy for Sensitive Groups'),\n",
              " Row(state_name='California', state_code='06', county_name='Kern', county_code='029', date='1980-01-04', aqi='134', defining_parameter='SO2', category='Unhealthy for Sensitive Groups'),\n",
              " Row(state_name='California', state_code='06', county_name='Kern', county_code='029', date='1980-01-05', aqi='143', defining_parameter='SO2', category='Unhealthy for Sensitive Groups')]"
            ]
          },
          "metadata": {
            "tags": []
          },
          "execution_count": 27
        }
      ]
    },
    {
      "cell_type": "code",
      "metadata": {
        "id": "Dh8jU1FUxYkA"
      },
      "source": [
        "# converting the Date column datatype from string -> timestamp\n",
        "spark_aqi_df = spark_aqi_df.withColumn(\"date\", spark_aqi_df[\"date\"].cast(TimestampType()))"
      ],
      "execution_count": 28,
      "outputs": []
    },
    {
      "cell_type": "code",
      "metadata": {
        "colab": {
          "base_uri": "https://localhost:8080/"
        },
        "id": "kfwYunDVybGC",
        "outputId": "7505e67d-1b4b-4083-983d-07bcc0ffa014"
      },
      "source": [
        "spark_aqi_df.schema"
      ],
      "execution_count": 29,
      "outputs": [
        {
          "output_type": "execute_result",
          "data": {
            "text/plain": [
              "StructType(List(StructField(state_name,StringType,true),StructField(state_code,StringType,true),StructField(county_name,StringType,true),StructField(county_code,StringType,true),StructField(date,TimestampType,true),StructField(aqi,StringType,true),StructField(defining_parameter,StringType,true),StructField(category,StringType,true)))"
            ]
          },
          "metadata": {
            "tags": []
          },
          "execution_count": 29
        }
      ]
    },
    {
      "cell_type": "code",
      "metadata": {
        "colab": {
          "base_uri": "https://localhost:8080/"
        },
        "id": "kqPMwVe3trKr",
        "outputId": "eadacea7-9df7-4495-cd3d-6efa6049f73f"
      },
      "source": [
        "sql_df = spark.sql('SELECT county_code, date as ds, double(aqi) as y FROM aqi')\n",
        "sql_df = sql_df.filter(sql_df.county_code.isNotNull()) \n",
        "sql_df.show()"
      ],
      "execution_count": 162,
      "outputs": [
        {
          "output_type": "stream",
          "text": [
            "+-----------+-------------------+-----+\n",
            "|county_code|                 ds|    y|\n",
            "+-----------+-------------------+-----+\n",
            "|        029|1980-01-01 00:00:00| 81.0|\n",
            "|        029|1980-01-02 00:00:00| 47.0|\n",
            "|        029|1980-01-03 00:00:00|107.0|\n",
            "|        029|1980-01-04 00:00:00|134.0|\n",
            "|        029|1980-01-05 00:00:00|143.0|\n",
            "|        029|1980-01-06 00:00:00|134.0|\n",
            "|        029|1980-01-07 00:00:00|107.0|\n",
            "|        029|1980-01-08 00:00:00| 81.0|\n",
            "|        029|1980-01-09 00:00:00| 69.0|\n",
            "|        029|1980-01-10 00:00:00| 30.0|\n",
            "|        029|1980-01-11 00:00:00| 43.0|\n",
            "|        029|1980-01-12 00:00:00| 69.0|\n",
            "|        029|1980-01-13 00:00:00| 69.0|\n",
            "|        029|1980-01-14 00:00:00| 56.0|\n",
            "|        029|1980-01-15 00:00:00| 56.0|\n",
            "|        029|1980-01-16 00:00:00| 94.0|\n",
            "|        029|1980-01-17 00:00:00| 56.0|\n",
            "|        029|1980-01-18 00:00:00| 38.0|\n",
            "|        029|1980-01-19 00:00:00| 43.0|\n",
            "|        029|1980-01-20 00:00:00| 56.0|\n",
            "+-----------+-------------------+-----+\n",
            "only showing top 20 rows\n",
            "\n"
          ],
          "name": "stdout"
        }
      ]
    },
    {
      "cell_type": "code",
      "metadata": {
        "id": "N-UVw6khtXKo"
      },
      "source": [
        "spark_aqi_df.createOrReplaceTempView(\"aqi\")"
      ],
      "execution_count": 30,
      "outputs": []
    },
    {
      "cell_type": "code",
      "metadata": {
        "colab": {
          "base_uri": "https://localhost:8080/"
        },
        "id": "lIAdPfG-tXIb",
        "outputId": "0f1941be-da3b-4103-bcbb-c5c352c19acc"
      },
      "source": [
        "\"\"\"sql_df = spark.sql('SELECT county_code, date as ds, sum(aqi) as y FROM aqi GROUP BY county_code, date ORDER BY county_code, date')\n",
        "sql_df = sql_df.filter(sql_df.county_code.isNotNull()) \n",
        "sql_df.show()\"\"\""
      ],
      "execution_count": 33,
      "outputs": [
        {
          "output_type": "stream",
          "text": [
            "+-----------+-------------------+-----+\n",
            "|county_code|                 ds|    y|\n",
            "+-----------+-------------------+-----+\n",
            "|        029|1980-01-01 00:00:00| 81.0|\n",
            "|        029|1980-01-02 00:00:00| 47.0|\n",
            "|        029|1980-01-03 00:00:00|107.0|\n",
            "|        029|1980-01-04 00:00:00|134.0|\n",
            "|        029|1980-01-05 00:00:00|143.0|\n",
            "|        029|1980-01-06 00:00:00|134.0|\n",
            "|        029|1980-01-07 00:00:00|107.0|\n",
            "|        029|1980-01-08 00:00:00| 81.0|\n",
            "|        029|1980-01-09 00:00:00| 69.0|\n",
            "|        029|1980-01-10 00:00:00| 30.0|\n",
            "|        029|1980-01-11 00:00:00| 43.0|\n",
            "|        029|1980-01-12 00:00:00| 69.0|\n",
            "|        029|1980-01-13 00:00:00| 69.0|\n",
            "|        029|1980-01-14 00:00:00| 56.0|\n",
            "|        029|1980-01-15 00:00:00| 56.0|\n",
            "|        029|1980-01-16 00:00:00| 94.0|\n",
            "|        029|1980-01-17 00:00:00| 56.0|\n",
            "|        029|1980-01-18 00:00:00| 38.0|\n",
            "|        029|1980-01-19 00:00:00| 43.0|\n",
            "|        029|1980-01-20 00:00:00| 56.0|\n",
            "+-----------+-------------------+-----+\n",
            "only showing top 20 rows\n",
            "\n"
          ],
          "name": "stdout"
        }
      ]
    },
    {
      "cell_type": "code",
      "metadata": {
        "colab": {
          "base_uri": "https://localhost:8080/"
        },
        "id": "sz9NndlGF7V-",
        "outputId": "1f6ed348-6b19-44f2-f912-5c5efef6ae8f"
      },
      "source": [
        "print((sql_df.count(), len(sql_df.columns)))"
      ],
      "execution_count": 126,
      "outputs": [
        {
          "output_type": "stream",
          "text": [
            "(14822, 3)\n"
          ],
          "name": "stdout"
        }
      ]
    },
    {
      "cell_type": "code",
      "metadata": {
        "id": "QLWbz9KY6ZxF"
      },
      "source": [
        "aqi_part = (sql_df.repartition(spark.sparkContext.defaultParallelism, ['county_code'])).cache()"
      ],
      "execution_count": 163,
      "outputs": []
    },
    {
      "cell_type": "markdown",
      "metadata": {
        "id": "EKptK7U4YovP"
      },
      "source": [
        "**Training the Model**"
      ]
    },
    {
      "cell_type": "code",
      "metadata": {
        "colab": {
          "base_uri": "https://localhost:8080/"
        },
        "id": "WYPIeAiX66tN",
        "outputId": "941684b2-e29e-488c-f83c-5fcd7cdf2240"
      },
      "source": [
        "aqi_part.explain()"
      ],
      "execution_count": 164,
      "outputs": [
        {
          "output_type": "stream",
          "text": [
            "== Physical Plan ==\n",
            "InMemoryTableScan [county_code#265, ds#3124, y#3125]\n",
            "   +- InMemoryRelation [county_code#265, ds#3124, y#3125], StorageLevel(disk, memory, deserialized, 1 replicas)\n",
            "         +- Exchange hashpartitioning(county_code#265, 2), REPARTITION_WITH_NUM, [id=#470]\n",
            "            +- *(2) Project [County Code#19 AS county_code#265, cast(Date#20 as timestamp) AS ds#1706, cast(AQI#21 as double) AS y#1707]\n",
            "               +- *(2) Sort [Date#20 ASC NULLS FIRST], true, 0\n",
            "                  +- Exchange rangepartitioning(Date#20 ASC NULLS FIRST, 200), ENSURE_REQUIREMENTS, [id=#465]\n",
            "                     +- *(1) Project [County Code#19, Date#20, AQI#21]\n",
            "                        +- *(1) Filter ((((isnotnull(State Name#16) AND isnotnull(county Name#17)) AND (State Name#16 = California)) AND (county Name#17 = Kern)) AND isnotnull(County Code#19))\n",
            "                           +- FileScan csv [State Name#16,county Name#17,County Code#19,Date#20,AQI#21] Batched: false, DataFilters: [isnotnull(State Name#16), isnotnull(county Name#17), (State Name#16 = California), (county Name#..., Format: CSV, Location: InMemoryFileIndex[file:/content/drive/MyDrive/Project/Data/daily_aqi_by_county_1980.csv, file:/co..., PartitionFilters: [], PushedFilters: [IsNotNull(State Name), IsNotNull(county Name), EqualTo(State Name,California), EqualTo(county Na..., ReadSchema: struct<State Name:string,county Name:string,County Code:string,Date:string,AQI:string>\n",
            "\n",
            "\n"
          ],
          "name": "stdout"
        }
      ]
    },
    {
      "cell_type": "code",
      "metadata": {
        "id": "lGCgEqPlmIKa"
      },
      "source": [
        "schema = StructType([\n",
        "                     StructField('ds', TimestampType()),\n",
        "                     StructField('county_code', StringType()),\n",
        "                     StructField('y', DoubleType()),\n",
        "                     StructField('yhat', DoubleType()),\n",
        "                     StructField('yhat_upper', DoubleType()),\n",
        "                     StructField('yhat_lower', DoubleType())\n",
        "                     ])\n"
      ],
      "execution_count": 165,
      "outputs": []
    },
    {
      "cell_type": "code",
      "metadata": {
        "id": "ViKAeTv32V4o"
      },
      "source": [
        "@pandas_udf(schema, PandasUDFType.GROUPED_MAP)\n",
        "\n",
        "def forecast_aqi(pd_aqi):\n",
        "  aqi_model = Prophet(\n",
        "      interval_width=0.95, \n",
        "      seasonality_mode='multiplicative', \n",
        "      weekly_seasonality=True, \n",
        "      yearly_seasonality=True)\n",
        "  \n",
        "  print(aqi_model.history)\n",
        "  aqi_model.fit(pd_aqi)\n",
        "\n",
        "  future_pd = aqi_model.make_future_dataframe(periods=5, freq='w')\n",
        "\n",
        "  forecast_pd = aqi_model.predict(future_pd)\n",
        "  print(forecast_pd)\n",
        "  \n",
        "  f_pd = forecast_pd[['ds','yhat','yhat_upper','yhat_lower']].set_index('ds')\n",
        "  aq_pd = pd_aqi[['ds', 'county_code', 'y']].set_index('ds')\n",
        "\n",
        "  results_pd = f_pd.join(aq_pd, how=\"left\")\n",
        "  results_pd.reset_index(level=0, inplace=True)\n",
        "\n",
        "  results_pd['county_code'] = pd_aqi['county_code'].iloc[0]\n",
        "\n",
        "  return results_pd[['ds', 'county_code', 'y', 'yhat', 'yhat_upper', 'yhat_lower']]"
      ],
      "execution_count": 166,
      "outputs": []
    },
    {
      "cell_type": "code",
      "metadata": {
        "colab": {
          "base_uri": "https://localhost:8080/"
        },
        "id": "ri_5ivRE2V1U",
        "outputId": "20caad33-b35c-4d28-8fc5-9a20b93a1c84"
      },
      "source": [
        "aqi_result = (\n",
        "    aqi_part\n",
        "    .groupBy('county_code')\n",
        "    .apply(forecast_aqi)\n",
        "    .withColumn('training_date', current_date())\n",
        ")"
      ],
      "execution_count": 167,
      "outputs": [
        {
          "output_type": "stream",
          "text": [
            "spark-3.1.1-bin-hadoop2.7/python/pyspark/sql/pandas/group_ops.py:84: UserWarning:\n",
            "\n",
            "It is preferred to use 'applyInPandas' over this API. This API will be deprecated in the future releases. See SPARK-28264 for more details.\n",
            "\n"
          ],
          "name": "stderr"
        }
      ]
    },
    {
      "cell_type": "code",
      "metadata": {
        "id": "DUNELnXOBvEp"
      },
      "source": [
        "aqi_result = aqi_result.dropna(how='any')"
      ],
      "execution_count": 168,
      "outputs": []
    },
    {
      "cell_type": "code",
      "metadata": {
        "colab": {
          "base_uri": "https://localhost:8080/"
        },
        "id": "GY4aXF_b2Vyr",
        "outputId": "d37f0d71-7ae2-44d6-cbc4-901f12f9a0f2"
      },
      "source": [
        "aqi_result.cache()"
      ],
      "execution_count": 159,
      "outputs": [
        {
          "output_type": "execute_result",
          "data": {
            "text/plain": [
              "DataFrame[ds: timestamp, county_code: string, y: double, yhat: double, yhat_upper: double, yhat_lower: double, training_date: date]"
            ]
          },
          "metadata": {
            "tags": []
          },
          "execution_count": 159
        }
      ]
    },
    {
      "cell_type": "code",
      "metadata": {
        "colab": {
          "base_uri": "https://localhost:8080/"
        },
        "id": "FY3sHWNJG7yp",
        "outputId": "c1b8d337-6790-4919-d871-74841b55af3d"
      },
      "source": [
        "type(aqi_result)\n",
        "aqi_result.show()"
      ],
      "execution_count": 169,
      "outputs": [
        {
          "output_type": "stream",
          "text": [
            "+-------------------+-----------+-----+-----------------+------------------+-------------------+-------------+\n",
            "|                 ds|county_code|    y|             yhat|        yhat_upper|         yhat_lower|training_date|\n",
            "+-------------------+-----------+-----+-----------------+------------------+-------------------+-------------+\n",
            "|1980-01-01 00:00:00|        029| 81.0|80.86127084371445|160.52972640456562| 2.3185145355631067|   2021-04-30|\n",
            "|1980-01-02 00:00:00|        029| 47.0|82.25326142238399|153.29809154770751| 1.3203364272965614|   2021-04-30|\n",
            "|1980-01-03 00:00:00|        029|107.0|81.43862999073292|149.21969750858776|  9.451077855038974|   2021-04-30|\n",
            "|1980-01-04 00:00:00|        029|134.0|82.93108624866527|160.52648547828062| 1.2422351288876994|   2021-04-30|\n",
            "|1980-01-05 00:00:00|        029|143.0|83.49893114171645|159.39587728160168|  4.277788323855905|   2021-04-30|\n",
            "|1980-01-06 00:00:00|        029|134.0|78.76132560855727|155.25502789902953|  5.432907244366354|   2021-04-30|\n",
            "|1980-01-07 00:00:00|        029|107.0| 76.5205254191564|157.39593986959994| 0.8883271038468399|   2021-04-30|\n",
            "|1980-01-08 00:00:00|        029| 81.0|80.06472168093056|155.21509575472928| -2.268225142041618|   2021-04-30|\n",
            "|1980-01-09 00:00:00|        029| 69.0| 81.5646410188709|154.52954740604306|  4.714644384685797|   2021-04-30|\n",
            "|1980-01-10 00:00:00|        029| 30.0|80.87184930805758| 152.4216979899025| 3.7506232180096983|   2021-04-30|\n",
            "|1980-01-11 00:00:00|        029| 43.0|82.49223851278991|152.33284986338367|  4.824817631132602|   2021-04-30|\n",
            "|1980-01-12 00:00:00|        029| 69.0|83.19118175657222|160.98607298722908|  4.913611311742764|   2021-04-30|\n",
            "|1980-01-13 00:00:00|        029| 69.0|78.58533217152316| 156.6754354518274|  4.189809060719805|   2021-04-30|\n",
            "|1980-01-14 00:00:00|        029| 56.0|76.46567062141818|158.75957188292378|  6.101986567769827|   2021-04-30|\n",
            "|1980-01-15 00:00:00|        029| 56.0|80.11224948681375| 155.3024104582872| 0.7235300005278693|   2021-04-30|\n",
            "|1980-01-16 00:00:00|        029| 94.0|81.69561878011068| 155.4645423904822|  6.494205784577199|   2021-04-30|\n",
            "|1980-01-17 00:00:00|        029| 56.0|81.06211645910099|154.66715231449007|  4.663162375260153|   2021-04-30|\n",
            "|1980-01-18 00:00:00|        029| 38.0|82.70965615522216|159.12127312117323|  5.441310412808467|   2021-04-30|\n",
            "|1980-01-19 00:00:00|        029| 43.0|83.40175231390765|161.10101354116173|  7.950051255066924|   2021-04-30|\n",
            "|1980-01-20 00:00:00|        029| 56.0|78.75483717067412| 150.1479551023587|-1.9943449214228637|   2021-04-30|\n",
            "+-------------------+-----------+-----+-----------------+------------------+-------------------+-------------+\n",
            "only showing top 20 rows\n",
            "\n"
          ],
          "name": "stdout"
        }
      ]
    },
    {
      "cell_type": "code",
      "metadata": {
        "colab": {
          "base_uri": "https://localhost:8080/"
        },
        "id": "0G3w1QEY2Vwv",
        "outputId": "1be56b7d-2ab4-4379-c984-bbb94fa58984"
      },
      "source": [
        "aqi_result.show()"
      ],
      "execution_count": 134,
      "outputs": [
        {
          "output_type": "stream",
          "text": [
            "+-------------------+-----------+-----+-----------------+------------------+-------------------+-------------+\n",
            "|                 ds|county_code|    y|             yhat|        yhat_upper|         yhat_lower|training_date|\n",
            "+-------------------+-----------+-----+-----------------+------------------+-------------------+-------------+\n",
            "|1980-01-01 00:00:00|        029| 81.0|80.86127084371445|160.52972640456562| 2.3185145355631067|   2021-04-30|\n",
            "|1980-01-02 00:00:00|        029| 47.0|82.25326142238399|153.29809154770751| 1.3203364272965614|   2021-04-30|\n",
            "|1980-01-03 00:00:00|        029|107.0|81.43862999073292|149.21969750858776|  9.451077855038974|   2021-04-30|\n",
            "|1980-01-04 00:00:00|        029|134.0|82.93108624866527|160.52648547828062| 1.2422351288876994|   2021-04-30|\n",
            "|1980-01-05 00:00:00|        029|143.0|83.49893114171645|159.39587728160168|  4.277788323855905|   2021-04-30|\n",
            "|1980-01-06 00:00:00|        029|134.0|78.76132560855727|155.25502789902953|  5.432907244366354|   2021-04-30|\n",
            "|1980-01-07 00:00:00|        029|107.0| 76.5205254191564|157.39593986959994| 0.8883271038468399|   2021-04-30|\n",
            "|1980-01-08 00:00:00|        029| 81.0|80.06472168093056|155.21509575472928| -2.268225142041618|   2021-04-30|\n",
            "|1980-01-09 00:00:00|        029| 69.0| 81.5646410188709|154.52954740604306|  4.714644384685797|   2021-04-30|\n",
            "|1980-01-10 00:00:00|        029| 30.0|80.87184930805758| 152.4216979899025| 3.7506232180096983|   2021-04-30|\n",
            "|1980-01-11 00:00:00|        029| 43.0|82.49223851278991|152.33284986338367|  4.824817631132602|   2021-04-30|\n",
            "|1980-01-12 00:00:00|        029| 69.0|83.19118175657222|160.98607298722908|  4.913611311742764|   2021-04-30|\n",
            "|1980-01-13 00:00:00|        029| 69.0|78.58533217152316| 156.6754354518274|  4.189809060719805|   2021-04-30|\n",
            "|1980-01-14 00:00:00|        029| 56.0|76.46567062141818|158.75957188292378|  6.101986567769827|   2021-04-30|\n",
            "|1980-01-15 00:00:00|        029| 56.0|80.11224948681375| 155.3024104582872| 0.7235300005278693|   2021-04-30|\n",
            "|1980-01-16 00:00:00|        029| 94.0|81.69561878011068| 155.4645423904822|  6.494205784577199|   2021-04-30|\n",
            "|1980-01-17 00:00:00|        029| 56.0|81.06211645910099|154.66715231449007|  4.663162375260153|   2021-04-30|\n",
            "|1980-01-18 00:00:00|        029| 38.0|82.70965615522216|159.12127312117323|  5.441310412808467|   2021-04-30|\n",
            "|1980-01-19 00:00:00|        029| 43.0|83.40175231390765|161.10101354116173|  7.950051255066924|   2021-04-30|\n",
            "|1980-01-20 00:00:00|        029| 56.0|78.75483717067412| 150.1479551023587|-1.9943449214228637|   2021-04-30|\n",
            "+-------------------+-----------+-----+-----------------+------------------+-------------------+-------------+\n",
            "only showing top 20 rows\n",
            "\n"
          ],
          "name": "stdout"
        }
      ]
    },
    {
      "cell_type": "markdown",
      "metadata": {
        "id": "Xe-3ZvqKYsJN"
      },
      "source": [
        "**Predicting the future AQI Values**"
      ]
    },
    {
      "cell_type": "code",
      "metadata": {
        "colab": {
          "base_uri": "https://localhost:8080/"
        },
        "id": "ECOsMa_c2VuF",
        "outputId": "b00ce643-afb9-415d-df94-fe3ba2ebe251"
      },
      "source": [
        "aqi_result.count()"
      ],
      "execution_count": 123,
      "outputs": [
        {
          "output_type": "execute_result",
          "data": {
            "text/plain": [
              "14822"
            ]
          },
          "metadata": {
            "tags": []
          },
          "execution_count": 123
        }
      ]
    },
    {
      "cell_type": "code",
      "metadata": {
        "id": "oDO_JRwGakh7"
      },
      "source": [
        "aqi_result.createOrReplaceTempView(\"forecast_aqi\")"
      ],
      "execution_count": 170,
      "outputs": []
    },
    {
      "cell_type": "code",
      "metadata": {
        "colab": {
          "base_uri": "https://localhost:8080/"
        },
        "id": "9GPyHcAsauCm",
        "outputId": "bf89fdaa-44ee-4ad8-db1d-489e7d5bef34"
      },
      "source": [
        "final_result_df = aqi_result.toPandas()\n",
        "\n",
        "type(final_result_df)"
      ],
      "execution_count": 181,
      "outputs": [
        {
          "output_type": "execute_result",
          "data": {
            "text/plain": [
              "pandas.core.frame.DataFrame"
            ]
          },
          "metadata": {
            "tags": []
          },
          "execution_count": 181
        }
      ]
    },
    {
      "cell_type": "code",
      "metadata": {
        "id": "l8gj10TDauA0"
      },
      "source": [
        "final_result_df = final_result_df.set_index('ds')"
      ],
      "execution_count": 182,
      "outputs": []
    },
    {
      "cell_type": "code",
      "metadata": {
        "colab": {
          "base_uri": "https://localhost:8080/",
          "height": 581
        },
        "id": "fKbnMaDvmH9k",
        "outputId": "54821813-6fa9-498f-97e8-9aab2d5420e8"
      },
      "source": [
        "final_result_df"
      ],
      "execution_count": 183,
      "outputs": [
        {
          "output_type": "execute_result",
          "data": {
            "text/html": [
              "<div>\n",
              "<style scoped>\n",
              "    .dataframe tbody tr th:only-of-type {\n",
              "        vertical-align: middle;\n",
              "    }\n",
              "\n",
              "    .dataframe tbody tr th {\n",
              "        vertical-align: top;\n",
              "    }\n",
              "\n",
              "    .dataframe thead th {\n",
              "        text-align: right;\n",
              "    }\n",
              "</style>\n",
              "<table border=\"1\" class=\"dataframe\">\n",
              "  <thead>\n",
              "    <tr style=\"text-align: right;\">\n",
              "      <th></th>\n",
              "      <th>county_code</th>\n",
              "      <th>y</th>\n",
              "      <th>yhat</th>\n",
              "      <th>yhat_upper</th>\n",
              "      <th>yhat_lower</th>\n",
              "      <th>training_date</th>\n",
              "    </tr>\n",
              "    <tr>\n",
              "      <th>ds</th>\n",
              "      <th></th>\n",
              "      <th></th>\n",
              "      <th></th>\n",
              "      <th></th>\n",
              "      <th></th>\n",
              "      <th></th>\n",
              "    </tr>\n",
              "  </thead>\n",
              "  <tbody>\n",
              "    <tr>\n",
              "      <th>1980-01-01</th>\n",
              "      <td>029</td>\n",
              "      <td>81.0</td>\n",
              "      <td>80.861271</td>\n",
              "      <td>160.529726</td>\n",
              "      <td>2.318515</td>\n",
              "      <td>2021-04-30</td>\n",
              "    </tr>\n",
              "    <tr>\n",
              "      <th>1980-01-02</th>\n",
              "      <td>029</td>\n",
              "      <td>47.0</td>\n",
              "      <td>82.253261</td>\n",
              "      <td>153.298092</td>\n",
              "      <td>1.320336</td>\n",
              "      <td>2021-04-30</td>\n",
              "    </tr>\n",
              "    <tr>\n",
              "      <th>1980-01-03</th>\n",
              "      <td>029</td>\n",
              "      <td>107.0</td>\n",
              "      <td>81.438630</td>\n",
              "      <td>149.219698</td>\n",
              "      <td>9.451078</td>\n",
              "      <td>2021-04-30</td>\n",
              "    </tr>\n",
              "    <tr>\n",
              "      <th>1980-01-04</th>\n",
              "      <td>029</td>\n",
              "      <td>134.0</td>\n",
              "      <td>82.931086</td>\n",
              "      <td>160.526485</td>\n",
              "      <td>1.242235</td>\n",
              "      <td>2021-04-30</td>\n",
              "    </tr>\n",
              "    <tr>\n",
              "      <th>1980-01-05</th>\n",
              "      <td>029</td>\n",
              "      <td>143.0</td>\n",
              "      <td>83.498931</td>\n",
              "      <td>159.395877</td>\n",
              "      <td>4.277788</td>\n",
              "      <td>2021-04-30</td>\n",
              "    </tr>\n",
              "    <tr>\n",
              "      <th>...</th>\n",
              "      <td>...</td>\n",
              "      <td>...</td>\n",
              "      <td>...</td>\n",
              "      <td>...</td>\n",
              "      <td>...</td>\n",
              "      <td>...</td>\n",
              "    </tr>\n",
              "    <tr>\n",
              "      <th>2020-07-28</th>\n",
              "      <td>029</td>\n",
              "      <td>51.0</td>\n",
              "      <td>113.510820</td>\n",
              "      <td>188.497538</td>\n",
              "      <td>40.811931</td>\n",
              "      <td>2021-04-30</td>\n",
              "    </tr>\n",
              "    <tr>\n",
              "      <th>2020-07-29</th>\n",
              "      <td>029</td>\n",
              "      <td>64.0</td>\n",
              "      <td>114.890909</td>\n",
              "      <td>187.515924</td>\n",
              "      <td>39.569702</td>\n",
              "      <td>2021-04-30</td>\n",
              "    </tr>\n",
              "    <tr>\n",
              "      <th>2020-07-30</th>\n",
              "      <td>029</td>\n",
              "      <td>80.0</td>\n",
              "      <td>114.589895</td>\n",
              "      <td>186.927382</td>\n",
              "      <td>38.871241</td>\n",
              "      <td>2021-04-30</td>\n",
              "    </tr>\n",
              "    <tr>\n",
              "      <th>2020-07-31</th>\n",
              "      <td>029</td>\n",
              "      <td>74.0</td>\n",
              "      <td>115.930467</td>\n",
              "      <td>191.560907</td>\n",
              "      <td>39.398304</td>\n",
              "      <td>2021-04-30</td>\n",
              "    </tr>\n",
              "    <tr>\n",
              "      <th>2020-08-01</th>\n",
              "      <td>029</td>\n",
              "      <td>5.0</td>\n",
              "      <td>116.530919</td>\n",
              "      <td>192.970579</td>\n",
              "      <td>35.088013</td>\n",
              "      <td>2021-04-30</td>\n",
              "    </tr>\n",
              "  </tbody>\n",
              "</table>\n",
              "<p>14822 rows × 6 columns</p>\n",
              "</div>"
            ],
            "text/plain": [
              "           county_code      y        yhat  yhat_upper  yhat_lower training_date\n",
              "ds                                                                             \n",
              "1980-01-01         029   81.0   80.861271  160.529726    2.318515    2021-04-30\n",
              "1980-01-02         029   47.0   82.253261  153.298092    1.320336    2021-04-30\n",
              "1980-01-03         029  107.0   81.438630  149.219698    9.451078    2021-04-30\n",
              "1980-01-04         029  134.0   82.931086  160.526485    1.242235    2021-04-30\n",
              "1980-01-05         029  143.0   83.498931  159.395877    4.277788    2021-04-30\n",
              "...                ...    ...         ...         ...         ...           ...\n",
              "2020-07-28         029   51.0  113.510820  188.497538   40.811931    2021-04-30\n",
              "2020-07-29         029   64.0  114.890909  187.515924   39.569702    2021-04-30\n",
              "2020-07-30         029   80.0  114.589895  186.927382   38.871241    2021-04-30\n",
              "2020-07-31         029   74.0  115.930467  191.560907   39.398304    2021-04-30\n",
              "2020-08-01         029    5.0  116.530919  192.970579   35.088013    2021-04-30\n",
              "\n",
              "[14822 rows x 6 columns]"
            ]
          },
          "metadata": {
            "tags": []
          },
          "execution_count": 183
        }
      ]
    },
    {
      "cell_type": "code",
      "metadata": {
        "colab": {
          "base_uri": "https://localhost:8080/",
          "height": 636
        },
        "id": "2-7HPLucjNYF",
        "outputId": "9864bc1a-f62e-4d1f-c5ff-0e2089a0680a"
      },
      "source": [
        "final_result_df[['y','yhat']].plot()"
      ],
      "execution_count": 184,
      "outputs": [
        {
          "output_type": "execute_result",
          "data": {
            "text/plain": [
              "<matplotlib.axes._subplots.AxesSubplot at 0x7f0b2e7946d0>"
            ]
          },
          "metadata": {
            "tags": []
          },
          "execution_count": 184
        },
        {
          "output_type": "display_data",
          "data": {
            "image/png": "[encoded data removed]",
            "text/plain": [
              "<Figure size 720x576 with 1 Axes>"
            ]
          },
          "metadata": {
            "tags": [],
            "needs_background": "light"
          }
        }
      ]
    },
    {
      "cell_type": "code",
      "metadata": {
        "id": "xuOjvD3Z1koG"
      },
      "source": [
        "final_sampled = final_result_df.loc[(final_result_df['ds'] >= '2019-01-01')]"
      ],
      "execution_count": 197,
      "outputs": []
    },
    {
      "cell_type": "markdown",
      "metadata": {
        "id": "CVZdSSbt2wvg"
      },
      "source": [
        "**Graph for predicted and actual values for 2019 and 2020**"
      ]
    },
    {
      "cell_type": "code",
      "metadata": {
        "colab": {
          "base_uri": "https://localhost:8080/",
          "height": 759
        },
        "id": "Lv0vGZ-P0Y7y",
        "outputId": "1061491e-54bf-4917-bffb-0fa01fa1e6e1"
      },
      "source": [
        "\n",
        "import matplotlib\n",
        "\n",
        "import matplotlib.pyplot as plt\n",
        "\n",
        "datefmt =matplotlib.dates.DateFormatter(\"%Y-%m-%d\")\n",
        "fmt = lambda x,y : \"{}, {:.5g}\".format(datefmt(x), y)\n",
        "plt.rcParams['figure.figsize'] = (20, 10)\n",
        "plt.gca().format_coord = fmt\n",
        "final_result_df = final_sampled.reset_index()\n",
        "plt.xlabel('Date')\n",
        "plt.ylabel('AQI')\n",
        "plt.plot(final_sampled[\"ds\"],final_sampled[\"y\"].to_list(),'b',label='Expected AQI')\n",
        "plt.plot(final_sampled[\"ds\"],final_sampled[\"yhat\"].to_list(),'r',label='Predicted AQI')\n",
        "plt.legend(loc='best')\n",
        "plt.show()"
      ],
      "execution_count": 198,
      "outputs": [
        {
          "output_type": "display_data",
          "data": {
            "image/png": "[encoded data removed]",
            "text/plain": [
              "<Figure size 1440x720 with 1 Axes>"
            ]
          },
          "metadata": {
            "tags": [],
            "needs_background": "light"
          }
        }
      ]
    },
    {
      "cell_type": "code",
      "metadata": {
        "id": "Dy3MNgVFr6Lg"
      },
      "source": [
        "\"\"\"def rounding(val):\n",
        "  val = int(val)#,2)\n",
        "\n",
        "  return val\n",
        "\n",
        "r1 = final_result_df['y'].apply(rounding).to_list()\n",
        "r2 = final_result_df['yhat'].apply(rounding).to_list()\"\"\"\n"
      ],
      "execution_count": 76,
      "outputs": []
    },
    {
      "cell_type": "code",
      "metadata": {
        "id": "lZgxwqrojX3V",
        "colab": {
          "base_uri": "https://localhost:8080/"
        },
        "outputId": "762b6db4-9461-417e-ad60-f27081bf566b"
      },
      "source": [
        "import math\n",
        "import numpy as np\n",
        "final_result_df.reset_index(drop=True)\n",
        "y_forecasted = final_result_df[\"yhat\"] #np.array(r2) \n",
        "y_truth = final_result_df[\"y\"]  #np.array(r1)\n",
        "# Compute the mean square error\n",
        "rmse = math.sqrt(((y_forecasted - y_truth) ** 2).mean())\n",
        "print('The root Mean Squared Error of our forecasts is {}'.format(rmse))"
      ],
      "execution_count": 150,
      "outputs": [
        {
          "output_type": "stream",
          "text": [
            "The root Mean Squared Error of our forecasts is 39.6969081036528\n"
          ],
          "name": "stdout"
        }
      ]
    },
    {
      "cell_type": "markdown",
      "metadata": {
        "id": "9gDon7jZ2_YI"
      },
      "source": [
        "## Forecasting for next 2 years"
      ]
    },
    {
      "cell_type": "code",
      "metadata": {
        "id": "wie6dY1b3KTu"
      },
      "source": [
        "@pandas_udf(schema, PandasUDFType.GROUPED_MAP)\n",
        "\n",
        "def future_forecast_aqi(pd_aqi):\n",
        "  aqi_model = Prophet(\n",
        "      interval_width=0.95, \n",
        "      seasonality_mode='multiplicative', \n",
        "      weekly_seasonality=True, \n",
        "      yearly_seasonality=True)\n",
        "  \n",
        "  print(aqi_model.history)\n",
        "  aqi_model.fit(pd_aqi)\n",
        "\n",
        "  future_pd = aqi_model.make_future_dataframe(periods=104, freq='w')\n",
        "\n",
        "  forecast_pd = aqi_model.predict(future_pd)\n",
        "  \n",
        "  f_pd = forecast_pd[['ds','yhat','yhat_upper','yhat_lower']].set_index('ds')\n",
        "\n",
        "  aq_pd = pd_aqi[['ds', 'county_code', 'y']].set_index('ds')\n",
        "\n",
        "  results_pd = f_pd.join(aq_pd, how=\"left\")\n",
        "  results_pd.reset_index(level=0, inplace=True)\n",
        "\n",
        "  results_pd['county_code'] = pd_aqi['county_code'].iloc[0]\n",
        "\n",
        "  return results_pd[['ds', 'county_code', 'y', 'yhat', 'yhat_upper', 'yhat_lower']]"
      ],
      "execution_count": 199,
      "outputs": []
    },
    {
      "cell_type": "code",
      "metadata": {
        "colab": {
          "base_uri": "https://localhost:8080/"
        },
        "id": "L1OizVQa4w7Q",
        "outputId": "51c57af3-1235-4d50-ab3f-153f8ab90269"
      },
      "source": [
        "future_aqi_result = (\n",
        "    aqi_part\n",
        "    .groupBy('county_code')\n",
        "    .apply(future_forecast_aqi)\n",
        "    .withColumn('training_date', current_date())\n",
        ")"
      ],
      "execution_count": 200,
      "outputs": [
        {
          "output_type": "stream",
          "text": [
            "spark-3.1.1-bin-hadoop2.7/python/pyspark/sql/pandas/group_ops.py:84: UserWarning:\n",
            "\n",
            "It is preferred to use 'applyInPandas' over this API. This API will be deprecated in the future releases. See SPARK-28264 for more details.\n",
            "\n"
          ],
          "name": "stderr"
        }
      ]
    },
    {
      "cell_type": "code",
      "metadata": {
        "id": "32yu0ZR65fL6"
      },
      "source": [
        "future_aqi_result_updated = future_aqi_result.filter(future_aqi_result.ds >= '2021-01-01')"
      ],
      "execution_count": 216,
      "outputs": []
    },
    {
      "cell_type": "code",
      "metadata": {
        "id": "En_sneFA6XA3"
      },
      "source": [
        "future_aqi_result_updated_pandas = future_aqi_result_updated.toPandas()"
      ],
      "execution_count": 217,
      "outputs": []
    },
    {
      "cell_type": "code",
      "metadata": {
        "colab": {
          "base_uri": "https://localhost:8080/",
          "height": 759
        },
        "id": "snAND1jo6o9j",
        "outputId": "e98d3da4-7caa-4d81-8e7f-ec1b7354b8e1"
      },
      "source": [
        "#future_aqi_result_updated['ds'] = future_aqi_result_updated['ds'].apply(pd.to_datetime)\n",
        "plt.xlabel('Date')\n",
        "plt.ylabel('AQI')\n",
        "plt.plot(future_aqi_result_updated_pandas[\"ds\"],future_aqi_result_updated_pandas[\"yhat\"].to_list(),'b',label='Expected AQI')\n",
        "plt.legend(loc='best')\n",
        "plt.show()"
      ],
      "execution_count": 226,
      "outputs": [
        {
          "output_type": "display_data",
          "data": {
            "image/png": "[encoded data removed]",
            "text/plain": [
              "<Figure size 1440x720 with 1 Axes>"
            ]
          },
          "metadata": {
            "tags": [],
            "needs_background": "light"
          }
        }
      ]
    }
  ]
}