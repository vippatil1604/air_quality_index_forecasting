{
 "cells": [
  {
   "cell_type": "code",
   "execution_count": 1,
   "metadata": {},
   "outputs": [],
   "source": [
    "import requests\n",
    "from bs4 import BeautifulSoup\n",
    "from requests import get\n",
    "import zipfile\n",
    "import os\n"
   ]
  },
  {
   "cell_type": "code",
   "execution_count": 2,
   "metadata": {},
   "outputs": [
    {
     "data": {
      "text/plain": [
       "'C:\\\\Users\\\\Vishal Patil\\\\Desktop\\\\Data Science\\\\Sem 4\\\\cloud\\\\Project\\\\Dataset\\\\zips'"
      ]
     },
     "execution_count": 2,
     "metadata": {},
     "output_type": "execute_result"
    }
   ],
   "source": [
    "### Setup working directory where u want to download the zip files. \n",
    "os.chdir('C:/Users/Vishal Patil/Desktop/Data Science/Sem 4/cloud/Project/Dataset/zips') \n",
    "os.getcwd()"
   ]
  },
  {
   "cell_type": "code",
   "execution_count": 3,
   "metadata": {},
   "outputs": [],
   "source": [
    "website = \"https://aqs.epa.gov/aqsweb/airdata/download_files.html#AQI\"\n",
    "hit_website = requests.get(website)\n",
    "html = hit_website.text\n",
    "soup = BeautifulSoup(html, \"html.parser\")\n"
   ]
  },
  {
   "cell_type": "code",
   "execution_count": 4,
   "metadata": {},
   "outputs": [],
   "source": [
    "def download_zips(soup):\n",
    "    for links in soup.find_all('a'):\n",
    "        url = links.get('href')\n",
    "        if \"daily_aqi_by_county\" in url:\n",
    "            with open(url,\"wb\") as file:\n",
    "                response = requests.get(\"https://aqs.epa.gov/aqsweb/airdata/\" + url)\n",
    "                file.write(response.content)\n",
    "        else:\n",
    "            pass\n",
    "        \n",
    "d1 = download_zips(soup)"
   ]
  },
  {
   "cell_type": "code",
   "execution_count": 18,
   "metadata": {},
   "outputs": [],
   "source": [
    "def extract_zip(source,destination):\n",
    "    for item in os.listdir(source):\n",
    "        file_open = zipfile.ZipFile(item, 'r')\n",
    "        file_open.extractall(path = destination)\n",
    "        file_open.close()\n",
    "\n",
    "### first location is current working directoy , second location is destination directory where you want to extract csv's\n",
    "e1 = extract_zip(\"C:/Users/Vishal Patil/Desktop/Data Science/Sem 4/cloud/Project/Dataset/zips\",\"C:/Users/Vishal Patil/Desktop/Data Science/Sem 4/cloud/Project/Dataset/extracted\")"
   ]
  }
 ],
 "metadata": {
  "kernelspec": {
   "display_name": "Python 3",
   "language": "python",
   "name": "python3"
  },
  "language_info": {
   "codemirror_mode": {
    "name": "ipython",
    "version": 3
   },
   "file_extension": ".py",
   "mimetype": "text/x-python",
   "name": "python",
   "nbconvert_exporter": "python",
   "pygments_lexer": "ipython3",
   "version": "3.7.4"
  }
 },
 "nbformat": 4,
 "nbformat_minor": 2
}
