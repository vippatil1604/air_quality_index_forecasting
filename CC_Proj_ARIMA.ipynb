{
  "nbformat": 4,
  "nbformat_minor": 0,
  "metadata": {
    "colab": {
      "name": "CC_Proj_ARIMA.ipynb",
      "provenance": [],
      "collapsed_sections": []
    },
    "kernelspec": {
      "name": "python3",
      "display_name": "Python 3"
    },
    "language_info": {
      "name": "python"
    }
  },
  "cells": [
    {
      "cell_type": "code",
      "metadata": {
        "id": "1Bvzn3u8u7IU"
      },
      "source": [
        "!apt-get install openjdk-8-jdk-headless -qq > /dev/null\n",
        "!wget -q http://apache.mirror.amaze.com.au/spark/spark-3.0.2/spark-3.0.2-bin-hadoop3.2.tgz\n",
        "!tar xf spark-3.0.2-bin-hadoop3.2.tgz\n",
        "!pip install -q findspark"
      ],
      "execution_count": 1,
      "outputs": []
    },
    {
      "cell_type": "code",
      "metadata": {
        "id": "XG0jdlwLu-Aw"
      },
      "source": [
        "import os\n",
        "os.environ[\"JAVA_HOME\"] = \"/usr/lib/jvm/java-8-openjdk-amd64\"\n",
        "os.environ[\"SPARK_HOME\"] = \"spark-3.0.2-bin-hadoop3.2\""
      ],
      "execution_count": 2,
      "outputs": []
    },
    {
      "cell_type": "code",
      "metadata": {
        "id": "E6bV17Lzvjz5"
      },
      "source": [
        "import findspark\n",
        "findspark.init()"
      ],
      "execution_count": 3,
      "outputs": []
    },
    {
      "cell_type": "code",
      "metadata": {
        "colab": {
          "base_uri": "https://localhost:8080/",
          "height": 193
        },
        "id": "MhkeSrCQvloa",
        "outputId": "b94ee210-73e1-4eb9-b9b7-ba5932a3d142"
      },
      "source": [
        "from pyspark.sql import SparkSession\n",
        "spark = SparkSession.builder.master(\"local[*]\").getOrCreate()\n",
        "sc = spark.sparkContext\n",
        "sc"
      ],
      "execution_count": 4,
      "outputs": [
        {
          "output_type": "execute_result",
          "data": {
            "text/html": [
              "\n",
              "        <div>\n",
              "            <p><b>SparkContext</b></p>\n",
              "\n",
              "            <p><a href=\"http://df936da5a1c4:4040\">Spark UI</a></p>\n",
              "\n",
              "            <dl>\n",
              "              <dt>Version</dt>\n",
              "                <dd><code>v3.0.2</code></dd>\n",
              "              <dt>Master</dt>\n",
              "                <dd><code>local[*]</code></dd>\n",
              "              <dt>AppName</dt>\n",
              "                <dd><code>pyspark-shell</code></dd>\n",
              "            </dl>\n",
              "        </div>\n",
              "        "
            ],
            "text/plain": [
              "<SparkContext master=local[*] appName=pyspark-shell>"
            ]
          },
          "metadata": {
            "tags": []
          },
          "execution_count": 4
        }
      ]
    },
    {
      "cell_type": "code",
      "metadata": {
        "colab": {
          "base_uri": "https://localhost:8080/"
        },
        "id": "sOOCgp7Av_J0",
        "outputId": "49cedd18-239e-409f-8e1a-a9ef1ab1e546"
      },
      "source": [
        "from google.colab import drive\n",
        "drive.mount('/content/drive')"
      ],
      "execution_count": 6,
      "outputs": [
        {
          "output_type": "stream",
          "text": [
            "Mounted at /content/drive\n"
          ],
          "name": "stdout"
        }
      ]
    },
    {
      "cell_type": "code",
      "metadata": {
        "id": "tD6EImywvnCM"
      },
      "source": [
        "import csv\n",
        "import pyspark.sql\n",
        "import pandas as pd\n",
        "from fbprophet import Prophet\n",
        "import matplotlib as mpl\n",
        "import matplotlib.pyplot as plt"
      ],
      "execution_count": 7,
      "outputs": []
    },
    {
      "cell_type": "code",
      "metadata": {
        "id": "GON2j1DWI9_F"
      },
      "source": [
        "mpl.rcParams['figure.figsize'] = (10, 8)\n",
        "mpl.rcParams['axes.grid'] = False"
      ],
      "execution_count": 8,
      "outputs": []
    },
    {
      "cell_type": "code",
      "metadata": {
        "id": "ZtTQw2jwhHbN"
      },
      "source": [
        "from pyspark.sql import Row\n",
        "from pyspark.sql.types import *\n",
        "from pyspark.sql.functions import *"
      ],
      "execution_count": 9,
      "outputs": []
    },
    {
      "cell_type": "code",
      "metadata": {
        "colab": {
          "base_uri": "https://localhost:8080/"
        },
        "id": "p42afjwuiEAq",
        "outputId": "b583183b-fb51-49f6-c042-59b1d64694a2"
      },
      "source": [
        "# import the necessary pyspark and pandas libraries\n",
        "\n",
        "from pyspark.sql.functions import pandas_udf, PandasUDFType, current_date\n",
        "from pyspark.sql.types import StructType,StructField,StringType,LongType,DoubleType,FloatType\n",
        "\n",
        "import statsmodels.tsa.api as sm\n",
        "import numpy as np\n",
        "import pandas as pd"
      ],
      "execution_count": 10,
      "outputs": [
        {
          "output_type": "stream",
          "text": [
            "/usr/local/lib/python3.7/dist-packages/statsmodels/tools/_testing.py:19: FutureWarning:\n",
            "\n",
            "pandas.util.testing is deprecated. Use the functions in the public API at pandas.testing instead.\n",
            "\n"
          ],
          "name": "stderr"
        }
      ]
    },
    {
      "cell_type": "code",
      "metadata": {
        "colab": {
          "base_uri": "https://localhost:8080/",
          "height": 272
        },
        "id": "RGyYS0v6hOxv",
        "outputId": "efe04e99-be07-4deb-bb6f-732fa3bf3920"
      },
      "source": [
        "aqi_list = []\n",
        "for i in range(2000, 2020):\n",
        "  df = pd.read_csv('/content/drive/MyDrive/Colab Notebooks/CC_Project/Data/daily_aqi_by_county_{}.csv'.format(str(i)))\n",
        "  aqi_list.append(df)\n",
        "\n",
        "aqi_df= pd.concat(aqi_list)\n",
        "aqi_df.head()"
      ],
      "execution_count": 12,
      "outputs": [
        {
          "output_type": "stream",
          "text": [
            "/usr/local/lib/python3.7/dist-packages/IPython/core/interactiveshell.py:2718: DtypeWarning:\n",
            "\n",
            "Columns (2) have mixed types.Specify dtype option on import or set low_memory=False.\n",
            "\n"
          ],
          "name": "stderr"
        },
        {
          "output_type": "execute_result",
          "data": {
            "text/html": [
              "<div>\n",
              "<style scoped>\n",
              "    .dataframe tbody tr th:only-of-type {\n",
              "        vertical-align: middle;\n",
              "    }\n",
              "\n",
              "    .dataframe tbody tr th {\n",
              "        vertical-align: top;\n",
              "    }\n",
              "\n",
              "    .dataframe thead th {\n",
              "        text-align: right;\n",
              "    }\n",
              "</style>\n",
              "<table border=\"1\" class=\"dataframe\">\n",
              "  <thead>\n",
              "    <tr style=\"text-align: right;\">\n",
              "      <th></th>\n",
              "      <th>State Name</th>\n",
              "      <th>county Name</th>\n",
              "      <th>State Code</th>\n",
              "      <th>County Code</th>\n",
              "      <th>Date</th>\n",
              "      <th>AQI</th>\n",
              "      <th>Category</th>\n",
              "      <th>Defining Parameter</th>\n",
              "      <th>Defining Site</th>\n",
              "      <th>Number of Sites Reporting</th>\n",
              "    </tr>\n",
              "  </thead>\n",
              "  <tbody>\n",
              "    <tr>\n",
              "      <th>0</th>\n",
              "      <td>Alabama</td>\n",
              "      <td>Baldwin</td>\n",
              "      <td>01</td>\n",
              "      <td>3</td>\n",
              "      <td>2000-01-16</td>\n",
              "      <td>25</td>\n",
              "      <td>Good</td>\n",
              "      <td>PM2.5</td>\n",
              "      <td>01-003-0010</td>\n",
              "      <td>1</td>\n",
              "    </tr>\n",
              "    <tr>\n",
              "      <th>1</th>\n",
              "      <td>Alabama</td>\n",
              "      <td>Baldwin</td>\n",
              "      <td>01</td>\n",
              "      <td>3</td>\n",
              "      <td>2000-01-19</td>\n",
              "      <td>46</td>\n",
              "      <td>Good</td>\n",
              "      <td>PM2.5</td>\n",
              "      <td>01-003-0010</td>\n",
              "      <td>1</td>\n",
              "    </tr>\n",
              "    <tr>\n",
              "      <th>2</th>\n",
              "      <td>Alabama</td>\n",
              "      <td>Baldwin</td>\n",
              "      <td>01</td>\n",
              "      <td>3</td>\n",
              "      <td>2000-01-22</td>\n",
              "      <td>36</td>\n",
              "      <td>Good</td>\n",
              "      <td>PM2.5</td>\n",
              "      <td>01-003-0010</td>\n",
              "      <td>1</td>\n",
              "    </tr>\n",
              "    <tr>\n",
              "      <th>3</th>\n",
              "      <td>Alabama</td>\n",
              "      <td>Baldwin</td>\n",
              "      <td>01</td>\n",
              "      <td>3</td>\n",
              "      <td>2000-01-25</td>\n",
              "      <td>26</td>\n",
              "      <td>Good</td>\n",
              "      <td>PM2.5</td>\n",
              "      <td>01-003-0010</td>\n",
              "      <td>1</td>\n",
              "    </tr>\n",
              "    <tr>\n",
              "      <th>4</th>\n",
              "      <td>Alabama</td>\n",
              "      <td>Baldwin</td>\n",
              "      <td>01</td>\n",
              "      <td>3</td>\n",
              "      <td>2000-01-28</td>\n",
              "      <td>32</td>\n",
              "      <td>Good</td>\n",
              "      <td>PM2.5</td>\n",
              "      <td>01-003-0010</td>\n",
              "      <td>1</td>\n",
              "    </tr>\n",
              "  </tbody>\n",
              "</table>\n",
              "</div>"
            ],
            "text/plain": [
              "  State Name county Name  ... Defining Site  Number of Sites Reporting\n",
              "0    Alabama     Baldwin  ...   01-003-0010                          1\n",
              "1    Alabama     Baldwin  ...   01-003-0010                          1\n",
              "2    Alabama     Baldwin  ...   01-003-0010                          1\n",
              "3    Alabama     Baldwin  ...   01-003-0010                          1\n",
              "4    Alabama     Baldwin  ...   01-003-0010                          1\n",
              "\n",
              "[5 rows x 10 columns]"
            ]
          },
          "metadata": {
            "tags": []
          },
          "execution_count": 12
        }
      ]
    },
    {
      "cell_type": "code",
      "metadata": {
        "id": "ozddyvXinDBI"
      },
      "source": [
        "# converting the col names into lowercase\n",
        "aqi_df = aqi_df.rename(columns={\"State Name\" : \"state_name\", \"county Name\" : \"county_name\", \"State Code\" : \"state_code\", \"County Code\" : \"county_code\", \"Date\" : \"date\", \"AQI\" : \"aqi\", \"Category\" : \"category\", \"Defining Parameter\" : \"defining_parameter\", \"Defining Site\" : \"defining_site\", \"Number of Sites Reporting\" : \"num_of_sites_reporting\"})"
      ],
      "execution_count": 13,
      "outputs": []
    },
    {
      "cell_type": "code",
      "metadata": {
        "colab": {
          "base_uri": "https://localhost:8080/",
          "height": 204
        },
        "id": "p435_MYdkLOm",
        "outputId": "f15bf7e1-d961-4b8a-c7d9-60b477ec483b"
      },
      "source": [
        "aqi_df.head()"
      ],
      "execution_count": 14,
      "outputs": [
        {
          "output_type": "execute_result",
          "data": {
            "text/html": [
              "<div>\n",
              "<style scoped>\n",
              "    .dataframe tbody tr th:only-of-type {\n",
              "        vertical-align: middle;\n",
              "    }\n",
              "\n",
              "    .dataframe tbody tr th {\n",
              "        vertical-align: top;\n",
              "    }\n",
              "\n",
              "    .dataframe thead th {\n",
              "        text-align: right;\n",
              "    }\n",
              "</style>\n",
              "<table border=\"1\" class=\"dataframe\">\n",
              "  <thead>\n",
              "    <tr style=\"text-align: right;\">\n",
              "      <th></th>\n",
              "      <th>state_name</th>\n",
              "      <th>county_name</th>\n",
              "      <th>state_code</th>\n",
              "      <th>county_code</th>\n",
              "      <th>date</th>\n",
              "      <th>aqi</th>\n",
              "      <th>category</th>\n",
              "      <th>defining_parameter</th>\n",
              "      <th>defining_site</th>\n",
              "      <th>num_of_sites_reporting</th>\n",
              "    </tr>\n",
              "  </thead>\n",
              "  <tbody>\n",
              "    <tr>\n",
              "      <th>0</th>\n",
              "      <td>Alabama</td>\n",
              "      <td>Baldwin</td>\n",
              "      <td>01</td>\n",
              "      <td>3</td>\n",
              "      <td>2000-01-16</td>\n",
              "      <td>25</td>\n",
              "      <td>Good</td>\n",
              "      <td>PM2.5</td>\n",
              "      <td>01-003-0010</td>\n",
              "      <td>1</td>\n",
              "    </tr>\n",
              "    <tr>\n",
              "      <th>1</th>\n",
              "      <td>Alabama</td>\n",
              "      <td>Baldwin</td>\n",
              "      <td>01</td>\n",
              "      <td>3</td>\n",
              "      <td>2000-01-19</td>\n",
              "      <td>46</td>\n",
              "      <td>Good</td>\n",
              "      <td>PM2.5</td>\n",
              "      <td>01-003-0010</td>\n",
              "      <td>1</td>\n",
              "    </tr>\n",
              "    <tr>\n",
              "      <th>2</th>\n",
              "      <td>Alabama</td>\n",
              "      <td>Baldwin</td>\n",
              "      <td>01</td>\n",
              "      <td>3</td>\n",
              "      <td>2000-01-22</td>\n",
              "      <td>36</td>\n",
              "      <td>Good</td>\n",
              "      <td>PM2.5</td>\n",
              "      <td>01-003-0010</td>\n",
              "      <td>1</td>\n",
              "    </tr>\n",
              "    <tr>\n",
              "      <th>3</th>\n",
              "      <td>Alabama</td>\n",
              "      <td>Baldwin</td>\n",
              "      <td>01</td>\n",
              "      <td>3</td>\n",
              "      <td>2000-01-25</td>\n",
              "      <td>26</td>\n",
              "      <td>Good</td>\n",
              "      <td>PM2.5</td>\n",
              "      <td>01-003-0010</td>\n",
              "      <td>1</td>\n",
              "    </tr>\n",
              "    <tr>\n",
              "      <th>4</th>\n",
              "      <td>Alabama</td>\n",
              "      <td>Baldwin</td>\n",
              "      <td>01</td>\n",
              "      <td>3</td>\n",
              "      <td>2000-01-28</td>\n",
              "      <td>32</td>\n",
              "      <td>Good</td>\n",
              "      <td>PM2.5</td>\n",
              "      <td>01-003-0010</td>\n",
              "      <td>1</td>\n",
              "    </tr>\n",
              "  </tbody>\n",
              "</table>\n",
              "</div>"
            ],
            "text/plain": [
              "  state_name county_name  ... defining_site  num_of_sites_reporting\n",
              "0    Alabama     Baldwin  ...   01-003-0010                       1\n",
              "1    Alabama     Baldwin  ...   01-003-0010                       1\n",
              "2    Alabama     Baldwin  ...   01-003-0010                       1\n",
              "3    Alabama     Baldwin  ...   01-003-0010                       1\n",
              "4    Alabama     Baldwin  ...   01-003-0010                       1\n",
              "\n",
              "[5 rows x 10 columns]"
            ]
          },
          "metadata": {
            "tags": []
          },
          "execution_count": 14
        }
      ]
    },
    {
      "cell_type": "code",
      "metadata": {
        "id": "-B8yr738kOuS"
      },
      "source": [
        "aqi_df['date'] = pd.to_datetime(aqi_df['date'], infer_datetime_format= True)"
      ],
      "execution_count": 15,
      "outputs": []
    },
    {
      "cell_type": "code",
      "metadata": {
        "colab": {
          "base_uri": "https://localhost:8080/"
        },
        "id": "x7NJZQGFkOsQ",
        "outputId": "bdb6019f-c1db-4bb8-9a8b-c7a81de23ae3"
      },
      "source": [
        "aqi_df.info()"
      ],
      "execution_count": 16,
      "outputs": [
        {
          "output_type": "stream",
          "text": [
            "<class 'pandas.core.frame.DataFrame'>\n",
            "Int64Index: 6489592 entries, 0 to 341944\n",
            "Data columns (total 10 columns):\n",
            " #   Column                  Dtype         \n",
            "---  ------                  -----         \n",
            " 0   state_name              object        \n",
            " 1   county_name             object        \n",
            " 2   state_code              object        \n",
            " 3   county_code             int64         \n",
            " 4   date                    datetime64[ns]\n",
            " 5   aqi                     int64         \n",
            " 6   category                object        \n",
            " 7   defining_parameter      object        \n",
            " 8   defining_site           object        \n",
            " 9   num_of_sites_reporting  int64         \n",
            "dtypes: datetime64[ns](1), int64(3), object(6)\n",
            "memory usage: 544.6+ MB\n"
          ],
          "name": "stdout"
        }
      ]
    },
    {
      "cell_type": "code",
      "metadata": {
        "colab": {
          "base_uri": "https://localhost:8080/"
        },
        "id": "XFfV_8kpkOqG",
        "outputId": "6663c2d0-135e-4a3d-cb51-8dd2da9ded5e"
      },
      "source": [
        "print(\"\\n Missing values: \", aqi_df.isnull().any())\n",
        "print(\"\\n Unique values: \", aqi_df.nunique())"
      ],
      "execution_count": 17,
      "outputs": [
        {
          "output_type": "stream",
          "text": [
            "\n",
            " Missing values:  state_name                False\n",
            "county_name               False\n",
            "state_code                False\n",
            "county_code               False\n",
            "date                      False\n",
            "aqi                       False\n",
            "category                  False\n",
            "defining_parameter        False\n",
            "defining_site             False\n",
            "num_of_sites_reporting    False\n",
            "dtype: bool\n",
            "\n",
            " Unique values:  state_name                  55\n",
            "county_name               1004\n",
            "state_code                  69\n",
            "county_code                190\n",
            "date                      7305\n",
            "aqi                        812\n",
            "category                     6\n",
            "defining_parameter           6\n",
            "defining_site             4762\n",
            "num_of_sites_reporting      39\n",
            "dtype: int64\n"
          ],
          "name": "stdout"
        }
      ]
    },
    {
      "cell_type": "code",
      "metadata": {
        "id": "uNUp1mnMomfe"
      },
      "source": [
        "plot_df = aqi_df.set_index('date')"
      ],
      "execution_count": 18,
      "outputs": []
    },
    {
      "cell_type": "code",
      "metadata": {
        "colab": {
          "base_uri": "https://localhost:8080/"
        },
        "id": "AmMUmG8ekOnr",
        "outputId": "4abfdad5-02ba-423a-b6d1-5838e20ad06f"
      },
      "source": [
        "plot_df['county_code'].value_counts()"
      ],
      "execution_count": 19,
      "outputs": [
        {
          "output_type": "execute_result",
          "data": {
            "text/plain": [
              "3      178501\n",
              "1      173166\n",
              "13     152711\n",
              "5      149643\n",
              "33     124552\n",
              "        ...  \n",
              "235       132\n",
              "232       125\n",
              "211       107\n",
              "130        90\n",
              "188        21\n",
              "Name: county_code, Length: 190, dtype: int64"
            ]
          },
          "metadata": {
            "tags": []
          },
          "execution_count": 19
        }
      ]
    },
    {
      "cell_type": "code",
      "metadata": {
        "colab": {
          "base_uri": "https://localhost:8080/",
          "height": 482
        },
        "id": "mdnG-59ZkOlR",
        "outputId": "02bafa62-fab6-4221-f17f-7e76be8e1eaa"
      },
      "source": [
        "plot_df.query(\"county_code == 3\")[['aqi']].plot()"
      ],
      "execution_count": 20,
      "outputs": [
        {
          "output_type": "execute_result",
          "data": {
            "text/plain": [
              "<matplotlib.axes._subplots.AxesSubplot at 0x7f8ef8aef150>"
            ]
          },
          "metadata": {
            "tags": []
          },
          "execution_count": 20
        },
        {
          "output_type": "display_data",
          "data": {
            "image/png": "[encoded data removed]",
            "text/plain": [
              "<Figure size 720x576 with 1 Axes>"
            ]
          },
          "metadata": {
            "tags": [],
            "needs_background": "light"
          }
        }
      ]
    },
    {
      "cell_type": "code",
      "metadata": {
        "colab": {
          "base_uri": "https://localhost:8080/",
          "height": 486
        },
        "id": "VJma5aQSkOix",
        "outputId": "4919fed4-0136-4199-8c6b-12f1a25d0825"
      },
      "source": [
        "plot_df.query(\"county_code == 5\")[['aqi']].plot()"
      ],
      "execution_count": 21,
      "outputs": [
        {
          "output_type": "execute_result",
          "data": {
            "text/plain": [
              "<matplotlib.axes._subplots.AxesSubplot at 0x7f8ef81f44d0>"
            ]
          },
          "metadata": {
            "tags": []
          },
          "execution_count": 21
        },
        {
          "output_type": "display_data",
          "data": {
            "image/png": "[encoded data removed]",
            "text/plain": [
              "<Figure size 720x576 with 1 Axes>"
            ]
          },
          "metadata": {
            "tags": [],
            "needs_background": "light"
          }
        }
      ]
    },
    {
      "cell_type": "code",
      "metadata": {
        "colab": {
          "base_uri": "https://localhost:8080/",
          "height": 501
        },
        "id": "cZUu7f8IkOgM",
        "outputId": "f0c20514-fe6d-4f0b-aaf7-dedd85c4c024"
      },
      "source": [
        "plot_df.query(\"county_code == 211\")[['aqi']].plot()"
      ],
      "execution_count": 22,
      "outputs": [
        {
          "output_type": "execute_result",
          "data": {
            "text/plain": [
              "<matplotlib.axes._subplots.AxesSubplot at 0x7f8ef7655dd0>"
            ]
          },
          "metadata": {
            "tags": []
          },
          "execution_count": 22
        },
        {
          "output_type": "display_data",
          "data": {
            "image/png": "[encoded data removed]",
            "text/plain": [
              "<Figure size 720x576 with 1 Axes>"
            ]
          },
          "metadata": {
            "tags": [],
            "needs_background": "light"
          }
        }
      ]
    },
    {
      "cell_type": "code",
      "metadata": {
        "colab": {
          "base_uri": "https://localhost:8080/"
        },
        "id": "xtQwRqwZyauI",
        "outputId": "cdd69391-3772-47cc-95b3-d6b881815398"
      },
      "source": [
        "df = spark.read.csv(\"/content/drive/MyDrive/Colab Notebooks/CC_Project/Data/*.csv\", header=True)\n",
        "df.show(5)"
      ],
      "execution_count": 23,
      "outputs": [
        {
          "output_type": "stream",
          "text": [
            "+----------+-----------+----------+-----------+----------+---+--------+------------------+-------------+-------------------------+\n",
            "|State Name|county Name|State Code|County Code|      Date|AQI|Category|Defining Parameter|Defining Site|Number of Sites Reporting|\n",
            "+----------+-----------+----------+-----------+----------+---+--------+------------------+-------------+-------------------------+\n",
            "|   Alabama|    Baldwin|        01|        003|2018-01-02| 32|    Good|             PM2.5|  01-003-0010|                        1|\n",
            "|   Alabama|    Baldwin|        01|        003|2018-01-05| 34|    Good|             PM2.5|  01-003-0010|                        1|\n",
            "|   Alabama|    Baldwin|        01|        003|2018-01-08| 15|    Good|             PM2.5|  01-003-0010|                        1|\n",
            "|   Alabama|    Baldwin|        01|        003|2018-01-11| 19|    Good|             PM2.5|  01-003-0010|                        1|\n",
            "|   Alabama|    Baldwin|        01|        003|2018-01-14| 25|    Good|             PM2.5|  01-003-0010|                        1|\n",
            "+----------+-----------+----------+-----------+----------+---+--------+------------------+-------------+-------------------------+\n",
            "only showing top 5 rows\n",
            "\n"
          ],
          "name": "stdout"
        }
      ]
    },
    {
      "cell_type": "code",
      "metadata": {
        "colab": {
          "base_uri": "https://localhost:8080/"
        },
        "id": "1TKsrEJuLn8g",
        "outputId": "4d296885-fc8b-440d-803e-f69ee843e9f7"
      },
      "source": [
        "df.printSchema()"
      ],
      "execution_count": 24,
      "outputs": [
        {
          "output_type": "stream",
          "text": [
            "root\n",
            " |-- State Name: string (nullable = true)\n",
            " |-- county Name: string (nullable = true)\n",
            " |-- State Code: string (nullable = true)\n",
            " |-- County Code: string (nullable = true)\n",
            " |-- Date: string (nullable = true)\n",
            " |-- AQI: string (nullable = true)\n",
            " |-- Category: string (nullable = true)\n",
            " |-- Defining Parameter: string (nullable = true)\n",
            " |-- Defining Site: string (nullable = true)\n",
            " |-- Number of Sites Reporting: string (nullable = true)\n",
            "\n"
          ],
          "name": "stdout"
        }
      ]
    },
    {
      "cell_type": "code",
      "metadata": {
        "colab": {
          "base_uri": "https://localhost:8080/"
        },
        "id": "0O4WTM1MPsyI",
        "outputId": "559de01e-ad5b-4080-cacd-e9ba6fddce47"
      },
      "source": [
        "df.show(5)"
      ],
      "execution_count": 25,
      "outputs": [
        {
          "output_type": "stream",
          "text": [
            "+----------+-----------+----------+-----------+----------+---+--------+------------------+-------------+-------------------------+\n",
            "|State Name|county Name|State Code|County Code|      Date|AQI|Category|Defining Parameter|Defining Site|Number of Sites Reporting|\n",
            "+----------+-----------+----------+-----------+----------+---+--------+------------------+-------------+-------------------------+\n",
            "|   Alabama|    Baldwin|        01|        003|2018-01-02| 32|    Good|             PM2.5|  01-003-0010|                        1|\n",
            "|   Alabama|    Baldwin|        01|        003|2018-01-05| 34|    Good|             PM2.5|  01-003-0010|                        1|\n",
            "|   Alabama|    Baldwin|        01|        003|2018-01-08| 15|    Good|             PM2.5|  01-003-0010|                        1|\n",
            "|   Alabama|    Baldwin|        01|        003|2018-01-11| 19|    Good|             PM2.5|  01-003-0010|                        1|\n",
            "|   Alabama|    Baldwin|        01|        003|2018-01-14| 25|    Good|             PM2.5|  01-003-0010|                        1|\n",
            "+----------+-----------+----------+-----------+----------+---+--------+------------------+-------------+-------------------------+\n",
            "only showing top 5 rows\n",
            "\n"
          ],
          "name": "stdout"
        }
      ]
    },
    {
      "cell_type": "code",
      "metadata": {
        "colab": {
          "base_uri": "https://localhost:8080/"
        },
        "id": "XiDWXsQ4SZtO",
        "outputId": "2b779eeb-1a13-46ec-c561-12cb67d4ff66"
      },
      "source": [
        "state_df = df.filter(df['State Name'] == \"California\")\n",
        "cal_aqi = state_df.orderBy(\"Date\")\n",
        "cal_aqi.show(5)"
      ],
      "execution_count": 26,
      "outputs": [
        {
          "output_type": "stream",
          "text": [
            "+----------+------------+----------+-----------+----------+---+--------------------+------------------+-------------+-------------------------+\n",
            "|State Name| county Name|State Code|County Code|      Date|AQI|            Category|Defining Parameter|Defining Site|Number of Sites Reporting|\n",
            "+----------+------------+----------+-----------+----------+---+--------------------+------------------+-------------+-------------------------+\n",
            "|California|   El Dorado|        06|        017|1980-01-01|106|Unhealthy for Sen...|                CO|  06-017-0007|                        4|\n",
            "|California|     Alameda|        06|        001|1980-01-01| 57|            Moderate|               NO2|  06-001-0004|                        5|\n",
            "|California|       Glenn|        06|        021|1980-01-01| 20|                Good|             Ozone|  06-021-0001|                        1|\n",
            "|California|       Butte|        06|        007|1980-01-01| 19|                Good|               NO2|  06-007-0002|                        2|\n",
            "|California|Contra Costa|        06|        013|1980-01-01| 57|            Moderate|               NO2|  06-013-0003|                        7|\n",
            "+----------+------------+----------+-----------+----------+---+--------------------+------------------+-------------+-------------------------+\n",
            "only showing top 5 rows\n",
            "\n"
          ],
          "name": "stdout"
        }
      ]
    },
    {
      "cell_type": "code",
      "metadata": {
        "colab": {
          "base_uri": "https://localhost:8080/"
        },
        "id": "NKJR3kRE0pLr",
        "outputId": "ddb51460-793b-4229-cbaa-9ea2e1ef8838"
      },
      "source": [
        "cali_df = cal_aqi.select('State Name', 'State Code', 'County Name', 'County Code', 'Date', 'AQI', 'Defining Parameter', 'Category')\n",
        "cali_df.show(5)"
      ],
      "execution_count": 27,
      "outputs": [
        {
          "output_type": "stream",
          "text": [
            "+----------+----------+------------+-----------+----------+---+------------------+--------------------+\n",
            "|State Name|State Code| County Name|County Code|      Date|AQI|Defining Parameter|            Category|\n",
            "+----------+----------+------------+-----------+----------+---+------------------+--------------------+\n",
            "|California|        06|   El Dorado|        017|1980-01-01|106|                CO|Unhealthy for Sen...|\n",
            "|California|        06|     Alameda|        001|1980-01-01| 57|               NO2|            Moderate|\n",
            "|California|        06|       Glenn|        021|1980-01-01| 20|             Ozone|                Good|\n",
            "|California|        06|       Butte|        007|1980-01-01| 19|               NO2|                Good|\n",
            "|California|        06|Contra Costa|        013|1980-01-01| 57|               NO2|            Moderate|\n",
            "+----------+----------+------------+-----------+----------+---+------------------+--------------------+\n",
            "only showing top 5 rows\n",
            "\n"
          ],
          "name": "stdout"
        }
      ]
    },
    {
      "cell_type": "code",
      "metadata": {
        "colab": {
          "base_uri": "https://localhost:8080/"
        },
        "id": "S3o_quTSsYwh",
        "outputId": "d7c82ab4-2765-47f7-f1fb-81da6f432e8c"
      },
      "source": [
        "spark_aqi_df = df.withColumnRenamed(\"State Name\",\"state_name\") \\\n",
        "    .withColumnRenamed(\"State Code\",\"state_code\") \\\n",
        "    .withColumnRenamed(\"County Name\",\"county_name\") \\\n",
        "    .withColumnRenamed(\"County Code\",\"county_code\") \\\n",
        "    .withColumnRenamed(\"Date\",\"date\") \\\n",
        "    .withColumnRenamed(\"AQI\",\"aqi\") \\\n",
        "    .withColumnRenamed(\"Defining Parameter\",\"defining_parameter\") \\\n",
        "    .withColumnRenamed(\"Category\",\"category\")\n",
        "\n",
        "spark_aqi_df.take(5)"
      ],
      "execution_count": 28,
      "outputs": [
        {
          "output_type": "execute_result",
          "data": {
            "text/plain": [
              "[Row(state_name='Alabama', county_name='Baldwin', state_code='01', county_code='003', date='2018-01-02', aqi='32', category='Good', defining_parameter='PM2.5', Defining Site='01-003-0010', Number of Sites Reporting='1'),\n",
              " Row(state_name='Alabama', county_name='Baldwin', state_code='01', county_code='003', date='2018-01-05', aqi='34', category='Good', defining_parameter='PM2.5', Defining Site='01-003-0010', Number of Sites Reporting='1'),\n",
              " Row(state_name='Alabama', county_name='Baldwin', state_code='01', county_code='003', date='2018-01-08', aqi='15', category='Good', defining_parameter='PM2.5', Defining Site='01-003-0010', Number of Sites Reporting='1'),\n",
              " Row(state_name='Alabama', county_name='Baldwin', state_code='01', county_code='003', date='2018-01-11', aqi='19', category='Good', defining_parameter='PM2.5', Defining Site='01-003-0010', Number of Sites Reporting='1'),\n",
              " Row(state_name='Alabama', county_name='Baldwin', state_code='01', county_code='003', date='2018-01-14', aqi='25', category='Good', defining_parameter='PM2.5', Defining Site='01-003-0010', Number of Sites Reporting='1')]"
            ]
          },
          "metadata": {
            "tags": []
          },
          "execution_count": 28
        }
      ]
    },
    {
      "cell_type": "code",
      "metadata": {
        "id": "Dh8jU1FUxYkA"
      },
      "source": [
        "# converting the Date column datatype from string -> timestamp\n",
        "spark_aqi_df = spark_aqi_df.withColumn(\"date\", spark_aqi_df[\"date\"].cast(TimestampType()))"
      ],
      "execution_count": 29,
      "outputs": []
    },
    {
      "cell_type": "code",
      "metadata": {
        "colab": {
          "base_uri": "https://localhost:8080/"
        },
        "id": "kfwYunDVybGC",
        "outputId": "853dae5f-d04f-4c11-a0a4-141cf511811d"
      },
      "source": [
        "spark_aqi_df.schema"
      ],
      "execution_count": 30,
      "outputs": [
        {
          "output_type": "execute_result",
          "data": {
            "text/plain": [
              "StructType(List(StructField(state_name,StringType,true),StructField(county_name,StringType,true),StructField(state_code,StringType,true),StructField(county_code,StringType,true),StructField(date,TimestampType,true),StructField(aqi,StringType,true),StructField(category,StringType,true),StructField(defining_parameter,StringType,true),StructField(Defining Site,StringType,true),StructField(Number of Sites Reporting,StringType,true)))"
            ]
          },
          "metadata": {
            "tags": []
          },
          "execution_count": 30
        }
      ]
    },
    {
      "cell_type": "code",
      "metadata": {
        "id": "N-UVw6khtXKo"
      },
      "source": [
        "spark_aqi_df.createOrReplaceTempView(\"aqi\")"
      ],
      "execution_count": 31,
      "outputs": []
    },
    {
      "cell_type": "code",
      "metadata": {
        "colab": {
          "base_uri": "https://localhost:8080/"
        },
        "id": "lIAdPfG-tXIb",
        "outputId": "bdfb4c1f-bac2-4d26-823b-95407ea93e41"
      },
      "source": [
        "sql_df = spark.sql('SELECT county_code, date as ds, sum(aqi) as y FROM aqi GROUP BY county_code, date ORDER BY county_code, date')\n",
        "sql_df.show()"
      ],
      "execution_count": 32,
      "outputs": [
        {
          "output_type": "stream",
          "text": [
            "+-----------+-------------------+------+\n",
            "|county_code|                 ds|     y|\n",
            "+-----------+-------------------+------+\n",
            "|        001|1980-01-01 00:00:00| 691.0|\n",
            "|        001|1980-01-02 00:00:00| 986.0|\n",
            "|        001|1980-01-03 00:00:00|1055.0|\n",
            "|        001|1980-01-04 00:00:00| 823.0|\n",
            "|        001|1980-01-05 00:00:00| 818.0|\n",
            "|        001|1980-01-06 00:00:00| 873.0|\n",
            "|        001|1980-01-07 00:00:00| 626.0|\n",
            "|        001|1980-01-08 00:00:00| 932.0|\n",
            "|        001|1980-01-09 00:00:00|1024.0|\n",
            "|        001|1980-01-10 00:00:00| 973.0|\n",
            "|        001|1980-01-11 00:00:00| 543.0|\n",
            "|        001|1980-01-12 00:00:00| 678.0|\n",
            "|        001|1980-01-13 00:00:00| 659.0|\n",
            "|        001|1980-01-14 00:00:00| 588.0|\n",
            "|        001|1980-01-15 00:00:00| 580.0|\n",
            "|        001|1980-01-16 00:00:00| 757.0|\n",
            "|        001|1980-01-17 00:00:00| 660.0|\n",
            "|        001|1980-01-18 00:00:00| 832.0|\n",
            "|        001|1980-01-19 00:00:00| 747.0|\n",
            "|        001|1980-01-20 00:00:00| 571.0|\n",
            "+-----------+-------------------+------+\n",
            "only showing top 20 rows\n",
            "\n"
          ],
          "name": "stdout"
        }
      ]
    },
    {
      "cell_type": "code",
      "metadata": {
        "id": "QLWbz9KY6ZxF"
      },
      "source": [
        "aqi_part = (sql_df.repartition(spark.sparkContext.defaultParallelism, ['county_code'])).cache()"
      ],
      "execution_count": 33,
      "outputs": []
    },
    {
      "cell_type": "markdown",
      "metadata": {
        "id": "EKptK7U4YovP"
      },
      "source": [
        "**Training the Model**"
      ]
    },
    {
      "cell_type": "code",
      "metadata": {
        "colab": {
          "base_uri": "https://localhost:8080/"
        },
        "id": "WYPIeAiX66tN",
        "outputId": "1b84d789-dd2e-4e35-c9e8-1cdf2552c6c8"
      },
      "source": [
        "aqi_part.explain()"
      ],
      "execution_count": 34,
      "outputs": [
        {
          "output_type": "stream",
          "text": [
            "== Physical Plan ==\n",
            "InMemoryTableScan [county_code#271, ds#347, y#348]\n",
            "   +- InMemoryRelation [county_code#271, ds#347, y#348], StorageLevel(disk, memory, deserialized, 1 replicas)\n",
            "         +- Exchange hashpartitioning(county_code#271, 2), false, [id=#141]\n",
            "            +- *(3) Sort [county_code#271 ASC NULLS FIRST, ds#347 ASC NULLS FIRST], true, 0\n",
            "               +- Exchange rangepartitioning(county_code#271 ASC NULLS FIRST, ds#347 ASC NULLS FIRST, 200), true, [id=#137]\n",
            "                  +- *(2) HashAggregate(keys=[county_code#271, date#336], functions=[sum(cast(aqi#293 as double))])\n",
            "                     +- Exchange hashpartitioning(county_code#271, date#336, 200), true, [id=#133]\n",
            "                        +- *(1) HashAggregate(keys=[county_code#271, date#336], functions=[partial_sum(cast(aqi#293 as double))])\n",
            "                           +- *(1) Project [County Code#19 AS county_code#271, cast(Date#20 as timestamp) AS date#336, AQI#21 AS aqi#293]\n",
            "                              +- FileScan csv [County Code#19,Date#20,AQI#21] Batched: false, DataFilters: [], Format: CSV, Location: InMemoryFileIndex[file:/content/drive/MyDrive/Colab Notebooks/CC_Project/Data/daily_aqi_by_county..., PartitionFilters: [], PushedFilters: [], ReadSchema: struct<County Code:string,Date:string,AQI:string>\n",
            "\n",
            "\n"
          ],
          "name": "stdout"
        }
      ]
    },
    {
      "cell_type": "code",
      "metadata": {
        "id": "lGCgEqPlmIKa"
      },
      "source": [
        "schema = StructType([\n",
        "                     StructField('ds', TimestampType()),\n",
        "                     StructField('county_code', StringType()),\n",
        "                     StructField('y', DoubleType()),\n",
        "                     StructField('yhat', DoubleType()),\n",
        "                     StructField('yhat_upper', DoubleType()),\n",
        "                     StructField('yhat_lower', DoubleType())\n",
        "                     ])\n",
        "\n"
      ],
      "execution_count": 61,
      "outputs": []
    },
    {
      "cell_type": "code",
      "metadata": {
        "id": "ViKAeTv32V4o"
      },
      "source": [
        "@pandas_udf(schema, PandasUDFType.GROUPED_MAP)\n",
        "\n",
        "def forecast_aqi(pd_aqi):\n",
        "  aqi_model = Prophet(\n",
        "      interval_width=0.95, \n",
        "      seasonality_mode='multiplicative', \n",
        "      weekly_seasonality=True, \n",
        "      yearly_seasonality=True)\n",
        "  \n",
        "  print(aqi_model.history)\n",
        "  aqi_model.fit(pd_aqi)\n",
        "\n",
        "  future_pd = aqi_model.make_future_dataframe(periods=5, freq='w')\n",
        "\n",
        "  forecast_pd = aqi_model.predict(future_pd)\n",
        "  print(forecast_pd)\n",
        "  \n",
        "  f_pd = forecast_pd[['ds','yhat','yhat_upper','yhat_lower']].set_index('ds')\n",
        "  aq_pd = pd_aqi[['ds', 'county_code', 'y']].set_index('ds')\n",
        "\n",
        "  results_pd = f_pd.join(aq_pd, how=\"left\")\n",
        "  results_pd.reset_index(level=0, inplace=True)\n",
        "\n",
        "  results_pd['county_code'] = pd_aqi['county_code'].iloc[0]\n",
        "\n",
        "  return results_pd[['ds', 'county_code', 'y', 'yhat', 'yhat_upper', 'yhat_lower']]"
      ],
      "execution_count": 62,
      "outputs": []
    },
    {
      "cell_type": "code",
      "metadata": {
        "colab": {
          "base_uri": "https://localhost:8080/"
        },
        "id": "ri_5ivRE2V1U",
        "outputId": "07f73f0f-b061-4dd3-c461-b1e9c13b22ba"
      },
      "source": [
        "aqi_result = (\n",
        "    aqi_part\n",
        "    .groupBy('county_code')\n",
        "    .apply(forecast_aqi)\n",
        "    .withColumn('training_date', current_date())\n",
        ")"
      ],
      "execution_count": 63,
      "outputs": [
        {
          "output_type": "stream",
          "text": [
            "spark-3.0.2-bin-hadoop3.2/python/pyspark/sql/pandas/group_ops.py:76: UserWarning:\n",
            "\n",
            "It is preferred to use 'applyInPandas' over this API. This API will be deprecated in the future releases. See SPARK-28264 for more details.\n",
            "\n"
          ],
          "name": "stderr"
        }
      ]
    },
    {
      "cell_type": "code",
      "metadata": {
        "colab": {
          "base_uri": "https://localhost:8080/"
        },
        "id": "GY4aXF_b2Vyr",
        "outputId": "387c6742-3176-424c-cbcf-c200e2b6a563"
      },
      "source": [
        "aqi_result.cache()"
      ],
      "execution_count": 64,
      "outputs": [
        {
          "output_type": "execute_result",
          "data": {
            "text/plain": [
              "DataFrame[ds: timestamp, county_code: string, y: double, yhat: double, yhat_upper: double, yhat_lower: double, training_date: date]"
            ]
          },
          "metadata": {
            "tags": []
          },
          "execution_count": 64
        }
      ]
    },
    {
      "cell_type": "code",
      "metadata": {
        "colab": {
          "base_uri": "https://localhost:8080/"
        },
        "id": "0G3w1QEY2Vwv",
        "outputId": "14ffbb77-d911-40d3-cdbf-747c787ca150"
      },
      "source": [
        "aqi_result.show()"
      ],
      "execution_count": 65,
      "outputs": [
        {
          "output_type": "stream",
          "text": [
            "+-------------------+-----------+----+------------------+------------------+------------------+-------------+\n",
            "|                 ds|county_code|   y|              yhat|        yhat_upper|        yhat_lower|training_date|\n",
            "+-------------------+-----------+----+------------------+------------------+------------------+-------------+\n",
            "|1995-05-24 00:00:00|        004|67.0|41.862517003642644|  65.5430706530853|19.887667754686856|   2021-04-27|\n",
            "|1995-05-25 00:00:00|        004|34.0| 42.72316829249621|  64.6022893939113|20.128892622378032|   2021-04-27|\n",
            "|1995-05-26 00:00:00|        004|34.0|44.516858354081165| 68.71210306147735| 22.35510663892892|   2021-04-27|\n",
            "|1995-05-27 00:00:00|        004|33.0| 41.21181379992888| 64.82752717439806|18.870037726341103|   2021-04-27|\n",
            "|1995-05-28 00:00:00|        004|38.0| 40.92103055443147| 64.63068269754507| 17.77724663473228|   2021-04-27|\n",
            "|1995-05-29 00:00:00|        004|38.0|40.978121659188346|63.503939006810526| 17.90332191513656|   2021-04-27|\n",
            "|1995-05-30 00:00:00|        004|29.0| 41.86520055644508| 64.22296182366246| 20.37758893966695|   2021-04-27|\n",
            "|1995-05-31 00:00:00|        004|36.0| 41.99561810539123| 64.26131837680646|19.871661508518677|   2021-04-27|\n",
            "|1995-06-01 00:00:00|        004|93.0|42.696777138021076|  65.7439856774538|19.786146466486176|   2021-04-27|\n",
            "|1995-06-02 00:00:00|        004|97.0|44.299981399343615| 68.17029074463716|22.010601644633986|   2021-04-27|\n",
            "|1995-06-03 00:00:00|        004|42.0| 40.78131200320638| 62.97643880523965|18.382875717376848|   2021-04-27|\n",
            "|1995-06-04 00:00:00|        004|44.0|40.259381103136185| 63.57865690800675|19.008234871254835|   2021-04-27|\n",
            "|1995-06-05 00:00:00|        004|44.0| 40.07616054162416| 62.56144884648681| 17.79754547223252|   2021-04-27|\n",
            "|1995-06-06 00:00:00|        004|47.0| 40.72168457609869|62.143025014381585|17.439617000152815|   2021-04-27|\n",
            "|1995-06-07 00:00:00|        004|36.0|40.617617155209494| 65.63297623707287|17.145237878875594|   2021-04-27|\n",
            "|1995-06-08 00:00:00|        004|39.0|    41.09876134505|  61.8279877044293|17.875428682662424|   2021-04-27|\n",
            "|1995-06-09 00:00:00|        004|38.0| 42.50348084737599| 66.94473280603917|18.397299978556827|   2021-04-27|\n",
            "|1995-06-10 00:00:00|        004|40.0| 38.81547344646957|61.300230422101365|14.813580764092416|   2021-04-27|\n",
            "|1995-06-11 00:00:00|        004|32.0| 38.15702499491109| 60.73648963786733| 14.01417840726415|   2021-04-27|\n",
            "|1995-06-12 00:00:00|        004|29.0|37.874899381265195| 61.76620470494157|14.416671141042206|   2021-04-27|\n",
            "+-------------------+-----------+----+------------------+------------------+------------------+-------------+\n",
            "only showing top 20 rows\n",
            "\n"
          ],
          "name": "stdout"
        }
      ]
    },
    {
      "cell_type": "markdown",
      "metadata": {
        "id": "Xe-3ZvqKYsJN"
      },
      "source": [
        "**Predicting the future AQI Values**"
      ]
    },
    {
      "cell_type": "code",
      "metadata": {
        "colab": {
          "base_uri": "https://localhost:8080/"
        },
        "id": "ECOsMa_c2VuF",
        "outputId": "aafc96b7-e8e1-4520-b4d2-5e6fe9b303a2"
      },
      "source": [
        "aqi_result.count()"
      ],
      "execution_count": 66,
      "outputs": [
        {
          "output_type": "execute_result",
          "data": {
            "text/plain": [
              "2035707"
            ]
          },
          "metadata": {
            "tags": []
          },
          "execution_count": 66
        }
      ]
    },
    {
      "cell_type": "code",
      "metadata": {
        "id": "oDO_JRwGakh7"
      },
      "source": [
        "aqi_result.createOrReplaceTempView(\"forecast_aqi\")"
      ],
      "execution_count": 79,
      "outputs": []
    },
    {
      "cell_type": "code",
      "metadata": {
        "colab": {
          "base_uri": "https://localhost:8080/"
        },
        "id": "9GPyHcAsauCm",
        "outputId": "1dde88aa-a549-4e46-8386-7f4aa28e86a1"
      },
      "source": [
        "final_result_df = aqi_result.toPandas()\n",
        "type(final_result_df)"
      ],
      "execution_count": 91,
      "outputs": [
        {
          "output_type": "execute_result",
          "data": {
            "text/plain": [
              "pandas.core.frame.DataFrame"
            ]
          },
          "metadata": {
            "tags": []
          },
          "execution_count": 91
        }
      ]
    },
    {
      "cell_type": "code",
      "metadata": {
        "id": "l8gj10TDauA0"
      },
      "source": [
        "final_result_df = final_result_df.set_index('ds')"
      ],
      "execution_count": 92,
      "outputs": []
    },
    {
      "cell_type": "code",
      "metadata": {
        "colab": {
          "base_uri": "https://localhost:8080/",
          "height": 450
        },
        "id": "fKbnMaDvmH9k",
        "outputId": "8956dbde-1784-4c3f-b681-61ceb522cbad"
      },
      "source": [
        "final_result_df"
      ],
      "execution_count": 94,
      "outputs": [
        {
          "output_type": "execute_result",
          "data": {
            "text/html": [
              "<div>\n",
              "<style scoped>\n",
              "    .dataframe tbody tr th:only-of-type {\n",
              "        vertical-align: middle;\n",
              "    }\n",
              "\n",
              "    .dataframe tbody tr th {\n",
              "        vertical-align: top;\n",
              "    }\n",
              "\n",
              "    .dataframe thead th {\n",
              "        text-align: right;\n",
              "    }\n",
              "</style>\n",
              "<table border=\"1\" class=\"dataframe\">\n",
              "  <thead>\n",
              "    <tr style=\"text-align: right;\">\n",
              "      <th></th>\n",
              "      <th>county_code</th>\n",
              "      <th>y</th>\n",
              "      <th>yhat</th>\n",
              "      <th>yhat_upper</th>\n",
              "      <th>yhat_lower</th>\n",
              "      <th>training_date</th>\n",
              "    </tr>\n",
              "    <tr>\n",
              "      <th>ds</th>\n",
              "      <th></th>\n",
              "      <th></th>\n",
              "      <th></th>\n",
              "      <th></th>\n",
              "      <th></th>\n",
              "      <th></th>\n",
              "    </tr>\n",
              "  </thead>\n",
              "  <tbody>\n",
              "    <tr>\n",
              "      <th>1995-05-24</th>\n",
              "      <td>004</td>\n",
              "      <td>67.0</td>\n",
              "      <td>41.862517</td>\n",
              "      <td>65.543071</td>\n",
              "      <td>19.887668</td>\n",
              "      <td>2021-04-27</td>\n",
              "    </tr>\n",
              "    <tr>\n",
              "      <th>1995-05-25</th>\n",
              "      <td>004</td>\n",
              "      <td>34.0</td>\n",
              "      <td>42.723168</td>\n",
              "      <td>64.602289</td>\n",
              "      <td>20.128893</td>\n",
              "      <td>2021-04-27</td>\n",
              "    </tr>\n",
              "    <tr>\n",
              "      <th>1995-05-26</th>\n",
              "      <td>004</td>\n",
              "      <td>34.0</td>\n",
              "      <td>44.516858</td>\n",
              "      <td>68.712103</td>\n",
              "      <td>22.355107</td>\n",
              "      <td>2021-04-27</td>\n",
              "    </tr>\n",
              "    <tr>\n",
              "      <th>1995-05-27</th>\n",
              "      <td>004</td>\n",
              "      <td>33.0</td>\n",
              "      <td>41.211814</td>\n",
              "      <td>64.827527</td>\n",
              "      <td>18.870038</td>\n",
              "      <td>2021-04-27</td>\n",
              "    </tr>\n",
              "    <tr>\n",
              "      <th>1995-05-28</th>\n",
              "      <td>004</td>\n",
              "      <td>38.0</td>\n",
              "      <td>40.921031</td>\n",
              "      <td>64.630683</td>\n",
              "      <td>17.777247</td>\n",
              "      <td>2021-04-27</td>\n",
              "    </tr>\n",
              "    <tr>\n",
              "      <th>...</th>\n",
              "      <td>...</td>\n",
              "      <td>...</td>\n",
              "      <td>...</td>\n",
              "      <td>...</td>\n",
              "      <td>...</td>\n",
              "      <td>...</td>\n",
              "    </tr>\n",
              "    <tr>\n",
              "      <th>2020-10-04</th>\n",
              "      <td>840</td>\n",
              "      <td>NaN</td>\n",
              "      <td>6.489588</td>\n",
              "      <td>21.061663</td>\n",
              "      <td>-8.270917</td>\n",
              "      <td>2021-04-27</td>\n",
              "    </tr>\n",
              "    <tr>\n",
              "      <th>2020-10-11</th>\n",
              "      <td>840</td>\n",
              "      <td>NaN</td>\n",
              "      <td>6.581479</td>\n",
              "      <td>21.110171</td>\n",
              "      <td>-7.544153</td>\n",
              "      <td>2021-04-27</td>\n",
              "    </tr>\n",
              "    <tr>\n",
              "      <th>2020-10-18</th>\n",
              "      <td>840</td>\n",
              "      <td>NaN</td>\n",
              "      <td>6.794685</td>\n",
              "      <td>20.769463</td>\n",
              "      <td>-7.043763</td>\n",
              "      <td>2021-04-27</td>\n",
              "    </tr>\n",
              "    <tr>\n",
              "      <th>2020-10-25</th>\n",
              "      <td>840</td>\n",
              "      <td>NaN</td>\n",
              "      <td>6.891601</td>\n",
              "      <td>20.803961</td>\n",
              "      <td>-8.011899</td>\n",
              "      <td>2021-04-27</td>\n",
              "    </tr>\n",
              "    <tr>\n",
              "      <th>2020-11-01</th>\n",
              "      <td>840</td>\n",
              "      <td>NaN</td>\n",
              "      <td>6.702297</td>\n",
              "      <td>21.139128</td>\n",
              "      <td>-8.577721</td>\n",
              "      <td>2021-04-27</td>\n",
              "    </tr>\n",
              "  </tbody>\n",
              "</table>\n",
              "<p>2035707 rows × 6 columns</p>\n",
              "</div>"
            ],
            "text/plain": [
              "           county_code     y       yhat  yhat_upper  yhat_lower training_date\n",
              "ds                                                                           \n",
              "1995-05-24         004  67.0  41.862517   65.543071   19.887668    2021-04-27\n",
              "1995-05-25         004  34.0  42.723168   64.602289   20.128893    2021-04-27\n",
              "1995-05-26         004  34.0  44.516858   68.712103   22.355107    2021-04-27\n",
              "1995-05-27         004  33.0  41.211814   64.827527   18.870038    2021-04-27\n",
              "1995-05-28         004  38.0  40.921031   64.630683   17.777247    2021-04-27\n",
              "...                ...   ...        ...         ...         ...           ...\n",
              "2020-10-04         840   NaN   6.489588   21.061663   -8.270917    2021-04-27\n",
              "2020-10-11         840   NaN   6.581479   21.110171   -7.544153    2021-04-27\n",
              "2020-10-18         840   NaN   6.794685   20.769463   -7.043763    2021-04-27\n",
              "2020-10-25         840   NaN   6.891601   20.803961   -8.011899    2021-04-27\n",
              "2020-11-01         840   NaN   6.702297   21.139128   -8.577721    2021-04-27\n",
              "\n",
              "[2035707 rows x 6 columns]"
            ]
          },
          "metadata": {
            "tags": []
          },
          "execution_count": 94
        }
      ]
    },
    {
      "cell_type": "code",
      "metadata": {
        "colab": {
          "base_uri": "https://localhost:8080/",
          "height": 484
        },
        "id": "2-7HPLucjNYF",
        "outputId": "c0b97fb0-aae6-49f9-8a8d-27efce1a069a"
      },
      "source": [
        "final_result_df.query(\"county_code == 33\")[['y','yhat']].plot()"
      ],
      "execution_count": 97,
      "outputs": [
        {
          "output_type": "execute_result",
          "data": {
            "text/plain": [
              "<matplotlib.axes._subplots.AxesSubplot at 0x7f8eebe72510>"
            ]
          },
          "metadata": {
            "tags": []
          },
          "execution_count": 97
        },
        {
          "output_type": "display_data",
          "data": {
            "image/png": "[encoded data removed]",
            "text/plain": [
              "<Figure size 720x576 with 1 Axes>"
            ]
          },
          "metadata": {
            "tags": [],
            "needs_background": "light"
          }
        }
      ]
    },
    {
      "cell_type": "code",
      "metadata": {
        "id": "lZgxwqrojX3V"
      },
      "source": [
        ""
      ],
      "execution_count": null,
      "outputs": []
    }
  ]
}